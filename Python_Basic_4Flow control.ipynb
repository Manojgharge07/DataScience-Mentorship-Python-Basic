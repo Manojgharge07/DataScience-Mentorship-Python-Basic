{
  "nbformat": 4,
  "nbformat_minor": 0,
  "metadata": {
    "colab": {
      "name": "Python Basic_4.ipynb",
      "provenance": [],
      "authorship_tag": "ABX9TyPXEWYuuPBzAxSMf9fkuh+Q",
      "include_colab_link": true
    },
    "kernelspec": {
      "name": "python3",
      "display_name": "Python 3"
    },
    "language_info": {
      "name": "python"
    }
  },
  "cells": [
    {
      "cell_type": "markdown",
      "metadata": {
        "id": "view-in-github",
        "colab_type": "text"
      },
      "source": [
        "<a href=\"https://colab.research.google.com/github/Manojgharge07/DataScience-Mentorship-Python-Basic/blob/main/Python_Basic_4Flow%20control.ipynb\" target=\"_parent\"><img src=\"https://colab.research.google.com/assets/colab-badge.svg\" alt=\"Open In Colab\"/></a>"
      ]
    },
    {
      "cell_type": "code",
      "execution_count": null,
      "metadata": {
        "colab": {
          "base_uri": "https://localhost:8080/"
        },
        "id": "bIfhshOMHosM",
        "outputId": "dc6bfc7a-a361-4af6-da9f-9b8d418ef70f"
      },
      "outputs": [
        {
          "output_type": "stream",
          "name": "stdout",
          "text": [
            "Enter Name:Virat\n",
            "To say Hello Everyone!\n",
            "Good morning\n"
          ]
        }
      ],
      "source": [
        "#1. Conditional Statements\n",
        "#If condition is true then statements will be executed:\n",
        "x = input(\"Enter Name:\")\n",
        "\n",
        "if x==\"Virat\":\n",
        "  print(\"To say Hello Everyone!\")\n",
        "  print(\"Good morning\")\n",
        "else:\n",
        "  print(\"I am cricketer\")  "
      ]
    },
    {
      "cell_type": "code",
      "source": [
        "#If condition is true then statements will be executed.\n",
        "x = input(\"Enter Name :\")\n",
        "\n",
        "if name==\"manoj\":\n",
        "  print(\"gharge\")\n",
        "  print(\"vadgaon\")"
      ],
      "metadata": {
        "colab": {
          "base_uri": "https://localhost:8080/"
        },
        "id": "x8Vq-0gBOkZa",
        "outputId": "c759ff3f-1dea-48bd-f900-3b0be60e5c89"
      },
      "execution_count": null,
      "outputs": [
        {
          "output_type": "stream",
          "name": "stdout",
          "text": [
            "Enter Name :manoj\n",
            "gharge\n",
            "vadgaon\n"
          ]
        }
      ]
    },
    {
      "cell_type": "code",
      "source": [
        "# Write a Program to find Biggest of given 2 Numbers from the Commad Prompt?\n",
        "n1 = int(input(\"Enter First Number :\"))\n",
        "n2 = int(input(\"Enter Second Number :\"))\n",
        "\n",
        "if n1>n2:\n",
        "  print(\"Biggest Number is:\" ,n1)\n",
        "else:\n",
        "  print(\"Biggest Number is :\" ,n2)"
      ],
      "metadata": {
        "colab": {
          "base_uri": "https://localhost:8080/"
        },
        "id": "4vBro3rBPkzZ",
        "outputId": "a3eae345-5666-4537-95cf-9169fdf265b1"
      },
      "execution_count": null,
      "outputs": [
        {
          "output_type": "stream",
          "name": "stdout",
          "text": [
            "Enter First Number :24\n",
            "Enter Second Number :34\n",
            "Biggest Number is : 34\n"
          ]
        }
      ]
    },
    {
      "cell_type": "code",
      "source": [
        "# Write a Program to find Biggest of given 3 Numbers?\n",
        "n1 = int(input(\"Enter First Number :\"))\n",
        "n2 = int(input(\"Enter Second Number :\"))\n",
        "n3 = int(input(\"Enter Third Number :\"))\n",
        "\n",
        "if n1>n2 and n1>n3:\n",
        "  print(\"Biggest Number is:\" ,n1)\n",
        "elif n2>n1 and n2>n3:   \n",
        "  print(\"Biggest Number is:\" ,n2)\n",
        "else:\n",
        "  print(\"Biggest Number is:\" ,n3)"
      ],
      "metadata": {
        "colab": {
          "base_uri": "https://localhost:8080/"
        },
        "id": "RmyTonMUUu5d",
        "outputId": "a4a82725-3850-47e2-dc4b-3ef47353505f"
      },
      "execution_count": null,
      "outputs": [
        {
          "output_type": "stream",
          "name": "stdout",
          "text": [
            "Enter First Number :20\n",
            "Enter Second Number :22\n",
            "Enter Third Number :18\n",
            "Biggest Number is: 22\n"
          ]
        }
      ]
    },
    {
      "cell_type": "code",
      "source": [
        "# Write a Program to find Smallest of given 2 Numbers?\n",
        "n1 = int(input(\"Enter First Number :\"))\n",
        "n2 = int(input(\"Enter Second Number :\"))\n",
        "if n1<n2:\n",
        "  print(\"Smallest Number Is : \" ,n1)\n",
        "else:\n",
        "  print(\"Smallest Number Is : \" ,n2)  "
      ],
      "metadata": {
        "colab": {
          "base_uri": "https://localhost:8080/"
        },
        "id": "Bpyq17T4aneO",
        "outputId": "f060e1ae-3ef8-4c49-d766-9f31540ead10"
      },
      "execution_count": null,
      "outputs": [
        {
          "output_type": "stream",
          "name": "stdout",
          "text": [
            "Enter First Number :30\n",
            "Enter Second Number :22\n",
            "Smallest Number Is :  22\n"
          ]
        }
      ]
    },
    {
      "cell_type": "code",
      "source": [
        "# Write a Program to find Smallest of given 3 Numbers?\n",
        "n1 = int(input(\"Enter First Number : \"))\n",
        "n2 = int(input(\"Enter Second Number : \"))\n",
        "n3 = int(input(\"Enter Third Number : \"))\n",
        "if n1<n2 and n1<n3:\n",
        "  print(\"Smallest Number is : \" ,n1)\n",
        "elif n2<n3 and n2<n1:\n",
        "  print(\"Smallest number is : \" ,n2)\n",
        "else:\n",
        "  print(\"smallest Number is : \" ,n3)"
      ],
      "metadata": {
        "colab": {
          "base_uri": "https://localhost:8080/"
        },
        "id": "pZAJK_aeowUT",
        "outputId": "ceddadc4-4e22-4be5-8357-df649534309a"
      },
      "execution_count": null,
      "outputs": [
        {
          "output_type": "stream",
          "name": "stdout",
          "text": [
            "Enter First Number : 76\n",
            "Enter Second Number : 34\n",
            "Enter Third Number : 42\n",
            "Smallest number is :  34\n"
          ]
        }
      ]
    },
    {
      "cell_type": "code",
      "source": [
        "#Write a program to check whether the given number is even or odd?\n",
        "x=int(input(\"Enter First Number :\"))\n",
        "\n",
        "if x%2==0:\n",
        "  print(\"This is even number\" ,x)\n",
        "else:\n",
        "  print(\"This is odd number\" ,x)  "
      ],
      "metadata": {
        "colab": {
          "base_uri": "https://localhost:8080/"
        },
        "id": "i7IQaQ3LrfEf",
        "outputId": "a4cadb3d-06ac-407c-a698-3f466c68acf1"
      },
      "execution_count": null,
      "outputs": [
        {
          "output_type": "stream",
          "name": "stdout",
          "text": [
            "Enter First Number :45\n",
            "This is odd number 45\n"
          ]
        }
      ]
    },
    {
      "cell_type": "code",
      "source": [
        "# To print characters present in the given string:\n",
        "x = \"mathematics\"\n",
        "for y in x:\n",
        "  print(y)"
      ],
      "metadata": {
        "colab": {
          "base_uri": "https://localhost:8080/"
        },
        "id": "xa0rPwzUvo4S",
        "outputId": "238f8058-f3ef-49fe-863c-968f7aee6d15"
      },
      "execution_count": null,
      "outputs": [
        {
          "output_type": "stream",
          "name": "stdout",
          "text": [
            "m\n",
            "a\n",
            "t\n",
            "h\n",
            "e\n",
            "m\n",
            "a\n",
            "t\n",
            "i\n",
            "c\n",
            "s\n"
          ]
        }
      ]
    },
    {
      "cell_type": "code",
      "source": [
        "# To print characters present in the given string:\n",
        "m = \"data scientist\"\n",
        "for n in  m:\n",
        "  print(n, end= ' ')"
      ],
      "metadata": {
        "colab": {
          "base_uri": "https://localhost:8080/"
        },
        "id": "P1XQSxBywwjE",
        "outputId": "28f40c0c-b852-445d-8fcd-ece8bd6aff5f"
      },
      "execution_count": null,
      "outputs": [
        {
          "output_type": "stream",
          "name": "stdout",
          "text": [
            "d a t a   s c i e n t i s t "
          ]
        }
      ]
    },
    {
      "cell_type": "code",
      "source": [
        "# To print Success 10 times:\n",
        "for x in range(12):\n",
        "  print(\"Success\")"
      ],
      "metadata": {
        "colab": {
          "base_uri": "https://localhost:8080/"
        },
        "id": "R0PyYEUFyEQC",
        "outputId": "c417702e-91b8-4c52-8bd8-75bd60c5a72a"
      },
      "execution_count": null,
      "outputs": [
        {
          "output_type": "stream",
          "name": "stdout",
          "text": [
            "Success\n",
            "Success\n",
            "Success\n",
            "Success\n",
            "Success\n",
            "Success\n",
            "Success\n",
            "Success\n",
            "Success\n",
            "Success\n",
            "Success\n",
            "Success\n"
          ]
        }
      ]
    },
    {
      "cell_type": "code",
      "source": [
        "# To display odd numbers from 0 to 29:\n",
        "for i in range (30):\n",
        "  if (i%2 !=0):\n",
        "    print(i)"
      ],
      "metadata": {
        "colab": {
          "base_uri": "https://localhost:8080/"
        },
        "id": "roaD5hArzNnF",
        "outputId": "0a9094ca-ec91-4100-c633-1a6ed48d566c"
      },
      "execution_count": null,
      "outputs": [
        {
          "output_type": "stream",
          "name": "stdout",
          "text": [
            "1\n",
            "3\n",
            "5\n",
            "7\n",
            "9\n",
            "11\n",
            "13\n",
            "15\n",
            "17\n",
            "19\n",
            "21\n",
            "23\n",
            "25\n",
            "27\n",
            "29\n"
          ]
        }
      ]
    },
    {
      "cell_type": "code",
      "source": [
        "# To display odd numbers from 0 to 15:\n",
        "for m in range(16):\n",
        "  if (m%2==0):\n",
        "    print(m)"
      ],
      "metadata": {
        "colab": {
          "base_uri": "https://localhost:8080/"
        },
        "id": "aq9V21js0gfu",
        "outputId": "7c0f8257-78db-4f18-bc07-7c44c9f43420"
      },
      "execution_count": null,
      "outputs": [
        {
          "output_type": "stream",
          "name": "stdout",
          "text": [
            "0\n",
            "2\n",
            "4\n",
            "6\n",
            "8\n",
            "10\n",
            "12\n",
            "14\n"
          ]
        }
      ]
    },
    {
      "cell_type": "code",
      "source": [
        "# To display numbers from 15 to 1 in descending order:\n",
        "for a in range(15, 0, -1):\n",
        "  print(a)"
      ],
      "metadata": {
        "colab": {
          "base_uri": "https://localhost:8080/"
        },
        "id": "WrupxHvv1AaO",
        "outputId": "8bb1540e-af9c-4a6d-8399-0136b6241d52"
      },
      "execution_count": null,
      "outputs": [
        {
          "output_type": "stream",
          "name": "stdout",
          "text": [
            "15\n",
            "14\n",
            "13\n",
            "12\n",
            "11\n",
            "10\n",
            "9\n",
            "8\n",
            "7\n",
            "6\n",
            "5\n",
            "4\n",
            "3\n",
            "2\n",
            "1\n"
          ]
        }
      ]
    },
    {
      "cell_type": "code",
      "source": [
        "# To print sum of numbers presenst inside list\n",
        "a =eval(input(\"Enter List : \"))\n",
        "sum=0\n",
        "for x in a:\n",
        " sum=sum+x;\n",
        "print(\"The Sum=\",sum)"
      ],
      "metadata": {
        "colab": {
          "base_uri": "https://localhost:8080/"
        },
        "id": "_ZDC3m803Svz",
        "outputId": "4f4c3050-b21b-4b4c-9808-07b0346ec68c"
      },
      "execution_count": null,
      "outputs": [
        {
          "output_type": "stream",
          "name": "stdout",
          "text": [
            "Enter List : 12, 13,14,15\n",
            "The Sum= 54\n"
          ]
        }
      ]
    },
    {
      "cell_type": "code",
      "source": [
        "#2) While Loop:\n",
        "# To print numbers from 1 to 15 by using while loop:\n",
        "m = 1\n",
        "while m<=15:\n",
        "  print(m)\n",
        "  m=m+1  "
      ],
      "metadata": {
        "id": "MvdZ9FR54Qgu",
        "outputId": "545ffe3c-5359-4b19-88d6-57ea11d9d604",
        "colab": {
          "base_uri": "https://localhost:8080/"
        }
      },
      "execution_count": null,
      "outputs": [
        {
          "output_type": "stream",
          "name": "stdout",
          "text": [
            "1\n",
            "2\n",
            "3\n",
            "4\n",
            "5\n",
            "6\n",
            "7\n",
            "8\n",
            "9\n",
            "10\n",
            "11\n",
            "12\n",
            "13\n",
            "14\n",
            "15\n"
          ]
        }
      ]
    },
    {
      "cell_type": "code",
      "source": [
        "# To print even numbers from 2 to 16 by using while loop:\n",
        "a = 2\n",
        "while a<=16:\n",
        "  a+=2\n",
        "  print(a)"
      ],
      "metadata": {
        "id": "4wyhQhVJGpuf",
        "outputId": "7d1a77cb-778b-4e61-9d15-8b372352d76d",
        "colab": {
          "base_uri": "https://localhost:8080/"
        }
      },
      "execution_count": null,
      "outputs": [
        {
          "output_type": "stream",
          "name": "stdout",
          "text": [
            "4\n",
            "6\n",
            "8\n",
            "10\n",
            "12\n",
            "14\n",
            "16\n",
            "18\n"
          ]
        }
      ]
    },
    {
      "cell_type": "code",
      "source": [
        "# To display the sum of first n numbers:\n",
        "n=int(input(\"Enter number: \"))\n",
        "sum=0\n",
        "i=1\n",
        "while i<=n:\n",
        "  sum=sum+i\n",
        "  i=i+1\n",
        "print(\"The sum of first\" ,n, \"number is:\" ,sum)"
      ],
      "metadata": {
        "id": "nidRgCSTHR1Q",
        "outputId": "4b79edd2-d085-4950-eff5-2fb66c242ae3",
        "colab": {
          "base_uri": "https://localhost:8080/"
        }
      },
      "execution_count": null,
      "outputs": [
        {
          "output_type": "stream",
          "name": "stdout",
          "text": [
            "Enter number: 7\n",
            "The sum of first 7 number is: 28\n"
          ]
        }
      ]
    },
    {
      "cell_type": "code",
      "source": [
        "# To display the sum of first n numbers:\n",
        "n=int(input(\"Enter Number :\" ))\n",
        "sum=0\n",
        "a=1\n",
        "while a<=n:\n",
        "  sum=sum+a\n",
        "  a=a+1\n",
        "print(\"The Sum of first\" ,n, \"number is :\" ,sum)  "
      ],
      "metadata": {
        "id": "RPSaXHXnMl2y",
        "outputId": "68e42b02-96c5-41d1-dc11-952a752ef61f",
        "colab": {
          "base_uri": "https://localhost:8080/"
        }
      },
      "execution_count": null,
      "outputs": [
        {
          "output_type": "stream",
          "name": "stdout",
          "text": [
            "Enter Number :4\n",
            "The Sum of first 4 number is : 10\n"
          ]
        }
      ]
    },
    {
      "cell_type": "code",
      "source": [
        "#Nested Loop:\n",
        "for m in range(5):\n",
        "  for n in range(5):\n",
        "    print(\"m\" ,m, \"n\" ,n )"
      ],
      "metadata": {
        "id": "RW5ELZUUQII-",
        "outputId": "7c77ae4e-ff89-4be1-d48c-06e4f5099f19",
        "colab": {
          "base_uri": "https://localhost:8080/"
        }
      },
      "execution_count": null,
      "outputs": [
        {
          "output_type": "stream",
          "name": "stdout",
          "text": [
            "m 0 n 0\n",
            "m 0 n 1\n",
            "m 0 n 2\n",
            "m 0 n 3\n",
            "m 0 n 4\n",
            "m 1 n 0\n",
            "m 1 n 1\n",
            "m 1 n 2\n",
            "m 1 n 3\n",
            "m 1 n 4\n",
            "m 2 n 0\n",
            "m 2 n 1\n",
            "m 2 n 2\n",
            "m 2 n 3\n",
            "m 2 n 4\n",
            "m 3 n 0\n",
            "m 3 n 1\n",
            "m 3 n 2\n",
            "m 3 n 3\n",
            "m 3 n 4\n",
            "m 4 n 0\n",
            "m 4 n 1\n",
            "m 4 n 2\n",
            "m 4 n 3\n",
            "m 4 n 4\n"
          ]
        }
      ]
    },
    {
      "cell_type": "code",
      "source": [
        "# a Program to dispaly *'s in Right Angled Triangled Form:\n",
        "x=int(input(\"Enter number of rows : \"))\n",
        "\n",
        "for i in range(0,x):\n",
        "  for j in range(0,i+1):\n",
        "    print(\"*\" ,end='') \n",
        "  print()"
      ],
      "metadata": {
        "id": "enwfxgsK03DB",
        "outputId": "0c8d2c2e-b094-44cb-edc7-45d86cbfbbd8",
        "colab": {
          "base_uri": "https://localhost:8080/"
        }
      },
      "execution_count": null,
      "outputs": [
        {
          "output_type": "stream",
          "name": "stdout",
          "text": [
            "Enter number of rows : 7\n",
            "*\n",
            "**\n",
            "***\n",
            "****\n",
            "*****\n",
            "******\n",
            "*******\n"
          ]
        }
      ]
    },
    {
      "cell_type": "code",
      "source": [
        "# for downwoed side:\n",
        "x=int(input(\"Number of rows : \"))\n",
        "for i in range(x+1, 0, -1):\n",
        "  for j in range(0,i):\n",
        "    print(\"*\" ,end='')\n",
        "  print()"
      ],
      "metadata": {
        "id": "hg-ay1zH5FKx",
        "outputId": "de7c94f3-25e6-4769-8c72-59a8c32b4e48",
        "colab": {
          "base_uri": "https://localhost:8080/"
        }
      },
      "execution_count": null,
      "outputs": [
        {
          "output_type": "stream",
          "name": "stdout",
          "text": [
            "Number of rows : 5\n",
            "******\n",
            "*****\n",
            "****\n",
            "***\n",
            "**\n",
            "*\n"
          ]
        }
      ]
    },
    {
      "cell_type": "code",
      "source": [
        "#break statement:\n",
        "for i in range(5,20):\n",
        "  if i==15:\n",
        "    break\n",
        "  print(i)"
      ],
      "metadata": {
        "id": "WN8C9wMe8DcV",
        "outputId": "a6a2ebe5-5aae-4f5b-ff8c-fe5a98ccd49c",
        "colab": {
          "base_uri": "https://localhost:8080/"
        }
      },
      "execution_count": null,
      "outputs": [
        {
          "output_type": "stream",
          "name": "stdout",
          "text": [
            "5\n",
            "6\n",
            "7\n",
            "8\n",
            "9\n",
            "10\n",
            "11\n",
            "12\n",
            "13\n",
            "14\n"
          ]
        }
      ]
    },
    {
      "cell_type": "code",
      "source": [
        "#using break statement:\n",
        "x=eval(input(\"Enters cars price: \"))\n",
        "for i in x:\n",
        "  if i>=500:\n",
        "    break\n",
        "  print(\"Average Budjet\" ,i)\n",
        "print()  "
      ],
      "metadata": {
        "id": "PCq3Vber9Po5",
        "outputId": "843a953f-048d-4ced-fa3e-6cbd4bfd9098",
        "colab": {
          "base_uri": "https://localhost:8080/"
        }
      },
      "execution_count": null,
      "outputs": [
        {
          "output_type": "stream",
          "name": "stdout",
          "text": [
            "Enters cars price: 200, 150,350, 400, 650, 700, 300\n",
            "Average Budjet 200\n",
            "Average Budjet 150\n",
            "Average Budjet 350\n",
            "Average Budjet 400\n",
            "\n"
          ]
        }
      ]
    },
    {
      "cell_type": "code",
      "source": [
        "#continue statement:\n",
        "x= eval(input(\"enter your order list:=\"))\n",
        "for i in x:\n",
        "  if i>=70:\n",
        "    continue               \n",
        "  print(\"your %d burgers will be deliver in 30 mins \"%(i))"
      ],
      "metadata": {
        "id": "uZXEbcS3BKzk",
        "outputId": "1e019c63-ebe4-43dc-d969-220b7b5178e9",
        "colab": {
          "base_uri": "https://localhost:8080/"
        }
      },
      "execution_count": null,
      "outputs": [
        {
          "output_type": "stream",
          "name": "stdout",
          "text": [
            "enter your order list:=40, 50, 20, 80, 100, 55\n",
            "your 40 burgers will be deliver in 30 mins \n",
            "your 50 burgers will be deliver in 30 mins \n",
            "your 20 burgers will be deliver in 30 mins \n",
            "your 55 burgers will be deliver in 30 mins \n"
          ]
        }
      ]
    },
    {
      "cell_type": "code",
      "source": [
        "#else:\n",
        "x = [20,86,565,598,765,85,249,465]\n",
        "for i in x:\n",
        "  if i>=500:\n",
        "    print(\"I dont have this items\",i)\n",
        "    continue\n",
        "  else:\n",
        "    print(i)"
      ],
      "metadata": {
        "id": "A2Ch5QQ5DrE7",
        "outputId": "7c5b9152-11ac-4600-933f-5746f09da510",
        "colab": {
          "base_uri": "https://localhost:8080/"
        }
      },
      "execution_count": null,
      "outputs": [
        {
          "output_type": "stream",
          "name": "stdout",
          "text": [
            "20\n",
            "86\n",
            "I dont have this items 565\n",
            "I dont have this items 598\n",
            "I dont have this items 765\n",
            "85\n",
            "249\n",
            "465\n"
          ]
        }
      ]
    },
    {
      "cell_type": "code",
      "source": [
        "#pass statement:\n",
        "for i in range(200,300):\n",
        "  if i%4==0:\n",
        "    print(i)\n",
        "  else:\n",
        "  pass"
      ],
      "metadata": {
        "id": "1iJRx4UMEq_A",
        "outputId": "1e1f772f-f986-4d8f-fc13-2c342e832e0d",
        "colab": {
          "base_uri": "https://localhost:8080/",
          "height": 131
        }
      },
      "execution_count": null,
      "outputs": [
        {
          "output_type": "error",
          "ename": "IndentationError",
          "evalue": "ignored",
          "traceback": [
            "\u001b[0;36m  File \u001b[0;32m\"<ipython-input-100-b419d9ebe740>\"\u001b[0;36m, line \u001b[0;32m6\u001b[0m\n\u001b[0;31m    pass\u001b[0m\n\u001b[0m       ^\u001b[0m\n\u001b[0;31mIndentationError\u001b[0m\u001b[0;31m:\u001b[0m expected an indented block\n"
          ]
        }
      ]
    },
    {
      "cell_type": "code",
      "source": [
        "for i in range(100,200):\n",
        "  if i%7==0:\n",
        "    print(i)\n",
        "  else:\n",
        "    pass"
      ],
      "metadata": {
        "id": "JpnvAIMdHrnY",
        "outputId": "c5e5c5ee-75cd-46bc-d9a2-250f22bcaf5f",
        "colab": {
          "base_uri": "https://localhost:8080/"
        }
      },
      "execution_count": null,
      "outputs": [
        {
          "output_type": "stream",
          "name": "stdout",
          "text": [
            "105\n",
            "112\n",
            "119\n",
            "126\n",
            "133\n",
            "140\n",
            "147\n",
            "154\n",
            "161\n",
            "168\n",
            "175\n",
            "182\n",
            "189\n",
            "196\n"
          ]
        }
      ]
    }
  ]
}