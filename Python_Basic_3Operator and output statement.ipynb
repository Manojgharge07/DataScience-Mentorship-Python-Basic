{
  "nbformat": 4,
  "nbformat_minor": 0,
  "metadata": {
    "colab": {
      "name": "Python Basic_3.ipynb",
      "provenance": [],
      "collapsed_sections": [],
      "authorship_tag": "ABX9TyPwCcJMG25hs3ARl7dmgUFr",
      "include_colab_link": true
    },
    "kernelspec": {
      "name": "python3",
      "display_name": "Python 3"
    },
    "language_info": {
      "name": "python"
    }
  },
  "cells": [
    {
      "cell_type": "markdown",
      "metadata": {
        "id": "view-in-github",
        "colab_type": "text"
      },
      "source": [
        "<a href=\"https://colab.research.google.com/github/Manojgharge07/DataScience-Mentorship-Python-Basic/blob/main/Python_Basic_3Operator%20and%20output%20statement.ipynb\" target=\"_parent\"><img src=\"https://colab.research.google.com/assets/colab-badge.svg\" alt=\"Open In Colab\"/></a>"
      ]
    },
    {
      "cell_type": "code",
      "execution_count": null,
      "metadata": {
        "colab": {
          "base_uri": "https://localhost:8080/"
        },
        "id": "VAQjPl0NNMIG",
        "outputId": "7ac7df35-207f-47c5-c788-5b22ca91628f"
      },
      "outputs": [
        {
          "output_type": "stream",
          "name": "stdout",
          "text": [
            "x+y= 24\n",
            "x-y= 16\n",
            "x*y= 80\n",
            "x/y= 5.0\n"
          ]
        }
      ],
      "source": [
        "#Arithmatic Operator:\n",
        "# Add, Substract, Multiple, Division:\n",
        "x = 20\n",
        "y = 4\n",
        "print('x+y=' ,x+y)    \n",
        "print('x-y=' ,x-y)\n",
        "print('x*y=' ,x*y)\n",
        "print(\"x/y=\" ,x/y)"
      ]
    },
    {
      "cell_type": "code",
      "source": [
        "#Modulo, Floor Division Operator, Exponent Operator OR Power Operator:\n",
        "a = 15\n",
        "b = 5\n",
        "print('a%b=' ,a%b)\n",
        "print('a//b=' ,a//b)\n",
        "print('a**b=' ,a**b)"
      ],
      "metadata": {
        "colab": {
          "base_uri": "https://localhost:8080/"
        },
        "id": "0w4pWGaPdCZO",
        "outputId": "8b32094c-1eb9-4da0-b951-1d14fc320b4e"
      },
      "execution_count": null,
      "outputs": [
        {
          "output_type": "stream",
          "name": "stdout",
          "text": [
            "a%b= 0\n",
            "a//b= 3\n",
            "a**b= 759375\n"
          ]
        }
      ]
    },
    {
      "cell_type": "code",
      "source": [
        "# Relation Operator:\n",
        "m = 30 \n",
        "n = 50\n",
        "print(\"m < n is \" ,m<n)\n",
        "print('m > n is' ,m>n)\n",
        "print(\"m <= n is\" ,m<=n)\n",
        "print(\"m >= n is\" ,m>=n)"
      ],
      "metadata": {
        "colab": {
          "base_uri": "https://localhost:8080/"
        },
        "id": "QlQrb8lGenAr",
        "outputId": "ee1774a8-ad40-4da9-cd86-4ccbdaa64722"
      },
      "execution_count": null,
      "outputs": [
        {
          "output_type": "stream",
          "name": "stdout",
          "text": [
            "m < n is  True\n",
            "m > n is False\n",
            "m <= n is True\n",
            "m >= n is False\n"
          ]
        }
      ]
    },
    {
      "cell_type": "code",
      "source": [
        "m = 25\n",
        "n = 25\n",
        "print(\"m < n is\" ,m<n)\n",
        "print(\"m > n is\" ,m>n)\n",
        "print(\"m <= n is\" ,m<=n)\n",
        "print(\"m >= n is\" ,m>=n)"
      ],
      "metadata": {
        "colab": {
          "base_uri": "https://localhost:8080/"
        },
        "id": "8npvwiQwg50X",
        "outputId": "42c9a243-884e-4f25-fbfc-a0cc23a021d6"
      },
      "execution_count": null,
      "outputs": [
        {
          "output_type": "stream",
          "name": "stdout",
          "text": [
            "m < n is False\n",
            "m > n is False\n",
            "m <= n is True\n",
            "m >= n is True\n"
          ]
        }
      ]
    },
    {
      "cell_type": "code",
      "source": [
        "# Equality Operators:\n",
        "35 == 35\n",
        "35 == 25\n",
        "35 != 35\n",
        "35 != 25"
      ],
      "metadata": {
        "colab": {
          "base_uri": "https://localhost:8080/"
        },
        "id": "tPRb3L1FhqgW",
        "outputId": "f4f50b13-3a6a-4549-db45-e16dbf027d94"
      },
      "execution_count": null,
      "outputs": [
        {
          "output_type": "execute_result",
          "data": {
            "text/plain": [
              "True"
            ]
          },
          "metadata": {},
          "execution_count": 19
        }
      ]
    },
    {
      "cell_type": "code",
      "source": [
        "20 != 15"
      ],
      "metadata": {
        "colab": {
          "base_uri": "https://localhost:8080/"
        },
        "id": "WPlkuBQBicPV",
        "outputId": "02be00f0-d33b-4c05-d523-c72244a490a3"
      },
      "execution_count": null,
      "outputs": [
        {
          "output_type": "execute_result",
          "data": {
            "text/plain": [
              "True"
            ]
          },
          "metadata": {},
          "execution_count": 22
        }
      ]
    },
    {
      "cell_type": "code",
      "source": [
        "20 != 20"
      ],
      "metadata": {
        "colab": {
          "base_uri": "https://localhost:8080/"
        },
        "id": "rA6CsgtRiu7o",
        "outputId": "251adab1-67ba-4731-da8a-9aeb53db885f"
      },
      "execution_count": null,
      "outputs": [
        {
          "output_type": "execute_result",
          "data": {
            "text/plain": [
              "False"
            ]
          },
          "metadata": {},
          "execution_count": 24
        }
      ]
    },
    {
      "cell_type": "code",
      "source": [
        "True == True"
      ],
      "metadata": {
        "colab": {
          "base_uri": "https://localhost:8080/"
        },
        "id": "ATjYTbPBiz5m",
        "outputId": "82f0eea6-f0ec-4637-9566-d8b4012c580b"
      },
      "execution_count": null,
      "outputs": [
        {
          "output_type": "execute_result",
          "data": {
            "text/plain": [
              "True"
            ]
          },
          "metadata": {},
          "execution_count": 26
        }
      ]
    },
    {
      "cell_type": "code",
      "source": [
        "True != False"
      ],
      "metadata": {
        "colab": {
          "base_uri": "https://localhost:8080/"
        },
        "id": "vNmQB9nbi86d",
        "outputId": "8fecbcec-2d05-4e95-f140-eb197bd29096"
      },
      "execution_count": null,
      "outputs": [
        {
          "output_type": "execute_result",
          "data": {
            "text/plain": [
              "True"
            ]
          },
          "metadata": {},
          "execution_count": 28
        }
      ]
    },
    {
      "cell_type": "code",
      "source": [
        "False == True"
      ],
      "metadata": {
        "colab": {
          "base_uri": "https://localhost:8080/"
        },
        "id": "rYFSNBwCjDCJ",
        "outputId": "1d8f2e74-c33e-4cbb-e7ea-178bb5fb1a3c"
      },
      "execution_count": null,
      "outputs": [
        {
          "output_type": "execute_result",
          "data": {
            "text/plain": [
              "False"
            ]
          },
          "metadata": {},
          "execution_count": 30
        }
      ]
    },
    {
      "cell_type": "code",
      "source": [
        "# If first argument is zero then result is zero otherwise result is y:\n",
        "10 and 30\n",
        "\n"
      ],
      "metadata": {
        "colab": {
          "base_uri": "https://localhost:8080/"
        },
        "id": "KTqtPrFtjudv",
        "outputId": "11f2d87b-ac41-4a22-9dbb-fdfca1cabec2"
      },
      "execution_count": null,
      "outputs": [
        {
          "output_type": "execute_result",
          "data": {
            "text/plain": [
              "30"
            ]
          },
          "metadata": {},
          "execution_count": 33
        }
      ]
    },
    {
      "cell_type": "code",
      "source": [
        "0 and 70"
      ],
      "metadata": {
        "colab": {
          "base_uri": "https://localhost:8080/"
        },
        "id": "i7vt_sxFlpFL",
        "outputId": "ecc415e5-10a6-43ae-8525-d94773048ed1"
      },
      "execution_count": null,
      "outputs": [
        {
          "output_type": "execute_result",
          "data": {
            "text/plain": [
              "0"
            ]
          },
          "metadata": {},
          "execution_count": 35
        }
      ]
    },
    {
      "cell_type": "code",
      "source": [
        "0 or 50"
      ],
      "metadata": {
        "colab": {
          "base_uri": "https://localhost:8080/"
        },
        "id": "Fy7u8nVIluQX",
        "outputId": "426cf3fd-6e4d-468d-c895-b236f99081c2"
      },
      "execution_count": null,
      "outputs": [
        {
          "output_type": "execute_result",
          "data": {
            "text/plain": [
              "50"
            ]
          },
          "metadata": {},
          "execution_count": 37
        }
      ]
    },
    {
      "cell_type": "code",
      "source": [
        "20 or 40"
      ],
      "metadata": {
        "colab": {
          "base_uri": "https://localhost:8080/"
        },
        "id": "Ku2oDmaHlzWs",
        "outputId": "22376fa9-079d-4590-a010-a76f39bbe394"
      },
      "execution_count": null,
      "outputs": [
        {
          "output_type": "execute_result",
          "data": {
            "text/plain": [
              "20"
            ]
          },
          "metadata": {},
          "execution_count": 44
        }
      ]
    },
    {
      "cell_type": "code",
      "source": [
        "# Airithmatic Operator:\n",
        "#1 Addition, Substraction, Multiplication, Division:\n",
        "x = 20 \n",
        "y = 4\n",
        "print(\"x+y=\" ,x+y)\n",
        "print(\"x-y=\" ,x-y)\n",
        "print(\"x*y=\" ,x*y)\n",
        "print(\"x/y=\" ,x/y)"
      ],
      "metadata": {
        "id": "FsUMKJdTms1A",
        "colab": {
          "base_uri": "https://localhost:8080/"
        },
        "outputId": "f0733ecf-0537-428d-9446-9c174bd2608e"
      },
      "execution_count": null,
      "outputs": [
        {
          "output_type": "stream",
          "name": "stdout",
          "text": [
            "x+y= 24\n",
            "x-y= 16\n",
            "x*y= 80\n",
            "x/y= 5.0\n"
          ]
        }
      ]
    },
    {
      "cell_type": "code",
      "source": [
        "#2 Modulo, Floor Division Operator, Exponent Operator OR Power Operator:\n",
        "a = 18\n",
        "b = 3\n",
        "print(\"a%b=\" ,a%b)\n",
        "print(\"a//b=\" ,a//b)\n",
        "print(\"a**b=\" ,a**b)"
      ],
      "metadata": {
        "colab": {
          "base_uri": "https://localhost:8080/"
        },
        "id": "r-ccUhSPodUt",
        "outputId": "4fcf05ff-d920-4733-f1aa-6d1fdcee1c29"
      },
      "execution_count": null,
      "outputs": [
        {
          "output_type": "stream",
          "name": "stdout",
          "text": [
            "a%b= 0\n",
            "a//b= 6\n",
            "a**b= 5832\n"
          ]
        }
      ]
    },
    {
      "cell_type": "code",
      "source": [
        "# Relation Operator:\n",
        "m = 40\n",
        "n = 20\n",
        "print('m < n is' ,m<n)\n",
        "print('m > n is' ,m>n)\n",
        "print('m <= n is' ,m<=n)\n",
        "print('m >= n is' ,m>=n)"
      ],
      "metadata": {
        "colab": {
          "base_uri": "https://localhost:8080/"
        },
        "id": "W25xljWKpYiI",
        "outputId": "63ee5d15-1171-498d-febb-70fd1c7a63e3"
      },
      "execution_count": null,
      "outputs": [
        {
          "output_type": "stream",
          "name": "stdout",
          "text": [
            "m < n is False\n",
            "m > n is True\n",
            "m <= n is False\n",
            "m >= n is True\n"
          ]
        }
      ]
    },
    {
      "cell_type": "code",
      "source": [
        "m = 20\n",
        "n = 20\n",
        "print('m < n is' ,m<n)\n",
        "print('m > n is' ,m>n)\n",
        "print('m <= n is' ,m<=n)\n",
        "print('m >= n is' ,m>=n)"
      ],
      "metadata": {
        "colab": {
          "base_uri": "https://localhost:8080/"
        },
        "id": "VWxU8v-Hqevc",
        "outputId": "b309cd82-54ee-42f8-973f-030a92a709c3"
      },
      "execution_count": null,
      "outputs": [
        {
          "output_type": "stream",
          "name": "stdout",
          "text": [
            "m < n is False\n",
            "m > n is False\n",
            "m <= n is True\n",
            "m >= n is True\n"
          ]
        }
      ]
    },
    {
      "cell_type": "code",
      "source": [
        "#1 Equality Operator:\n",
        "a == 10"
      ],
      "metadata": {
        "colab": {
          "base_uri": "https://localhost:8080/"
        },
        "id": "WGq0ayrCqtVC",
        "outputId": "026062c7-9f4f-48d5-e8f3-47dd12c0d453"
      },
      "execution_count": null,
      "outputs": [
        {
          "output_type": "execute_result",
          "data": {
            "text/plain": [
              "False"
            ]
          },
          "metadata": {},
          "execution_count": 16
        }
      ]
    },
    {
      "cell_type": "code",
      "source": [
        "#2\n",
        "20 == 20"
      ],
      "metadata": {
        "colab": {
          "base_uri": "https://localhost:8080/"
        },
        "id": "e34mK6x6r9a_",
        "outputId": "438181d3-ce83-4b10-c636-c24f7c8b957f"
      },
      "execution_count": null,
      "outputs": [
        {
          "output_type": "execute_result",
          "data": {
            "text/plain": [
              "True"
            ]
          },
          "metadata": {},
          "execution_count": 18
        }
      ]
    },
    {
      "cell_type": "code",
      "source": [
        "#3\n",
        "20 == 25"
      ],
      "metadata": {
        "colab": {
          "base_uri": "https://localhost:8080/"
        },
        "id": "xGRu3jNPsC2U",
        "outputId": "95832768-6add-4933-f35d-cbafbc1f16a5"
      },
      "execution_count": null,
      "outputs": [
        {
          "output_type": "execute_result",
          "data": {
            "text/plain": [
              "False"
            ]
          },
          "metadata": {},
          "execution_count": 24
        }
      ]
    },
    {
      "cell_type": "code",
      "source": [
        "#4\n",
        "20 != 25"
      ],
      "metadata": {
        "colab": {
          "base_uri": "https://localhost:8080/"
        },
        "id": "_bumZ8fDsudF",
        "outputId": "8192368c-74b4-4b88-a679-67a360633c3a"
      },
      "execution_count": null,
      "outputs": [
        {
          "output_type": "execute_result",
          "data": {
            "text/plain": [
              "True"
            ]
          },
          "metadata": {},
          "execution_count": 29
        }
      ]
    },
    {
      "cell_type": "code",
      "source": [
        "#Logical Operators:\n",
        "#x and y:\n",
        "#If first argument is twenty then result is twenty otherwise result is y:\n",
        "20 and 30"
      ],
      "metadata": {
        "colab": {
          "base_uri": "https://localhost:8080/"
        },
        "id": "HrmFslmbtELA",
        "outputId": "9cddb0d6-c46a-4056-ad34-1f30993a67f9"
      },
      "execution_count": null,
      "outputs": [
        {
          "output_type": "execute_result",
          "data": {
            "text/plain": [
              "30"
            ]
          },
          "metadata": {},
          "execution_count": 28
        }
      ]
    },
    {
      "cell_type": "code",
      "source": [
        "25 and 45"
      ],
      "metadata": {
        "colab": {
          "base_uri": "https://localhost:8080/"
        },
        "id": "bVTKNperwyv1",
        "outputId": "059e32b1-9ac3-4eac-af00-39bf31dea7b4"
      },
      "execution_count": null,
      "outputs": [
        {
          "output_type": "execute_result",
          "data": {
            "text/plain": [
              "45"
            ]
          },
          "metadata": {},
          "execution_count": 39
        }
      ]
    },
    {
      "cell_type": "code",
      "source": [
        "#If first argument is zero then result is zero otherwise result is y:\n",
        "0 and 10\n"
      ],
      "metadata": {
        "colab": {
          "base_uri": "https://localhost:8080/"
        },
        "id": "wqMB901oxWuV",
        "outputId": "508ce047-6650-408b-e261-6794d81122ee"
      },
      "execution_count": null,
      "outputs": [
        {
          "output_type": "execute_result",
          "data": {
            "text/plain": [
              "0"
            ]
          },
          "metadata": {},
          "execution_count": 44
        }
      ]
    },
    {
      "cell_type": "code",
      "source": [
        "#If first argument is ten then result is ten otherwise result is y:\n",
        "10 and 25"
      ],
      "metadata": {
        "colab": {
          "base_uri": "https://localhost:8080/"
        },
        "id": "al1WAoz9zw0P",
        "outputId": "e5c1ac5e-2e99-4a55-93d9-72000162a1a7"
      },
      "execution_count": null,
      "outputs": [
        {
          "output_type": "execute_result",
          "data": {
            "text/plain": [
              "25"
            ]
          },
          "metadata": {},
          "execution_count": 48
        }
      ]
    },
    {
      "cell_type": "code",
      "source": [
        "#x or y:\n",
        "#If x evaluates to True then result is x otherwise result is y\n",
        "print(20 or 30)\n",
        "70 or 50\n",
        "0 or 40"
      ],
      "metadata": {
        "colab": {
          "base_uri": "https://localhost:8080/"
        },
        "id": "76WxI2ld0zfT",
        "outputId": "5e87dac5-14e9-46b5-c7f2-d721ceacb576"
      },
      "execution_count": null,
      "outputs": [
        {
          "output_type": "stream",
          "name": "stdout",
          "text": [
            "20\n"
          ]
        },
        {
          "output_type": "execute_result",
          "data": {
            "text/plain": [
              "40"
            ]
          },
          "metadata": {},
          "execution_count": 15
        }
      ]
    },
    {
      "cell_type": "code",
      "source": [
        "#not x:\n",
        "#If x evaluate to false then result is true otherwise false:\n",
        "print(not 20)\n",
        "print(not 0)\n",
        "not 0"
      ],
      "metadata": {
        "id": "l6uq2e7J4QTI",
        "outputId": "0eed8f03-4e2c-4a56-e7af-49d1fa4600ad",
        "colab": {
          "base_uri": "https://localhost:8080/"
        }
      },
      "execution_count": null,
      "outputs": [
        {
          "output_type": "stream",
          "name": "stdout",
          "text": [
            "False\n",
            "True\n"
          ]
        },
        {
          "output_type": "execute_result",
          "data": {
            "text/plain": [
              "True"
            ]
          },
          "metadata": {},
          "execution_count": 11
        }
      ]
    },
    {
      "cell_type": "code",
      "source": [
        "not 5"
      ],
      "metadata": {
        "id": "C4zZOw_-OjoG",
        "outputId": "c2f5599d-ef02-499d-814c-d1acee864128",
        "colab": {
          "base_uri": "https://localhost:8080/"
        }
      },
      "execution_count": null,
      "outputs": [
        {
          "output_type": "execute_result",
          "data": {
            "text/plain": [
              "False"
            ]
          },
          "metadata": {},
          "execution_count": 13
        }
      ]
    },
    {
      "cell_type": "code",
      "source": [
        "#Bitwise operators for xor types:\n",
        "#1Bitwise operators for int types:\n",
        "m = 20 \n",
        "n = 10\n",
        "m ^ n"
      ],
      "metadata": {
        "id": "LeXYxfV8OmIp",
        "outputId": "c5187089-4e75-41dc-dde9-f3baaa457ba7",
        "colab": {
          "base_uri": "https://localhost:8080/"
        }
      },
      "execution_count": null,
      "outputs": [
        {
          "output_type": "execute_result",
          "data": {
            "text/plain": [
              "30"
            ]
          },
          "metadata": {},
          "execution_count": 17
        }
      ]
    },
    {
      "cell_type": "code",
      "source": [
        "#2bitwise operators for int types:\n",
        "m = 45\n",
        "n = 45\n",
        "m ^ n"
      ],
      "metadata": {
        "id": "nGwTwTx7S-Px",
        "outputId": "c0b7398b-748c-49ea-c6a3-03c56a87e8d1",
        "colab": {
          "base_uri": "https://localhost:8080/"
        }
      },
      "execution_count": null,
      "outputs": [
        {
          "output_type": "execute_result",
          "data": {
            "text/plain": [
              "0"
            ]
          },
          "metadata": {},
          "execution_count": 19
        }
      ]
    },
    {
      "cell_type": "code",
      "source": [
        "#3bitwise operators for boolean types:\n",
        "m = 1 \n",
        "n = 0\n",
        "m ^ n"
      ],
      "metadata": {
        "id": "1CFHf95XTIWH",
        "outputId": "fd5103f1-9f25-453a-9e2c-daec061f1f6c",
        "colab": {
          "base_uri": "https://localhost:8080/"
        }
      },
      "execution_count": null,
      "outputs": [
        {
          "output_type": "execute_result",
          "data": {
            "text/plain": [
              "1"
            ]
          },
          "metadata": {},
          "execution_count": 22
        }
      ]
    },
    {
      "cell_type": "code",
      "source": [
        "#4bitwise operators for boolean types:\n",
        "m = 0\n",
        "n = 0\n",
        "m ^ n"
      ],
      "metadata": {
        "id": "6JItdltAUEpW",
        "outputId": "69c965b6-fb95-4220-fdf6-0ce4736ee93f",
        "colab": {
          "base_uri": "https://localhost:8080/"
        }
      },
      "execution_count": null,
      "outputs": [
        {
          "output_type": "execute_result",
          "data": {
            "text/plain": [
              "0"
            ]
          },
          "metadata": {},
          "execution_count": 27
        }
      ]
    },
    {
      "cell_type": "code",
      "source": [
        "#Bitwise Complement Operator (~):\n",
        "print(~35) #formula ~35= -35-1, eg.-x-1"
      ],
      "metadata": {
        "id": "NW1viQ4ZUTDp",
        "outputId": "f7118876-5165-45b2-d4cd-e7f6df4c8b78",
        "colab": {
          "base_uri": "https://localhost:8080/"
        }
      },
      "execution_count": null,
      "outputs": [
        {
          "output_type": "stream",
          "name": "stdout",
          "text": [
            "-36\n"
          ]
        }
      ]
    },
    {
      "cell_type": "code",
      "source": [
        "print(~0)"
      ],
      "metadata": {
        "id": "EHbdSJ3eX1KK",
        "outputId": "48baecf1-7d3a-4830-ca09-8586f2cd00c7",
        "colab": {
          "base_uri": "https://localhost:8080/"
        }
      },
      "execution_count": null,
      "outputs": [
        {
          "output_type": "stream",
          "name": "stdout",
          "text": [
            "-1\n"
          ]
        }
      ]
    },
    {
      "cell_type": "code",
      "source": [
        "true = 1\n",
        "false = 0\n",
        "print(~true)"
      ],
      "metadata": {
        "id": "iOiEdjERYRsz",
        "outputId": "f54e2fc1-baf8-4771-a97f-a19dac9784f4",
        "colab": {
          "base_uri": "https://localhost:8080/"
        }
      },
      "execution_count": null,
      "outputs": [
        {
          "output_type": "stream",
          "name": "stdout",
          "text": [
            "-2\n"
          ]
        }
      ]
    },
    {
      "cell_type": "code",
      "source": [
        "#Shift Operator:\n",
        "# Left Shift\n",
        "x = 26\n",
        "x << 2"
      ],
      "metadata": {
        "id": "g4KJ4NyRYmcw",
        "outputId": "5793ca5e-259d-4129-f078-2f84e3b8e662",
        "colab": {
          "base_uri": "https://localhost:8080/"
        }
      },
      "execution_count": null,
      "outputs": [
        {
          "output_type": "execute_result",
          "data": {
            "text/plain": [
              "104"
            ]
          },
          "metadata": {},
          "execution_count": 65
        }
      ]
    },
    {
      "cell_type": "code",
      "source": [
        "# Left Shift:\n",
        "m = 30\n",
        "m << 3"
      ],
      "metadata": {
        "id": "pgf8cXA2a8NC",
        "outputId": "545d66b2-c80e-4247-a15a-c089a95b35f2",
        "colab": {
          "base_uri": "https://localhost:8080/"
        }
      },
      "execution_count": null,
      "outputs": [
        {
          "output_type": "execute_result",
          "data": {
            "text/plain": [
              "240"
            ]
          },
          "metadata": {},
          "execution_count": 46
        }
      ]
    },
    {
      "cell_type": "code",
      "source": [
        "# Right Shift:\n",
        "p = 240\n",
        "p >> 3"
      ],
      "metadata": {
        "id": "Nx2LbArtbLjQ",
        "outputId": "a64a2719-de10-4df7-ed93-7e055c46979b",
        "colab": {
          "base_uri": "https://localhost:8080/"
        }
      },
      "execution_count": null,
      "outputs": [
        {
          "output_type": "execute_result",
          "data": {
            "text/plain": [
              "30"
            ]
          },
          "metadata": {},
          "execution_count": 48
        }
      ]
    },
    {
      "cell_type": "code",
      "source": [
        "# Right Shift:\n",
        "a = 367\n",
        "a >> 5"
      ],
      "metadata": {
        "id": "-ubL_My9baqN",
        "outputId": "1945844c-ef1c-4861-d752-0fdf1a20ce42",
        "colab": {
          "base_uri": "https://localhost:8080/"
        }
      },
      "execution_count": null,
      "outputs": [
        {
          "output_type": "execute_result",
          "data": {
            "text/plain": [
              "11"
            ]
          },
          "metadata": {},
          "execution_count": 51
        }
      ]
    },
    {
      "cell_type": "code",
      "source": [
        "a = 128\n",
        "b = 64\n",
        "c = 32\n",
        "d = 16\n",
        "e = 8\n",
        "f = 4\n",
        "g = 2\n",
        "h = 1\n",
        "print(\"a+b+c+d+e+f+g+h=\" ,a+b+c+d+e+f+g+h)"
      ],
      "metadata": {
        "id": "VTeWRXFlb-SC",
        "outputId": "f8f5cc30-4b4c-45fb-85e6-35c9d4d33a8c",
        "colab": {
          "base_uri": "https://localhost:8080/"
        }
      },
      "execution_count": null,
      "outputs": [
        {
          "output_type": "stream",
          "name": "stdout",
          "text": [
            "a+b+c+d+e+f+g+h= 255\n"
          ]
        }
      ]
    },
    {
      "cell_type": "code",
      "source": [
        "# Bitwise \"and\" operator\n",
        "a = 24\n",
        "b = 12\n",
        "a&b"
      ],
      "metadata": {
        "id": "eXbBSGjtc1I2",
        "outputId": "8aeb7d73-20ee-421c-8667-d1ffe5a115a5",
        "colab": {
          "base_uri": "https://localhost:8080/"
        }
      },
      "execution_count": null,
      "outputs": [
        {
          "output_type": "execute_result",
          "data": {
            "text/plain": [
              "8"
            ]
          },
          "metadata": {},
          "execution_count": 58
        }
      ]
    },
    {
      "cell_type": "code",
      "source": [
        "# Bitwise \"or\" operator\n",
        "a = 24\n",
        "b = 12\n",
        "a|b"
      ],
      "metadata": {
        "id": "ync_1cV8dsIY",
        "outputId": "f7ee8096-4681-49af-cf7d-00ceff910b58",
        "colab": {
          "base_uri": "https://localhost:8080/"
        }
      },
      "execution_count": null,
      "outputs": [
        {
          "output_type": "execute_result",
          "data": {
            "text/plain": [
              "28"
            ]
          },
          "metadata": {},
          "execution_count": 60
        }
      ]
    },
    {
      "cell_type": "code",
      "source": [
        "# Bitwise \"xor\" operator\n",
        "a = 24\n",
        "b = 12\n",
        "a^b"
      ],
      "metadata": {
        "id": "qHvTXQdsepjk",
        "outputId": "ac00bd58-8348-4b13-c1d8-7fa4206c792b",
        "colab": {
          "base_uri": "https://localhost:8080/"
        }
      },
      "execution_count": null,
      "outputs": [
        {
          "output_type": "execute_result",
          "data": {
            "text/plain": [
              "20"
            ]
          },
          "metadata": {},
          "execution_count": 64
        }
      ]
    },
    {
      "cell_type": "code",
      "source": [
        "#Assignment Operators:\n",
        "m=15\n",
        "m+=35\n",
        "print(m)"
      ],
      "metadata": {
        "id": "XNJCS41gfVQZ",
        "outputId": "689d7cea-5194-4e6c-8828-9ab21bee572c",
        "colab": {
          "base_uri": "https://localhost:8080/"
        }
      },
      "execution_count": null,
      "outputs": [
        {
          "output_type": "stream",
          "name": "stdout",
          "text": [
            "50\n"
          ]
        }
      ]
    },
    {
      "cell_type": "code",
      "source": [
        "#Assignment Operators:\n",
        "m=90\n",
        "m-=30\n",
        "print(m)"
      ],
      "metadata": {
        "id": "z5iA119jiUok",
        "outputId": "34a8105a-083a-4f37-d786-8b507df39046",
        "colab": {
          "base_uri": "https://localhost:8080/"
        }
      },
      "execution_count": null,
      "outputs": [
        {
          "output_type": "stream",
          "name": "stdout",
          "text": [
            "60\n"
          ]
        }
      ]
    },
    {
      "cell_type": "code",
      "source": [
        "#Assignment Operators:\n",
        "a=25\n",
        "a*=25\n",
        "print(a)"
      ],
      "metadata": {
        "id": "Z9fmvoeEif1h",
        "outputId": "e91a34d0-4b57-48ff-f848-b7cc430928c5",
        "colab": {
          "base_uri": "https://localhost:8080/"
        }
      },
      "execution_count": null,
      "outputs": [
        {
          "output_type": "stream",
          "name": "stdout",
          "text": [
            "625\n"
          ]
        }
      ]
    },
    {
      "cell_type": "code",
      "source": [
        "#Assignment Operators:\n",
        "x=778\n",
        "x/=16\n",
        "print(x)"
      ],
      "metadata": {
        "id": "AnD6GqYMixDM",
        "outputId": "371bde57-0295-44b9-910d-25c242862894",
        "colab": {
          "base_uri": "https://localhost:8080/"
        }
      },
      "execution_count": null,
      "outputs": [
        {
          "output_type": "stream",
          "name": "stdout",
          "text": [
            "48.625\n"
          ]
        }
      ]
    },
    {
      "cell_type": "code",
      "source": [
        "#Assignment Operators:\n",
        "r=45\n",
        "r%=7\n",
        "print(r)"
      ],
      "metadata": {
        "id": "X_K7Jh6yi-_k",
        "outputId": "a0f81333-6e08-420b-8375-f4f2d032ead6",
        "colab": {
          "base_uri": "https://localhost:8080/"
        }
      },
      "execution_count": null,
      "outputs": [
        {
          "output_type": "stream",
          "name": "stdout",
          "text": [
            "3\n"
          ]
        }
      ]
    },
    {
      "cell_type": "code",
      "source": [
        "#Assignment Operators:\n",
        "t=456\n",
        "t//=15\n",
        "print(t)"
      ],
      "metadata": {
        "id": "yBQ_SZtajbxo",
        "outputId": "bb6250a2-988a-465b-9ad4-7f4da9a21eb3",
        "colab": {
          "base_uri": "https://localhost:8080/"
        }
      },
      "execution_count": null,
      "outputs": [
        {
          "output_type": "stream",
          "name": "stdout",
          "text": [
            "30\n"
          ]
        }
      ]
    },
    {
      "cell_type": "code",
      "source": [
        "s=18\n",
        "s**=4\n",
        "print(s)"
      ],
      "metadata": {
        "id": "Kj6FM5PFjv0Y",
        "outputId": "dfa654b0-3592-4aa9-a8d6-cb6087cfad00",
        "colab": {
          "base_uri": "https://localhost:8080/"
        }
      },
      "execution_count": null,
      "outputs": [
        {
          "output_type": "stream",
          "name": "stdout",
          "text": [
            "104976\n"
          ]
        }
      ]
    },
    {
      "cell_type": "code",
      "source": [
        "d=36\n",
        "d&=20\n",
        "print(d)"
      ],
      "metadata": {
        "id": "u3T6YNmnj-5u",
        "outputId": "61c46ff8-e05a-40ec-f870-3df6ada660e2",
        "colab": {
          "base_uri": "https://localhost:8080/"
        }
      },
      "execution_count": null,
      "outputs": [
        {
          "output_type": "stream",
          "name": "stdout",
          "text": [
            "4\n"
          ]
        }
      ]
    },
    {
      "cell_type": "code",
      "source": [
        "y=44\n",
        "y|=68\n",
        "print(y)"
      ],
      "metadata": {
        "id": "9j-29FRGkP4G",
        "outputId": "f367ab0c-39c9-407e-91b6-c1f8d8ee8c3d",
        "colab": {
          "base_uri": "https://localhost:8080/"
        }
      },
      "execution_count": null,
      "outputs": [
        {
          "output_type": "stream",
          "name": "stdout",
          "text": [
            "108\n"
          ]
        }
      ]
    },
    {
      "cell_type": "code",
      "source": [
        "z=65\n",
        "z^=23\n",
        "print(z)"
      ],
      "metadata": {
        "id": "rnDWv-wckgHd",
        "outputId": "29ce0c2c-c4d4-41a7-951f-735ab18b7da6",
        "colab": {
          "base_uri": "https://localhost:8080/"
        }
      },
      "execution_count": null,
      "outputs": [
        {
          "output_type": "stream",
          "name": "stdout",
          "text": [
            "86\n"
          ]
        }
      ]
    },
    {
      "cell_type": "code",
      "source": [
        "g=38\n",
        "g<<=4\n",
        "print(g)"
      ],
      "metadata": {
        "id": "D2ZXAp-wlAFJ",
        "outputId": "73cfe626-4364-46f9-ffad-cb680369fd2c",
        "colab": {
          "base_uri": "https://localhost:8080/"
        }
      },
      "execution_count": null,
      "outputs": [
        {
          "output_type": "stream",
          "name": "stdout",
          "text": [
            "608\n"
          ]
        }
      ]
    },
    {
      "cell_type": "code",
      "source": [
        "h=462\n",
        "h>>=3\n",
        "print(h)"
      ],
      "metadata": {
        "id": "UvV_dstrlYRs",
        "outputId": "b6c40929-2e96-490c-d09f-a58e984cf748",
        "colab": {
          "base_uri": "https://localhost:8080/"
        }
      },
      "execution_count": null,
      "outputs": [
        {
          "output_type": "stream",
          "name": "stdout",
          "text": [
            "57\n"
          ]
        }
      ]
    },
    {
      "cell_type": "code",
      "source": [
        "#Ternary Operator OR Conditional Operator:\n",
        "a,b = 20,40\n",
        "s = 50 if a<b else 10\n",
        "print(s)"
      ],
      "metadata": {
        "id": "FHNusnFonky6",
        "outputId": "8640303d-c6d2-4bae-db09-c6c3159a8d69",
        "colab": {
          "base_uri": "https://localhost:8080/"
        }
      },
      "execution_count": null,
      "outputs": [
        {
          "output_type": "stream",
          "name": "stdout",
          "text": [
            "50\n"
          ]
        }
      ]
    },
    {
      "cell_type": "code",
      "source": [
        "#Ternary Operator OR Conditional Operator:\n",
        "a,b = 20,40\n",
        "s = 50 if a>b else 10\n",
        "print(s)"
      ],
      "metadata": {
        "id": "mDquONynoPae",
        "outputId": "15452fdf-1945-4769-c418-3aead084d9d1",
        "colab": {
          "base_uri": "https://localhost:8080/"
        }
      },
      "execution_count": null,
      "outputs": [
        {
          "output_type": "stream",
          "name": "stdout",
          "text": [
            "10\n"
          ]
        }
      ]
    },
    {
      "cell_type": "code",
      "source": [
        "# Program for Minimum of 3 Numbers:\n",
        "a = int(input(\"Enter First Number:\")) #a=35\n",
        "b = int(input(\"Enter Second Number:\")) #b=20\n",
        "c = int(input(\"Enter Third Number:\")) #c=10\n",
        "min=a if a<b and a<c else b if b<c else c\n",
        "print(\"Minimum value:\" ,min)"
      ],
      "metadata": {
        "id": "24VM9kGwogmc",
        "outputId": "8221c042-1168-4c18-c946-78d37ff6ff8c",
        "colab": {
          "base_uri": "https://localhost:8080/"
        }
      },
      "execution_count": null,
      "outputs": [
        {
          "output_type": "stream",
          "name": "stdout",
          "text": [
            "Enter First Number:35\n",
            "Enter Second Number:20\n",
            "Enter Third Number:10\n",
            "Minimum value: 10\n"
          ]
        }
      ]
    },
    {
      "cell_type": "code",
      "source": [
        "# Program for Maximum of 3 Numbers:\n",
        "a = int(input(\"Enter First Number:\")) #a=35\n",
        "b = int(input(\"Enter Second Number:\")) #b=20\n",
        "c = int(input(\"Enter Third Number:\")) #c=12\n",
        "max=a if a>b and a>c else b if b>c else c\n",
        "print(\"Maximun value:\" ,max)"
      ],
      "metadata": {
        "id": "qPRs174utl5k",
        "outputId": "20594c05-2633-4db3-91f5-c6a77e7f6e1b",
        "colab": {
          "base_uri": "https://localhost:8080/"
        }
      },
      "execution_count": null,
      "outputs": [
        {
          "output_type": "stream",
          "name": "stdout",
          "text": [
            "Enter First Number:35\n",
            "Enter Second Number:20\n",
            "Enter Third Number:12\n",
            "Maximun value: 35\n"
          ]
        }
      ]
    },
    {
      "cell_type": "code",
      "source": [
        "#Identity Operators:\n",
        "a = 15\n",
        "b = 20\n",
        "print(a is b)"
      ],
      "metadata": {
        "id": "0FDPVgwGvOWp",
        "outputId": "193f6825-5e71-46b0-cb3b-9d59d36f3d5b",
        "colab": {
          "base_uri": "https://localhost:8080/"
        }
      },
      "execution_count": null,
      "outputs": [
        {
          "output_type": "stream",
          "name": "stdout",
          "text": [
            "False\n"
          ]
        }
      ]
    },
    {
      "cell_type": "code",
      "source": [
        "x = 40\n",
        "y = 40\n",
        "print(x is y)"
      ],
      "metadata": {
        "id": "x7KAzdk6xkML",
        "outputId": "0270cf47-44bd-4f20-f49d-0fe7a28eafb2",
        "colab": {
          "base_uri": "https://localhost:8080/"
        }
      },
      "execution_count": null,
      "outputs": [
        {
          "output_type": "stream",
          "name": "stdout",
          "text": [
            "True\n"
          ]
        }
      ]
    },
    {
      "cell_type": "code",
      "source": [
        "m = 35\n",
        "n = 45\n",
        "print(m is not n)"
      ],
      "metadata": {
        "id": "0LD5YvFvxsui",
        "outputId": "35a1c35f-fbc3-4dc0-c045-35e77800bd0e",
        "colab": {
          "base_uri": "https://localhost:8080/"
        }
      },
      "execution_count": null,
      "outputs": [
        {
          "output_type": "stream",
          "name": "stdout",
          "text": [
            "True\n"
          ]
        }
      ]
    },
    {
      "cell_type": "code",
      "source": [
        "r = 48\n",
        "t = 48\n",
        "print(r is not t)"
      ],
      "metadata": {
        "id": "Kcpv6IeEx3DI",
        "outputId": "09e1ff27-4f56-4d1d-8959-d56308dfca8c",
        "colab": {
          "base_uri": "https://localhost:8080/"
        }
      },
      "execution_count": null,
      "outputs": [
        {
          "output_type": "stream",
          "name": "stdout",
          "text": [
            "False\n"
          ]
        }
      ]
    },
    {
      "cell_type": "code",
      "source": [
        "#Membership Operators:\n",
        "z =  \"Hello Everyone, My name is Manoj.\"\n",
        "print('o' in z)\n",
        "print('m' in z)\n",
        "print('w' in z)\n",
        "print('d' in z)\n",
        "print('j' in z)"
      ],
      "metadata": {
        "id": "kB-K8tnGyG27",
        "outputId": "32d0f4df-bd32-446f-ea8a-dbc6c0f7f034",
        "colab": {
          "base_uri": "https://localhost:8080/"
        }
      },
      "execution_count": null,
      "outputs": [
        {
          "output_type": "stream",
          "name": "stdout",
          "text": [
            "True\n",
            "True\n",
            "False\n",
            "False\n",
            "True\n"
          ]
        }
      ]
    },
    {
      "cell_type": "code",
      "source": [
        "import math\n",
        "print(math.sqrt(625))\n",
        "print(math.sqrt(256))\n",
        "print(math.sqrt(62))"
      ],
      "metadata": {
        "id": "rMIl-eH5zjjH",
        "outputId": "596c665f-b57e-47a2-b821-00cfb8b4b383",
        "colab": {
          "base_uri": "https://localhost:8080/"
        }
      },
      "execution_count": null,
      "outputs": [
        {
          "output_type": "stream",
          "name": "stdout",
          "text": [
            "25.0\n",
            "16.0\n",
            "7.874007874011811\n"
          ]
        }
      ]
    },
    {
      "cell_type": "code",
      "source": [
        "#important functions in math module\n",
        "from math import ceil, floor, factorial, trunc, gcd, sin,cos,tan\n",
        "\n",
        "print(ceil(18.95))\n",
        "print(floor(43.35))\n",
        "print(pow(15,20))\n",
        "print(factorial(7))\n",
        "print(trunc(12.65))\n",
        "print(gcd(68,102))\n",
        "print(sin(60))\n",
        "print(cos(30))\n",
        "print(tan(45))"
      ],
      "metadata": {
        "id": "59_rKYXY2crb",
        "outputId": "d1412883-9145-40f4-aee2-08f5746c7a26",
        "colab": {
          "base_uri": "https://localhost:8080/"
        }
      },
      "execution_count": null,
      "outputs": [
        {
          "output_type": "stream",
          "name": "stdout",
          "text": [
            "19\n",
            "43\n",
            "332525673007965087890625\n",
            "5040\n",
            "12\n",
            "34\n",
            "-0.3048106211022167\n",
            "0.15425144988758405\n",
            "1.6197751905438615\n"
          ]
        }
      ]
    },
    {
      "cell_type": "code",
      "source": [
        "import math\n",
        "radius = float(input(\"Enter radius of circle : \")) #radius=int\n",
        "area = math.pi * radius * radius\n",
        "print(\"Radius of the circle is :\" ,area)"
      ],
      "metadata": {
        "id": "5eNq0zUn3Ofb",
        "outputId": "0e1c1492-0a3a-4fc1-ada9-a8b1dcb25373",
        "colab": {
          "base_uri": "https://localhost:8080/"
        }
      },
      "execution_count": null,
      "outputs": [
        {
          "output_type": "stream",
          "name": "stdout",
          "text": [
            "Enter radius of circle : 7\n",
            "Radius of the circle is :  153.93804002589985\n"
          ]
        }
      ]
    },
    {
      "cell_type": "code",
      "source": [
        "#eval function:\n",
        "x = (\"20+48+52\")\n",
        "print(eval(x))"
      ],
      "metadata": {
        "id": "BaeBU9XECtFU",
        "outputId": "537dc6f8-515e-487f-8bda-4c9b24611f2d",
        "colab": {
          "base_uri": "https://localhost:8080/"
        }
      },
      "execution_count": null,
      "outputs": [
        {
          "output_type": "stream",
          "name": "stdout",
          "text": [
            "120\n"
          ]
        }
      ]
    },
    {
      "cell_type": "code",
      "source": [
        "#eval function:\n",
        "y = eval(\"512+897+735+477\")\n",
        "print(y)"
      ],
      "metadata": {
        "id": "j1EiiH91D8cP",
        "outputId": "79f0bb06-a2a4-4818-a2ba-85e26967d680",
        "colab": {
          "base_uri": "https://localhost:8080/"
        }
      },
      "execution_count": null,
      "outputs": [
        {
          "output_type": "stream",
          "name": "stdout",
          "text": [
            "2621\n"
          ]
        }
      ]
    },
    {
      "cell_type": "code",
      "source": [
        "#escape characters:\n",
        "print(\"Manoj \\n Gharge\")"
      ],
      "metadata": {
        "id": "8acPTDYwEV8a",
        "outputId": "da19c1a1-5b1e-4729-b545-b8cc9b5d2054",
        "colab": {
          "base_uri": "https://localhost:8080/"
        }
      },
      "execution_count": null,
      "outputs": [
        {
          "output_type": "stream",
          "name": "stdout",
          "text": [
            "Manoj \n",
            " Gharge\n"
          ]
        }
      ]
    },
    {
      "cell_type": "code",
      "source": [
        "#variable number of arguments:\n",
        "x, y, z= 20,40,60\n",
        "print(\"The values are : \" ,x,y,z)"
      ],
      "metadata": {
        "id": "X04QQoMMFrn7",
        "outputId": "0cd36133-311d-4082-d5aa-a7a712bf7ac5",
        "colab": {
          "base_uri": "https://localhost:8080/"
        }
      },
      "execution_count": null,
      "outputs": [
        {
          "output_type": "stream",
          "name": "stdout",
          "text": [
            "The values are :  20 40 60\n"
          ]
        }
      ]
    },
    {
      "cell_type": "code",
      "source": [
        "#output in the same line with space:\n",
        "print(\"Manoj\" ,end=' ')\n",
        "print(\"Mahadev\" ,end=' ')\n",
        "print(\"Gharge\" ,end=' ')"
      ],
      "metadata": {
        "id": "2wfzsYyOGVO6",
        "outputId": "206e4b85-68c5-4df9-f515-f232efbe5887",
        "colab": {
          "base_uri": "https://localhost:8080/"
        }
      },
      "execution_count": null,
      "outputs": [
        {
          "output_type": "stream",
          "name": "stdout",
          "text": [
            "Manoj Mahadev Gharge "
          ]
        }
      ]
    }
  ]
}