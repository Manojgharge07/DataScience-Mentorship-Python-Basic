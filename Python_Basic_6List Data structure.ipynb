{
  "nbformat": 4,
  "nbformat_minor": 0,
  "metadata": {
    "colab": {
      "name": "Python Basic_6.ipynb",
      "provenance": [],
      "authorship_tag": "ABX9TyMJFkFobDMA8Oxlnf2LUjJ2",
      "include_colab_link": true
    },
    "kernelspec": {
      "name": "python3",
      "display_name": "Python 3"
    },
    "language_info": {
      "name": "python"
    }
  },
  "cells": [
    {
      "cell_type": "markdown",
      "metadata": {
        "id": "view-in-github",
        "colab_type": "text"
      },
      "source": [
        "<a href=\"https://colab.research.google.com/github/Manojgharge07/DataScience-Mentorship-Python-Basic/blob/main/Python_Basic_6List%20Data%20structure.ipynb\" target=\"_parent\"><img src=\"https://colab.research.google.com/assets/colab-badge.svg\" alt=\"Open In Colab\"/></a>"
      ]
    },
    {
      "cell_type": "markdown",
      "source": [
        "List\n",
        "\n",
        "֍ If we want to represent a group of individual objects as a single entity where insertion order needs to be preserved and duplicates are allowed, then we should go for List.\n",
        "\n",
        "֍ heterogeneous objects are allowed.\n",
        "\n",
        "֍ List is dynamic because based on our requirement we can increase the size and decrease the size.\n",
        "\n",
        "֍ In List the elements will be placed within square brackets and with comma seperator.\n",
        "\n",
        "֍ We can differentiate duplicate elements by using index and we can preserve insertion order by using index. Hence index will play very important role.\n",
        "\n",
        "֍ Python supports both positive and negative indexes. +ve index means from left to right where as negative index means right to left.\n",
        "\n",
        "֍ Listobjectsaremutable.i.ewecanchangethecontent."
      ],
      "metadata": {
        "id": "QfXOJhIqFrhD"
      }
    },
    {
      "cell_type": "code",
      "execution_count": null,
      "metadata": {
        "colab": {
          "base_uri": "https://localhost:8080/"
        },
        "id": "6_z9VVUiESI0",
        "outputId": "47ed82ce-6af8-4ccc-90df-5ef43fceb90f"
      },
      "outputs": [
        {
          "output_type": "stream",
          "name": "stdout",
          "text": [
            "[]\n",
            "<class 'list'>\n"
          ]
        }
      ],
      "source": [
        "# Create a empty list:\n",
        "list=[]\n",
        "print(list)\n",
        "print(type(list))"
      ]
    },
    {
      "cell_type": "code",
      "source": [
        "list=eval(input(\"EnterList:\"))\n",
        "print(list)\n",
        "print(type(list))"
      ],
      "metadata": {
        "colab": {
          "base_uri": "https://localhost:8080/"
        },
        "id": "UB6kXviHIL4-",
        "outputId": "613696e6-a8c1-4cd4-b695-0767153e45b0"
      },
      "execution_count": null,
      "outputs": [
        {
          "output_type": "stream",
          "name": "stdout",
          "text": [
            "EnterList:[1,2,3,4,5,6,7]\n",
            "[1, 2, 3, 4, 5, 6, 7]\n",
            "<class 'list'>\n"
          ]
        }
      ]
    },
    {
      "cell_type": "code",
      "source": [
        "# with list() function:\n",
        "del list # we need to delete 'list' variable defined in above cell\n",
        "l=list(range(0,12))\n",
        "print(l)"
      ],
      "metadata": {
        "colab": {
          "base_uri": "https://localhost:8080/"
        },
        "id": "nOyTW_D4JJf0",
        "outputId": "4c4fcef1-0404-459d-aac4-b9e5f9b906d0"
      },
      "execution_count": null,
      "outputs": [
        {
          "output_type": "stream",
          "name": "stdout",
          "text": [
            "[0, 1, 2, 3, 4, 5, 6, 7, 8, 9, 10, 11]\n"
          ]
        }
      ]
    },
    {
      "cell_type": "code",
      "source": [
        "# With split() Function:\n",
        "a= \"Hardwork is The Key of Success!!!\"\n",
        "l=a.split()\n",
        "print(l)"
      ],
      "metadata": {
        "id": "ZU9G5FS_NFxS",
        "outputId": "8b3fed23-e9be-427a-d122-13d95fc7c294",
        "colab": {
          "base_uri": "https://localhost:8080/"
        }
      },
      "execution_count": null,
      "outputs": [
        {
          "output_type": "stream",
          "name": "stdout",
          "text": [
            "['Hardwork', 'is', 'The', 'Key', 'of', 'Success!!!']\n"
          ]
        }
      ]
    },
    {
      "cell_type": "markdown",
      "source": [
        "Accessing Elements of List:\n",
        "\n",
        "We can access elements of the list either by using index or by using slice operator(:)\n",
        "\n",
        "1. By using Index:\n",
        "\n",
        "List follows zero based index. ie index of first element is zero."
      ],
      "metadata": {
        "id": "4xIPcBwKZYu6"
      }
    },
    {
      "cell_type": "code",
      "source": [
        "l=[11,12,13,14,15] # for index use []:\n",
        "l[0]"
      ],
      "metadata": {
        "id": "r48ZyvCAZI2V",
        "outputId": "3aed15cd-25da-4b4d-ad19-c38b9793f261",
        "colab": {
          "base_uri": "https://localhost:8080/"
        }
      },
      "execution_count": null,
      "outputs": [
        {
          "output_type": "execute_result",
          "data": {
            "text/plain": [
              "11"
            ]
          },
          "metadata": {},
          "execution_count": 23
        }
      ]
    },
    {
      "cell_type": "code",
      "source": [
        "l=[3,4,5,6,7,8,9]\n",
        "l[4]"
      ],
      "metadata": {
        "id": "T7CxHUH0aAYl",
        "outputId": "27351405-f11f-48e7-9f80-37c02e60c839",
        "colab": {
          "base_uri": "https://localhost:8080/"
        }
      },
      "execution_count": null,
      "outputs": [
        {
          "output_type": "execute_result",
          "data": {
            "text/plain": [
              "7"
            ]
          },
          "metadata": {},
          "execution_count": 28
        }
      ]
    },
    {
      "cell_type": "code",
      "source": [
        "l=[\"suzuki\", \"ford\", \"audi\", \"tata\", \"range rover\"]\n",
        "l[2]"
      ],
      "metadata": {
        "id": "0lnlF6jsaUs5",
        "outputId": "ab103b5a-0126-49ef-a410-ba31a2506adf",
        "colab": {
          "base_uri": "https://localhost:8080/",
          "height": 35
        }
      },
      "execution_count": null,
      "outputs": [
        {
          "output_type": "execute_result",
          "data": {
            "text/plain": [
              "'audi'"
            ],
            "application/vnd.google.colaboratory.intrinsic+json": {
              "type": "string"
            }
          },
          "metadata": {},
          "execution_count": 31
        }
      ]
    },
    {
      "cell_type": "markdown",
      "source": [
        "2. By using Slice Operator:\n",
        "\n",
        "Syntax: list2 = list1[start:stop:step]"
      ],
      "metadata": {
        "id": "t60pTut2dGsm"
      }
    },
    {
      "cell_type": "code",
      "source": [
        "n=[1,4,9,16,25,36,49,64,81,100]\n",
        "print(n[2:8])"
      ],
      "metadata": {
        "id": "A24I6iQqc8Ck",
        "outputId": "44f0525f-1bfb-454b-e9bf-e5ea284c1c72",
        "colab": {
          "base_uri": "https://localhost:8080/"
        }
      },
      "execution_count": null,
      "outputs": [
        {
          "output_type": "stream",
          "name": "stdout",
          "text": [
            "[9, 16, 25, 36, 49, 64]\n"
          ]
        }
      ]
    },
    {
      "cell_type": "markdown",
      "source": [
        "List vs Mutability:\n",
        "\n",
        "Once we creates a List object, we can modify its content. Hence List objects are mutable."
      ],
      "metadata": {
        "id": "R9mLtXpGeoa_"
      }
    },
    {
      "cell_type": "code",
      "source": [
        "n=[2,4,6,8,10,12,14]\n",
        "print(n)\n",
        "n[3]=329\n",
        "print(n)"
      ],
      "metadata": {
        "id": "0g9Kkjuud6Y5",
        "outputId": "97ac9ccb-99af-4c9a-be9f-85073c4ee6e9",
        "colab": {
          "base_uri": "https://localhost:8080/"
        }
      },
      "execution_count": null,
      "outputs": [
        {
          "output_type": "stream",
          "name": "stdout",
          "text": [
            "[2, 4, 6, 8, 10, 12, 14]\n",
            "[2, 4, 6, 329, 10, 12, 14]\n"
          ]
        }
      ]
    },
    {
      "cell_type": "markdown",
      "source": [
        "Traversing the Elements of List:\n",
        "\n",
        "The sequential access of each element in the list is called traversal."
      ],
      "metadata": {
        "id": "Zlis0FDOir6A"
      }
    },
    {
      "cell_type": "code",
      "source": [
        "# 1)By using while Loop:\n",
        "l=[1,3,5,7,9,11,13,15]\n",
        "i=0\n",
        "while i < len(l):\n",
        "  print(l[i])\n",
        "  i+=1"
      ],
      "metadata": {
        "id": "b8sfC8DpirTC",
        "outputId": "fc0c69d7-eea9-43a0-ade0-84462242a4fa",
        "colab": {
          "base_uri": "https://localhost:8080/"
        }
      },
      "execution_count": null,
      "outputs": [
        {
          "output_type": "stream",
          "name": "stdout",
          "text": [
            "1\n",
            "3\n",
            "5\n",
            "7\n",
            "9\n",
            "11\n",
            "13\n",
            "15\n"
          ]
        }
      ]
    },
    {
      "cell_type": "code",
      "source": [
        "# 2)By using for Loop:\n",
        "l=[2,4,6,8,10,12,14,16]\n",
        "for l3 in l:\n",
        "  print(l3)"
      ],
      "metadata": {
        "id": "g4hhZQ3VkDuE",
        "outputId": "be110c3c-9f32-4d2e-9c4e-1fb8af8bfc0d",
        "colab": {
          "base_uri": "https://localhost:8080/"
        }
      },
      "execution_count": null,
      "outputs": [
        {
          "output_type": "stream",
          "name": "stdout",
          "text": [
            "2\n",
            "4\n",
            "6\n",
            "8\n",
            "10\n",
            "12\n",
            "14\n",
            "16\n"
          ]
        }
      ]
    },
    {
      "cell_type": "code",
      "source": [
        "l=[\"python\", \"machine learning\", \"sql\", \"html\"]\n",
        "x=len(l)\n",
        "for i in range(x):\n",
        "  print(l[i])"
      ],
      "metadata": {
        "id": "ZlAvsaRllHrg",
        "outputId": "3942048e-73b3-40c2-e145-0e5b0c90e888",
        "colab": {
          "base_uri": "https://localhost:8080/"
        }
      },
      "execution_count": null,
      "outputs": [
        {
          "output_type": "stream",
          "name": "stdout",
          "text": [
            "python\n",
            "machine learning\n",
            "sql\n",
            "html\n"
          ]
        }
      ]
    },
    {
      "cell_type": "code",
      "source": [
        "# 3)To display Elements by Index wise:\n",
        "l=[\"python\", \"machine learning\", \"sql\", \"html\"]\n",
        "x=len(l)\n",
        "for i in range(x):\n",
        "  print(l[i], \"is available at positive index:\",i,\"and at negative index :\", i-x)"
      ],
      "metadata": {
        "id": "EoBqcyDKm49x",
        "outputId": "d7722c38-e0ca-49d3-f22f-6e90eb3aa203",
        "colab": {
          "base_uri": "https://localhost:8080/"
        }
      },
      "execution_count": null,
      "outputs": [
        {
          "output_type": "stream",
          "name": "stdout",
          "text": [
            "python is available at positive index: 0 and at negative index : -4\n",
            "machine learning is available at positive index: 1 and at negative index : -3\n",
            "sql is available at positive index: 2 and at negative index : -2\n",
            "html is available at positive index: 3 and at negative index : -1\n"
          ]
        }
      ]
    },
    {
      "cell_type": "markdown",
      "source": [
        "Important Functions of List:\n",
        "\n",
        "I. To get Information about List:"
      ],
      "metadata": {
        "id": "viM8nKSMoGMk"
      }
    },
    {
      "cell_type": "code",
      "source": [
        "#1) len(): Returns the number of elements present in the list:\n",
        "l=[1,2,3,4,5,6,7]\n",
        "len(l)"
      ],
      "metadata": {
        "id": "5ODy8PwNnrgQ",
        "outputId": "dc6e6c28-2ac8-494d-ea05-2593dbfade92",
        "colab": {
          "base_uri": "https://localhost:8080/"
        }
      },
      "execution_count": null,
      "outputs": [
        {
          "output_type": "execute_result",
          "data": {
            "text/plain": [
              "7"
            ]
          },
          "metadata": {},
          "execution_count": 48
        }
      ]
    },
    {
      "cell_type": "code",
      "source": [
        "#2) count(): It returns the number of occurrences of specified item in the list:\n",
        "n=[1,2,2,2,3,3,4,4,4,4,4,3,2,11,1,5,5,4,1]\n",
        "print(n.count(1))\n",
        "print(n.count(2))\n",
        "print(n.count(3))\n",
        "print(n.count(4))\n",
        "print(n.count(5))"
      ],
      "metadata": {
        "id": "4Aas9kCfodSF",
        "outputId": "aba24de1-8b39-4b27-c346-c0899f7743ca",
        "colab": {
          "base_uri": "https://localhost:8080/"
        }
      },
      "execution_count": null,
      "outputs": [
        {
          "output_type": "stream",
          "name": "stdout",
          "text": [
            "3\n",
            "4\n",
            "3\n",
            "6\n",
            "2\n"
          ]
        }
      ]
    },
    {
      "cell_type": "code",
      "source": [
        "#3) index(): Returns the index of first occurrence of the specified item:\n",
        "m=[1,2,3,4,5,6,7,8,9,10,11,12,13,14,15] #position of first 'number' of three # ans 2\n",
        "print(m.index(3))"
      ],
      "metadata": {
        "id": "3t6bHj3YpDcb",
        "outputId": "2dbb64e9-0619-434a-dcff-95a57be8cc13",
        "colab": {
          "base_uri": "https://localhost:8080/"
        }
      },
      "execution_count": null,
      "outputs": [
        {
          "output_type": "stream",
          "name": "stdout",
          "text": [
            "2\n"
          ]
        }
      ]
    },
    {
      "cell_type": "code",
      "source": [
        "m=[1,2,3,3,3,4,4,4,4,2,2,1,3]\n",
        "print(m.index(4))"
      ],
      "metadata": {
        "id": "Apo4eMVQpt1n",
        "outputId": "4d5694cb-df7a-4389-9d50-0c30c10c08af",
        "colab": {
          "base_uri": "https://localhost:8080/"
        }
      },
      "execution_count": null,
      "outputs": [
        {
          "output_type": "stream",
          "name": "stdout",
          "text": [
            "5\n"
          ]
        }
      ]
    },
    {
      "cell_type": "markdown",
      "source": [
        "II. Manipulating Elements of List:"
      ],
      "metadata": {
        "id": "1vhNJsAvqs2O"
      }
    },
    {
      "cell_type": "code",
      "source": [
        "#1) append() Function: add item at the end of the list:\n",
        "list=[]\n",
        "list.append(\"manoj\")\n",
        "list.append('gharge')\n",
        "list.append('06041994')\n",
        "print(list)"
      ],
      "metadata": {
        "id": "lBzpz6-xqZnN",
        "outputId": "f3e60b27-e687-41d9-c9cc-88f670226d29",
        "colab": {
          "base_uri": "https://localhost:8080/"
        }
      },
      "execution_count": null,
      "outputs": [
        {
          "output_type": "stream",
          "name": "stdout",
          "text": [
            "['manoj', 'gharge', '06041994']\n"
          ]
        }
      ]
    },
    {
      "cell_type": "code",
      "source": [
        "# E.g To add all the elements to list upto 100 which are divisible by 10 --> simple --> complex:\n",
        "list=[]\n",
        "for i in range(101):\n",
        "  if i%10==0:\n",
        "    list.append(i)\n",
        "print(list)"
      ],
      "metadata": {
        "id": "Hf456CXvsIJ3",
        "outputId": "6aac4cdf-2672-4834-a240-b803ee0279ec",
        "colab": {
          "base_uri": "https://localhost:8080/"
        }
      },
      "execution_count": null,
      "outputs": [
        {
          "output_type": "stream",
          "name": "stdout",
          "text": [
            "[0, 10, 20, 30, 40, 50, 60, 70, 80, 90, 100]\n"
          ]
        }
      ]
    },
    {
      "cell_type": "code",
      "source": [
        "#2) Insert Function: to insert item at specified index position:\n",
        "l=[20,30,40,50,60,70,80]\n",
        "l.insert(2,500)  #2 indicates= index no. and 500 is replacement int\n",
        "print(l)"
      ],
      "metadata": {
        "id": "XQUw7DaduqIN",
        "outputId": "f700c883-3a96-4675-ceca-8424b37d401b",
        "colab": {
          "base_uri": "https://localhost:8080/"
        }
      },
      "execution_count": null,
      "outputs": [
        {
          "output_type": "stream",
          "name": "stdout",
          "text": [
            "[20, 30, 500, 40, 50, 60, 70, 80]\n"
          ]
        }
      ]
    },
    {
      "cell_type": "markdown",
      "source": [
        "Note: If the specified index is greater than max index then element will be inserted at lastposition. If the specified index is smaller than min index then element will be inserted at first position."
      ],
      "metadata": {
        "id": "U70wgA08vacR"
      }
    },
    {
      "cell_type": "code",
      "source": [
        "#3)extend() Function: To add all items of one list to another list:\n",
        "list1=['apple', 'banana', 'mango']\n",
        "list2=['greaps', 'orange' 'kivi']\n",
        "list1.extend(list2)\n",
        "print(list1)"
      ],
      "metadata": {
        "id": "A9fXUOVowOa9",
        "outputId": "48c23f10-80c6-4964-df47-f7d9acff3f04",
        "colab": {
          "base_uri": "https://localhost:8080/"
        }
      },
      "execution_count": null,
      "outputs": [
        {
          "output_type": "stream",
          "name": "stdout",
          "text": [
            "['apple', 'banana', 'mango', 'greaps', 'orangekivi']\n"
          ]
        }
      ]
    },
    {
      "cell_type": "code",
      "source": [
        "#4) remove() function:  We can use this function to remove specified item from the list.If the item present\n",
        " # multiple times then only first occurrence will be removed:\n",
        "n=[10,10,20,30,10,30]\n",
        "n.remove(10)\n",
        "print(n)"
      ],
      "metadata": {
        "id": "XX9kDirwxIM5",
        "outputId": "5b61393b-7bb2-4c3b-d0ec-9d153dc9f22b",
        "colab": {
          "base_uri": "https://localhost:8080/"
        }
      },
      "execution_count": null,
      "outputs": [
        {
          "output_type": "stream",
          "name": "stdout",
          "text": [
            "[10, 20, 30, 10, 30]\n"
          ]
        }
      ]
    },
    {
      "cell_type": "code",
      "source": [
        "# 5) pop()Function:  It removes and returns the last element of the list:\n",
        "l=[1,2,3,4,5,6,7,8,9,10]\n",
        "l.pop(8)\n",
        "print(l)"
      ],
      "metadata": {
        "id": "JHsyOFVqzJPD",
        "outputId": "dc2269db-8eb1-4f12-d6b9-3966811215ad",
        "colab": {
          "base_uri": "https://localhost:8080/"
        }
      },
      "execution_count": null,
      "outputs": [
        {
          "output_type": "stream",
          "name": "stdout",
          "text": [
            "[1, 2, 3, 4, 5, 6, 7, 8, 10]\n"
          ]
        }
      ]
    },
    {
      "cell_type": "code",
      "source": [
        "l=[1,2,3,4,5,6,7,8,9,10]\n",
        "print(l.pop())\n",
        "print(l)"
      ],
      "metadata": {
        "id": "I8qCoiK9ze-U",
        "outputId": "822c3445-9c7b-4e70-dc95-923feb6f5bed",
        "colab": {
          "base_uri": "https://localhost:8080/"
        }
      },
      "execution_count": null,
      "outputs": [
        {
          "output_type": "stream",
          "name": "stdout",
          "text": [
            "10\n",
            "[1, 2, 3, 4, 5, 6, 7, 8, 9]\n"
          ]
        }
      ]
    },
    {
      "cell_type": "code",
      "source": [
        "l=[1,2,3,4,5,6,7,8,9,10]\n",
        "print(l.pop())\n",
        "print(l.pop())\n",
        "print(l)"
      ],
      "metadata": {
        "id": "A4bC_RYcz7Ui",
        "outputId": "e6161c6f-8e3e-4110-c000-f15c91f1e085",
        "colab": {
          "base_uri": "https://localhost:8080/"
        }
      },
      "execution_count": null,
      "outputs": [
        {
          "output_type": "stream",
          "name": "stdout",
          "text": [
            "10\n",
            "9\n",
            "[1, 2, 3, 4, 5, 6, 7, 8]\n"
          ]
        }
      ]
    },
    {
      "cell_type": "code",
      "source": [
        "n = [10,20,30,40,50,60,70,80]\n",
        "print(n.pop()) \n",
        "print(n.pop(4)) "
      ],
      "metadata": {
        "id": "dXPBLAwB0UU4",
        "outputId": "a72d492e-6acc-4191-c323-1fe9a396db59",
        "colab": {
          "base_uri": "https://localhost:8080/"
        }
      },
      "execution_count": null,
      "outputs": [
        {
          "output_type": "stream",
          "name": "stdout",
          "text": [
            "80\n",
            "50\n"
          ]
        }
      ]
    },
    {
      "cell_type": "markdown",
      "source": [
        "\n",
        "\n",
        "![image.png](data:image/png;base64,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)\n",
        "III) Ordering Elements of List:\n",
        "\n",
        "reverse(): We can use to reverse() order of elements of list."
      ],
      "metadata": {
        "id": "tIsCrHZu0eFD"
      }
    },
    {
      "cell_type": "code",
      "source": [
        "n=[10,11,12,13,14,15,16,17,18]\n",
        "n.reverse()\n",
        "print(n)"
      ],
      "metadata": {
        "id": "6_tWHF-F0cX0",
        "outputId": "3600a1a2-238d-485d-d60f-8f30d4aa19e3",
        "colab": {
          "base_uri": "https://localhost:8080/"
        }
      },
      "execution_count": null,
      "outputs": [
        {
          "output_type": "stream",
          "name": "stdout",
          "text": [
            "[18, 17, 16, 15, 14, 13, 12, 11, 10]\n"
          ]
        }
      ]
    },
    {
      "cell_type": "markdown",
      "source": [
        "2.sort():\n",
        "\n",
        "In list by default insertion order is preserved.\n",
        "\n",
        "If want to sort the elements of list according to default natural sorting order then we should go for sort() method.\n",
        "\n",
        "For numbers --> Default Natural sorting Order is Ascending Order\n",
        "\n",
        "For Strings-->Default Natural sorting order is Alphabetical Order"
      ],
      "metadata": {
        "id": "kwZRydvz1097"
      }
    },
    {
      "cell_type": "code",
      "source": [
        "#For numbers --> Default Natural sorting Order is Ascending Order:\n",
        "l=[1,3,5,7,5,3,2,4,8,5,9,4]\n",
        "l.sort()\n",
        "print(l)"
      ],
      "metadata": {
        "id": "Byq8ld671y-F",
        "outputId": "1c86eab3-3ce9-44e2-9ae7-7817b7e372af",
        "colab": {
          "base_uri": "https://localhost:8080/"
        }
      },
      "execution_count": null,
      "outputs": [
        {
          "output_type": "stream",
          "name": "stdout",
          "text": [
            "[1, 2, 3, 3, 4, 4, 5, 5, 5, 7, 8, 9]\n"
          ]
        }
      ]
    },
    {
      "cell_type": "code",
      "source": [
        "#For Strings-->Default Natural sorting order is Alphabetical Order:\n",
        "s=['dog','cat','hourse','elephant','zebra','monkey','donkey']\n",
        "s.sort()\n",
        "print(s)"
      ],
      "metadata": {
        "id": "E4eODTw82W2L",
        "outputId": "3017e9c6-19a4-4a66-c726-7a3e57573602",
        "colab": {
          "base_uri": "https://localhost:8080/"
        }
      },
      "execution_count": null,
      "outputs": [
        {
          "output_type": "stream",
          "name": "stdout",
          "text": [
            "['cat', 'dog', 'donkey', 'elephant', 'hourse', 'monkey', 'zebra']\n"
          ]
        }
      ]
    },
    {
      "cell_type": "code",
      "source": [
        "s=['dog','cat','hourse','elephant','zebra','monkey','donkey','Dog','Hourse']\n",
        "s.sort()\n",
        "print(s)"
      ],
      "metadata": {
        "id": "uceA5usA2-gu",
        "outputId": "8988f5ba-ce05-43cc-ad33-73ebc05d309d",
        "colab": {
          "base_uri": "https://localhost:8080/"
        }
      },
      "execution_count": null,
      "outputs": [
        {
          "output_type": "stream",
          "name": "stdout",
          "text": [
            "['Dog', 'Hourse', 'cat', 'dog', 'donkey', 'elephant', 'hourse', 'monkey', 'zebra']\n"
          ]
        }
      ]
    },
    {
      "cell_type": "markdown",
      "source": [
        "To Sort in Reverse of Default Natural Sorting Order:\n",
        "\n",
        "We can sort according to reverse of default natural sorting order by using reverse=True argument."
      ],
      "metadata": {
        "id": "c7AUqPbP3bcC"
      }
    },
    {
      "cell_type": "code",
      "source": [
        "n=[20,70,30,50,30,10]\n",
        "n.sort()\n",
        "print(n)\n",
        "n.sort(reverse=True)\n",
        "print(n)\n",
        "n.sort(reverse=False)\n",
        "print(n)"
      ],
      "metadata": {
        "id": "TpFbu33O3S5a",
        "outputId": "1f98b9a4-e983-4f6b-9cb7-77a1fca8326d",
        "colab": {
          "base_uri": "https://localhost:8080/"
        }
      },
      "execution_count": null,
      "outputs": [
        {
          "output_type": "stream",
          "name": "stdout",
          "text": [
            "[10, 20, 30, 30, 50, 70]\n",
            "[70, 50, 30, 30, 20, 10]\n",
            "[10, 20, 30, 30, 50, 70]\n"
          ]
        }
      ]
    },
    {
      "cell_type": "markdown",
      "source": [
        "Aliasing and Cloning of List Objects:\n",
        "\n",
        "The process of giving another reference variable to the existing list is called aliasing."
      ],
      "metadata": {
        "id": "bOQn9hZY4b9I"
      }
    },
    {
      "cell_type": "code",
      "source": [
        "l=[10,20,30,40,50,60]\n",
        "l=m\n",
        "print(id(l))\n",
        "print(id(m))"
      ],
      "metadata": {
        "id": "SaUPFaYe4bDd",
        "outputId": "91ef31bd-616b-477c-95e4-cb3e11e58a33",
        "colab": {
          "base_uri": "https://localhost:8080/"
        }
      },
      "execution_count": null,
      "outputs": [
        {
          "output_type": "stream",
          "name": "stdout",
          "text": [
            "140653270132288\n",
            "140653270132288\n"
          ]
        }
      ]
    },
    {
      "cell_type": "markdown",
      "source": [
        "The process of creating exactly duplicate independent object is called cloning.\n",
        "\n",
        "We can implement cloning by using slice operator or by using copy() function."
      ],
      "metadata": {
        "id": "uSnWI3Ro4zij"
      }
    },
    {
      "cell_type": "code",
      "source": [
        "# Cloning by using slicing operator:\n",
        "x=[11,12,13,14,15]\n",
        "y=x[:]\n",
        "y[2]=23\n",
        "print(x)\n",
        "print(y)"
      ],
      "metadata": {
        "id": "3_zzvUqC4v0f",
        "outputId": "d5e03094-4f28-4c6e-9f1a-2699b7073180",
        "colab": {
          "base_uri": "https://localhost:8080/"
        }
      },
      "execution_count": null,
      "outputs": [
        {
          "output_type": "stream",
          "name": "stdout",
          "text": [
            "[11, 12, 13, 14, 15]\n",
            "[11, 12, 23, 14, 15]\n"
          ]
        }
      ]
    },
    {
      "cell_type": "code",
      "source": [
        "# cloning By using copy() Function:\n",
        "x=[11,12,13,14,15]\n",
        "y=x.copy()\n",
        "y[1]=500\n",
        "print(x)\n",
        "print(y)"
      ],
      "metadata": {
        "id": "4kt_duJ-5zJf",
        "outputId": "0e8fabf6-2c17-45ed-efc5-ca8a48ce31ec",
        "colab": {
          "base_uri": "https://localhost:8080/"
        }
      },
      "execution_count": null,
      "outputs": [
        {
          "output_type": "stream",
          "name": "stdout",
          "text": [
            "[11, 12, 13, 14, 15]\n",
            "[11, 500, 13, 14, 15]\n"
          ]
        }
      ]
    },
    {
      "cell_type": "markdown",
      "source": [
        "Using Mathematical Operators for List Objects\n",
        "\n",
        "Concatenation Operator (+):\n",
        "\n",
        "We can use + to concatenate 2 lists into a single list."
      ],
      "metadata": {
        "id": "1sI5jXMj6JRh"
      }
    },
    {
      "cell_type": "code",
      "source": [
        "a=[10,20,30]\n",
        "b=[40,50,60]\n",
        "c=a+b\n",
        "print(c)"
      ],
      "metadata": {
        "id": "P0S282m06IYY",
        "outputId": "f0d7c535-789c-41f6-c2af-2881b8faff68",
        "colab": {
          "base_uri": "https://localhost:8080/"
        }
      },
      "execution_count": null,
      "outputs": [
        {
          "output_type": "stream",
          "name": "stdout",
          "text": [
            "[10, 20, 30, 40, 50, 60]\n"
          ]
        }
      ]
    },
    {
      "cell_type": "markdown",
      "source": [
        "Repetition Operator (*):\n",
        "\n",
        "We can use repetition operator * to repeat elements of list specified number of times."
      ],
      "metadata": {
        "id": "S7bU-PyJ6xVI"
      }
    },
    {
      "cell_type": "code",
      "source": [
        "a=[10,11,12,13,14,15]\n",
        "b= a*4\n",
        "print(b)"
      ],
      "metadata": {
        "id": "qFRWp2226s6m",
        "outputId": "936d8b75-c54f-49b6-8239-fe4165b5041e",
        "colab": {
          "base_uri": "https://localhost:8080/"
        }
      },
      "execution_count": null,
      "outputs": [
        {
          "output_type": "stream",
          "name": "stdout",
          "text": [
            "[10, 11, 12, 13, 14, 15, 10, 11, 12, 13, 14, 15, 10, 11, 12, 13, 14, 15, 10, 11, 12, 13, 14, 15]\n"
          ]
        }
      ]
    },
    {
      "cell_type": "markdown",
      "source": [
        "Comparing List Objects:\n",
        "\n",
        "We can use comparison operators for List objects."
      ],
      "metadata": {
        "id": "8A-SiOF97GPD"
      }
    },
    {
      "cell_type": "code",
      "source": [
        "x=[\"Dog\",\"Cat\",\"Rat\"]\n",
        "y=[\"Dog\",\"Cat\",\"Rat\"]\n",
        "z=[\"DOG\",\"CAT\",\"RAT\"]\n",
        "print(x == y)\n",
        "print(x == z)\n",
        "print(x != z)\n",
        "print(x != y)"
      ],
      "metadata": {
        "id": "MFdjpm1w7Aia",
        "outputId": "d7ab868f-1247-4b47-d476-b4dbe25acbc1",
        "colab": {
          "base_uri": "https://localhost:8080/"
        }
      },
      "execution_count": null,
      "outputs": [
        {
          "output_type": "stream",
          "name": "stdout",
          "text": [
            "True\n",
            "False\n",
            "True\n",
            "False\n"
          ]
        }
      ]
    },
    {
      "cell_type": "code",
      "source": [
        "x=[20,40,50,10,80,70] #They define on the numbers in list.\n",
        "y=[40,50,60,100,200]\n",
        "print(x>y)\n",
        "print(x>=y)\n",
        "print(x<y)\n",
        "print(x<=y)"
      ],
      "metadata": {
        "id": "-8eG7ykc7sgE",
        "outputId": "ff3ebd96-c990-4fe7-9950-c6d473284262",
        "colab": {
          "base_uri": "https://localhost:8080/"
        }
      },
      "execution_count": null,
      "outputs": [
        {
          "output_type": "stream",
          "name": "stdout",
          "text": [
            "False\n",
            "False\n",
            "True\n",
            "True\n"
          ]
        }
      ]
    },
    {
      "cell_type": "code",
      "source": [
        "x=[20,40,50,10,80,70] #They define on the numbers in list.\n",
        "y=[40,50,60,30,20,70,90,100]\n",
        "print(x>y)\n",
        "print(x>=y)\n",
        "print(x<y)\n",
        "print(x<=y)"
      ],
      "metadata": {
        "id": "pCxuF-Ny78Cy",
        "outputId": "9bfa715f-6b72-45b5-e40a-56569b375190",
        "colab": {
          "base_uri": "https://localhost:8080/"
        }
      },
      "execution_count": null,
      "outputs": [
        {
          "output_type": "stream",
          "name": "stdout",
          "text": [
            "False\n",
            "False\n",
            "True\n",
            "True\n"
          ]
        }
      ]
    },
    {
      "cell_type": "code",
      "source": [
        "x=[20,40,50,10,80,70] #They define on the numbers in list.\n",
        "y=[40,50,60,30,20,70]\n",
        "print(x>y)\n",
        "print(x>=y)\n",
        "print(x<y)\n",
        "print(x<=y)"
      ],
      "metadata": {
        "id": "jiia0Wnl8dYg",
        "outputId": "14d20624-add1-4aeb-fb5a-cfea9025cf2d",
        "colab": {
          "base_uri": "https://localhost:8080/"
        }
      },
      "execution_count": null,
      "outputs": [
        {
          "output_type": "stream",
          "name": "stdout",
          "text": [
            "False\n",
            "False\n",
            "True\n",
            "True\n"
          ]
        }
      ]
    },
    {
      "cell_type": "code",
      "source": [
        "x=[40,50,60,30,20,70] #They define on the numbers in list.\n",
        "y=[20,40,50,10,80,70]\n",
        "print(x>y)\n",
        "print(x>=y)\n",
        "print(x<y)\n",
        "print(x<=y)"
      ],
      "metadata": {
        "id": "yZEvgf868qtW",
        "outputId": "c9aac0c0-3198-429f-a6d7-5fd89369c3c8",
        "colab": {
          "base_uri": "https://localhost:8080/"
        }
      },
      "execution_count": null,
      "outputs": [
        {
          "output_type": "stream",
          "name": "stdout",
          "text": [
            "True\n",
            "True\n",
            "False\n",
            "False\n"
          ]
        }
      ]
    },
    {
      "cell_type": "markdown",
      "source": [
        "Membership Operators:\n",
        "\n",
        "We can check whether element is a member of the list or not by using memebership operators.\n",
        "\n",
        "1) in Operator\n",
        "\n",
        "2) not in Operator"
      ],
      "metadata": {
        "id": "KJvIKUYm9LV_"
      }
    },
    {
      "cell_type": "code",
      "source": [
        "x=[10,20,30,40,50,60]\n",
        "print(50 in x)\n",
        "print(10 not in x)\n",
        "print(80 in x)"
      ],
      "metadata": {
        "id": "cp4JCMfm9HGv",
        "outputId": "e34f5e34-ca9c-46ca-ed3d-330984561d5b",
        "colab": {
          "base_uri": "https://localhost:8080/"
        }
      },
      "execution_count": null,
      "outputs": [
        {
          "output_type": "stream",
          "name": "stdout",
          "text": [
            "True\n",
            "False\n",
            "False\n"
          ]
        }
      ]
    },
    {
      "cell_type": "markdown",
      "source": [
        "clear() function:\n",
        "\n",
        "--> To remove all elements of list\n",
        "\n",
        "> Indented block\n",
        "\n"
      ],
      "metadata": {
        "id": "2kG4um7I9ip_"
      }
    },
    {
      "cell_type": "code",
      "source": [
        "x=[10,20,30,40,50,60]\n",
        "print(x)\n",
        "x.clear()\n",
        "print(x)"
      ],
      "metadata": {
        "id": "Eqwa1f6b9fFe",
        "outputId": "75fc7dac-bc3f-49d9-bd86-8218ef807070",
        "colab": {
          "base_uri": "https://localhost:8080/"
        }
      },
      "execution_count": null,
      "outputs": [
        {
          "output_type": "stream",
          "name": "stdout",
          "text": [
            "[10, 20, 30, 40, 50, 60]\n",
            "[]\n"
          ]
        }
      ]
    },
    {
      "cell_type": "markdown",
      "source": [
        "Nested Lists:\n",
        "\n",
        "Sometimes we can take one list inside another list. Such type of lists are called nested"
      ],
      "metadata": {
        "id": "UAZzUuQA9595"
      }
    },
    {
      "cell_type": "code",
      "source": [
        "x=[30,40,50,[40,60,70]]\n",
        "print(x)\n",
        "print(x[0])\n",
        "print(x[3])\n",
        "print(x[3][2])"
      ],
      "metadata": {
        "id": "OBYahbfY905S",
        "outputId": "417cafcf-1479-4263-aaa0-0f4e7c14b7d8",
        "colab": {
          "base_uri": "https://localhost:8080/"
        }
      },
      "execution_count": null,
      "outputs": [
        {
          "output_type": "stream",
          "name": "stdout",
          "text": [
            "[30, 40, 50, [40, 60, 70]]\n",
            "30\n",
            "[40, 60, 70]\n",
            "70\n"
          ]
        }
      ]
    },
    {
      "cell_type": "code",
      "source": [
        "#Nested List as Matrix:\n",
        " # In Python we can represent matrix by using nested lists.\n",
        "x=[[10,20,30],[20,30,40],[30,40,50]]\n",
        "print(x)\n",
        "print(\"Elements by Row wise:\")\n",
        "for r in x:\n",
        "   print(r)\n",
        "print(\"Elements by Matrix style:\")\n",
        "for i in range(len(x)):\n",
        "  for j in range(len(x[i])):\n",
        "     print(x[i][j],end=' ')\n",
        "  print()"
      ],
      "metadata": {
        "id": "q0sXrCvx-3Bu",
        "outputId": "1bb3916e-c100-47ff-f6a9-2e29ec1024d4",
        "colab": {
          "base_uri": "https://localhost:8080/"
        }
      },
      "execution_count": null,
      "outputs": [
        {
          "output_type": "stream",
          "name": "stdout",
          "text": [
            "[[10, 20, 30], [20, 30, 40], [30, 40, 50]]\n",
            "Elements by Row wise:\n",
            "[10, 20, 30]\n",
            "[20, 30, 40]\n",
            "[30, 40, 50]\n",
            "Elements by Matrix style:\n",
            "10 20 30 \n",
            "20 30 40 \n",
            "30 40 50 \n"
          ]
        }
      ]
    },
    {
      "cell_type": "markdown",
      "source": [
        "List Comprehensions:\n",
        "\n",
        "It is very easy and compact way of creating list objects from any iterable objects (Like List, Tuple, Dictionary, Range etc) based on some condition.\n",
        "\n",
        "Syntax: list = [expression for item in list if condition]"
      ],
      "metadata": {
        "id": "xcP9OVfyAP8_"
      }
    },
    {
      "cell_type": "code",
      "source": [
        "l=[m*m for m in range(0,20)]\n",
        "print(l)"
      ],
      "metadata": {
        "id": "yYOEMIQ-_2YX",
        "outputId": "d1ba5f74-b465-4a13-b0fb-e078b2b4fdf3",
        "colab": {
          "base_uri": "https://localhost:8080/"
        }
      },
      "execution_count": null,
      "outputs": [
        {
          "output_type": "stream",
          "name": "stdout",
          "text": [
            "[0, 1, 4, 9, 16, 25, 36, 49, 64, 81, 100, 121, 144, 169, 196, 225, 256, 289, 324, 361]\n"
          ]
        }
      ]
    },
    {
      "cell_type": "code",
      "source": [
        "l=[m*m for m in range(0,21)]\n",
        "print(l)"
      ],
      "metadata": {
        "id": "yPu3NVV0AwLK",
        "outputId": "5c3e045c-3459-47e3-f8b5-2613eda3bfe5",
        "colab": {
          "base_uri": "https://localhost:8080/"
        }
      },
      "execution_count": null,
      "outputs": [
        {
          "output_type": "stream",
          "name": "stdout",
          "text": [
            "[0, 1, 4, 9, 16, 25, 36, 49, 64, 81, 100, 121, 144, 169, 196, 225, 256, 289, 324, 361, 400]\n"
          ]
        }
      ]
    },
    {
      "cell_type": "code",
      "source": [
        "n=[m for m in l if m%2==0]\n",
        "print(n)"
      ],
      "metadata": {
        "id": "fYPAGbkNAz8B",
        "outputId": "207b67e0-1cbb-4295-cf67-699db78b19db",
        "colab": {
          "base_uri": "https://localhost:8080/"
        }
      },
      "execution_count": null,
      "outputs": [
        {
          "output_type": "stream",
          "name": "stdout",
          "text": [
            "[0, 4, 16, 36, 64, 100, 144, 196, 256, 324, 400]\n"
          ]
        }
      ]
    },
    {
      "cell_type": "code",
      "source": [
        "words=[\"Balaiah\",\"Nag\",\"Venkatesh\",\"Chiranjeevi\"]\n",
        "l=[w[0] for w in words]\n",
        "print(l)"
      ],
      "metadata": {
        "id": "kXK0jdShBWP4",
        "outputId": "b76b6a7a-1680-41dd-ef6c-668ae83f0cb1",
        "colab": {
          "base_uri": "https://localhost:8080/"
        }
      },
      "execution_count": null,
      "outputs": [
        {
          "output_type": "stream",
          "name": "stdout",
          "text": [
            "['B', 'N', 'V', 'C']\n"
          ]
        }
      ]
    },
    {
      "cell_type": "code",
      "source": [
        "num1=[10,20,30,40,50]\n",
        "num2=[40,50,60,70]\n",
        "num3=[i for i in num1 if i not in num2]\n",
        "print(num3)\n",
        "\n",
        "# Task: find the commom elements in two lists by using list comprehension"
      ],
      "metadata": {
        "id": "c_uJ40e_CZl6",
        "outputId": "deb84ca0-a229-4306-848b-680107905d18",
        "colab": {
          "base_uri": "https://localhost:8080/"
        }
      },
      "execution_count": null,
      "outputs": [
        {
          "output_type": "stream",
          "name": "stdout",
          "text": [
            "[10, 20, 30]\n"
          ]
        }
      ]
    }
  ]
}