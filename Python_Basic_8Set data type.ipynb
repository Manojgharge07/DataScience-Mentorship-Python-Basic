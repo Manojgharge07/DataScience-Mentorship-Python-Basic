{
  "nbformat": 4,
  "nbformat_minor": 0,
  "metadata": {
    "colab": {
      "name": "Python Basic_8.ipynb",
      "provenance": [],
      "authorship_tag": "ABX9TyPqnFeZNKhfZbUOb6ylDV8n",
      "include_colab_link": true
    },
    "kernelspec": {
      "name": "python3",
      "display_name": "Python 3"
    },
    "language_info": {
      "name": "python"
    }
  },
  "cells": [
    {
      "cell_type": "markdown",
      "metadata": {
        "id": "view-in-github",
        "colab_type": "text"
      },
      "source": [
        "<a href=\"https://colab.research.google.com/github/Manojgharge07/DataScience-Mentorship-Python-Basic/blob/main/Python_Basic_8Set%20data%20type.ipynb\" target=\"_parent\"><img src=\"https://colab.research.google.com/assets/colab-badge.svg\" alt=\"Open In Colab\"/></a>"
      ]
    },
    {
      "cell_type": "markdown",
      "source": [
        "# **SET - Data Structure**\n",
        "\n",
        "If we want to represent a group of unique values as a single entity then we should go for set.\n",
        "\n",
        "Duplicates are not allowed.\n",
        "\n",
        "Insertion order is not preserved.But we can sort the elements.\n",
        "\n",
        "Indexing and slicing not allowed for the set.\n",
        "\n",
        "Heterogeneous elements are allowed.\n",
        "\n",
        "Set objects are mutable i.e once we creates set object we can perform any changes in that object based on our requirement.\n",
        "\n",
        "We can represent set elements within curly braces and with comma seperation\n",
        "We can apply mathematical operations like union, intersection, difference etc on set objects."
      ],
      "metadata": {
        "id": "bBjyNncgPkC9"
      }
    },
    {
      "cell_type": "code",
      "execution_count": null,
      "metadata": {
        "colab": {
          "base_uri": "https://localhost:8080/"
        },
        "id": "bklyGI1lMKPE",
        "outputId": "bae8962c-2b65-4e86-ea3e-5b99585287a7"
      },
      "outputs": [
        {
          "output_type": "stream",
          "name": "stdout",
          "text": [
            "<class 'set'>\n",
            "{1, 2, 3, 4, 5}\n"
          ]
        }
      ],
      "source": [
        "#set\n",
        "s={1,2,3,4,5}\n",
        "print(type(s))\n",
        "print(s)"
      ]
    },
    {
      "cell_type": "code",
      "source": [
        "# Heterogeneous items allowed\n",
        "s={10,20,30,40,'a',\"python\",(11,12,13,14)}\n",
        "print(s)\n",
        "print(type(s))"
      ],
      "metadata": {
        "colab": {
          "base_uri": "https://localhost:8080/"
        },
        "id": "2lzuAI7xncDT",
        "outputId": "c950003d-0c74-48f7-a32b-2a87eee0a6cf"
      },
      "execution_count": null,
      "outputs": [
        {
          "output_type": "stream",
          "name": "stdout",
          "text": [
            "{'python', 'a', 40, 10, 20, (11, 12, 13, 14), 30}\n",
            "<class 'set'>\n"
          ]
        }
      ]
    },
    {
      "cell_type": "code",
      "source": [
        "# we can create set  using list, list to set fun x = set(s)\n",
        "s= [10,20,30,40,50]\n",
        "\n",
        "x = set(s)\n",
        "print(x)\n",
        "print(type(s))\n",
        "print(type(x))"
      ],
      "metadata": {
        "colab": {
          "base_uri": "https://localhost:8080/"
        },
        "id": "JYkzpLfBpPD6",
        "outputId": "2b9967a7-7101-41f0-a836-b05aeaa4bdb6"
      },
      "execution_count": null,
      "outputs": [
        {
          "output_type": "stream",
          "name": "stdout",
          "text": [
            "{40, 10, 50, 20, 30}\n",
            "<class 'list'>\n",
            "<class 'set'>\n"
          ]
        }
      ]
    },
    {
      "cell_type": "code",
      "source": [
        "s=set(range(6))\n",
        "print(s)"
      ],
      "metadata": {
        "colab": {
          "base_uri": "https://localhost:8080/"
        },
        "id": "4_J5e_2eqOEI",
        "outputId": "29a7c16b-cd5f-47f8-ee7d-991c70499a95"
      },
      "execution_count": null,
      "outputs": [
        {
          "output_type": "stream",
          "name": "stdout",
          "text": [
            "{0, 1, 2, 3, 4, 5}\n"
          ]
        }
      ]
    },
    {
      "cell_type": "code",
      "source": [
        "s=set(range(6))\n",
        "s"
      ],
      "metadata": {
        "colab": {
          "base_uri": "https://localhost:8080/"
        },
        "id": "6LDQOBP_q2Yr",
        "outputId": "d8f65465-9f42-446d-9013-39780e9fe590"
      },
      "execution_count": null,
      "outputs": [
        {
          "output_type": "execute_result",
          "data": {
            "text/plain": [
              "{0, 1, 2, 3, 4, 5}"
            ]
          },
          "metadata": {},
          "execution_count": 14
        }
      ]
    },
    {
      "cell_type": "code",
      "source": [
        " #In set duplicate function are not allowed.\n",
        "s= {10,20,20,30,40,10,40}\n",
        "s"
      ],
      "metadata": {
        "colab": {
          "base_uri": "https://localhost:8080/"
        },
        "id": "2HLP41oPq9st",
        "outputId": "65581fa7-d529-4e8c-be10-cec1dc454751"
      },
      "execution_count": null,
      "outputs": [
        {
          "output_type": "execute_result",
          "data": {
            "text/plain": [
              "{10, 20, 30, 40}"
            ]
          },
          "metadata": {},
          "execution_count": 15
        }
      ]
    },
    {
      "cell_type": "code",
      "source": [
        "#in set minus function are allowed:\n",
        "s= {1,2,-3,4,-5,-1}\n",
        "s"
      ],
      "metadata": {
        "colab": {
          "base_uri": "https://localhost:8080/"
        },
        "id": "H3Igj8_jsT9N",
        "outputId": "04f0af06-ae98-419c-b045-7189ad386650"
      },
      "execution_count": null,
      "outputs": [
        {
          "output_type": "execute_result",
          "data": {
            "text/plain": [
              "{-5, -3, -1, 1, 2, 4}"
            ]
          },
          "metadata": {},
          "execution_count": 17
        }
      ]
    },
    {
      "cell_type": "code",
      "source": [
        "#we use minus in range type we get output od empty set:\n",
        "s = set(range(-1))\n",
        "print(s)"
      ],
      "metadata": {
        "colab": {
          "base_uri": "https://localhost:8080/"
        },
        "id": "2ob5jdZJt4Zf",
        "outputId": "695a1e6a-0194-43c2-ee07-48853ee660d8"
      },
      "execution_count": null,
      "outputs": [
        {
          "output_type": "stream",
          "name": "stdout",
          "text": [
            "set()\n"
          ]
        }
      ]
    },
    {
      "cell_type": "markdown",
      "source": [
        "# **Important Functions of Set:**"
      ],
      "metadata": {
        "id": "B-WgSkIWDGSE"
      }
    },
    {
      "cell_type": "code",
      "source": [
        "#add(x): add item a to the set:\n",
        "a = {10,20,30,40,50,60}\n",
        "a.add(35)\n",
        "print(a)"
      ],
      "metadata": {
        "colab": {
          "base_uri": "https://localhost:8080/"
        },
        "id": "eOqDFVaRuJOn",
        "outputId": "5e61e675-992b-4b07-ed17-a405de99f7ac"
      },
      "execution_count": null,
      "outputs": [
        {
          "output_type": "stream",
          "name": "stdout",
          "text": [
            "{35, 40, 10, 50, 20, 60, 30}\n"
          ]
        }
      ]
    },
    {
      "cell_type": "code",
      "source": [
        "#add(-x): add item a to the set:\n",
        "a = {10,20,30,40,50,60}\n",
        "a.add(-29)\n",
        "print(a)"
      ],
      "metadata": {
        "colab": {
          "base_uri": "https://localhost:8080/"
        },
        "id": "3ICFgY5xEbif",
        "outputId": "8bdb7b99-3b62-4029-8c6b-246479705f06"
      },
      "execution_count": null,
      "outputs": [
        {
          "output_type": "stream",
          "name": "stdout",
          "text": [
            "{-29, 40, 10, 50, 20, 60, 30}\n"
          ]
        }
      ]
    },
    {
      "cell_type": "code",
      "source": [
        "#update : update multiple items in set:\n",
        "a = {3,6,9,12,15}\n",
        "b = {12,15,18,21,24}\n",
        "a.update(b) #Duplicates not allowed.\n",
        "a"
      ],
      "metadata": {
        "colab": {
          "base_uri": "https://localhost:8080/"
        },
        "id": "LX9iZvbmEixJ",
        "outputId": "a2599e81-98f5-442e-dba9-bed9b2d6ae6b"
      },
      "execution_count": null,
      "outputs": [
        {
          "output_type": "execute_result",
          "data": {
            "text/plain": [
              "{3, 6, 9, 12, 15, 18, 21, 24}"
            ]
          },
          "metadata": {},
          "execution_count": 32
        }
      ]
    },
    {
      "cell_type": "markdown",
      "source": [
        "Q) What is the difference between add() and update() Functions in Set?\n",
        "\n",
        "We can use add() to add individual item to the Set,where as we can use update() function to add multiple items to Set.\n",
        "\n",
        "add() function can take only one argument where as update() function can take any number of arguments."
      ],
      "metadata": {
        "id": "vNmyU7rjF65U"
      }
    },
    {
      "cell_type": "code",
      "source": [
        "#copy(): returns copy of the set(cloning)\n",
        "x = {5,10,15,20,25}\n",
        "y = x.copy()\n",
        "print(x)\n",
        "print(y)"
      ],
      "metadata": {
        "colab": {
          "base_uri": "https://localhost:8080/"
        },
        "id": "JFqk0IzuF2CN",
        "outputId": "30bc3f0b-c27d-4a3a-cbf1-b5eb72e314d3"
      },
      "execution_count": null,
      "outputs": [
        {
          "output_type": "stream",
          "name": "stdout",
          "text": [
            "{5, 10, 15, 20, 25}\n",
            "{20, 5, 25, 10, 15}\n"
          ]
        }
      ]
    },
    {
      "cell_type": "code",
      "source": [
        "# pop(): It removes and returns some random element from the set \n",
        "x = [310,321,329,345,200,231] \n",
        "y = set(s)                 #converting list into set\n",
        "y"
      ],
      "metadata": {
        "colab": {
          "base_uri": "https://localhost:8080/"
        },
        "id": "LUUu28t1HYsS",
        "outputId": "d6527631-9a3d-4815-d20e-92aee74fc4e1"
      },
      "execution_count": null,
      "outputs": [
        {
          "output_type": "execute_result",
          "data": {
            "text/plain": [
              "{200, 231, 310, 321, 329, 345}"
            ]
          },
          "metadata": {},
          "execution_count": 45
        }
      ]
    },
    {
      "cell_type": "code",
      "source": [
        "y.pop() #To remove any random element\n",
        "\n",
        "x = {200,210,220,230}\n",
        "y = x.pop()\n",
        "print(y)"
      ],
      "metadata": {
        "colab": {
          "base_uri": "https://localhost:8080/"
        },
        "id": "r_V9CueiICMd",
        "outputId": "9ea7faa0-548f-408f-baec-84c2d23ad0d7"
      },
      "execution_count": null,
      "outputs": [
        {
          "output_type": "stream",
          "name": "stdout",
          "text": [
            "200\n"
          ]
        }
      ]
    },
    {
      "cell_type": "code",
      "source": [
        "y"
      ],
      "metadata": {
        "colab": {
          "base_uri": "https://localhost:8080/"
        },
        "id": "ALalWi0TIJ5h",
        "outputId": "4a17bd5b-2598-4389-a9af-785a6b13e6a2"
      },
      "execution_count": null,
      "outputs": [
        {
          "output_type": "execute_result",
          "data": {
            "text/plain": [
              "200"
            ]
          },
          "metadata": {},
          "execution_count": 47
        }
      ]
    },
    {
      "cell_type": "code",
      "source": [
        "#remove(x):removes specified item from the set\n",
        "s = {100, 110,120,130,140,150}\n",
        "t = s.remove(130)\n",
        "print(s)"
      ],
      "metadata": {
        "colab": {
          "base_uri": "https://localhost:8080/"
        },
        "id": "UF-65nR3ILlo",
        "outputId": "4de26cf3-4c02-4c38-e605-7ee02147201b"
      },
      "execution_count": null,
      "outputs": [
        {
          "output_type": "stream",
          "name": "stdout",
          "text": [
            "{100, 140, 110, 150, 120}\n"
          ]
        }
      ]
    },
    {
      "cell_type": "code",
      "source": [
        "t = s.remove(110)\n",
        "print(s)"
      ],
      "metadata": {
        "colab": {
          "base_uri": "https://localhost:8080/"
        },
        "id": "prCHs1VDLKyj",
        "outputId": "e2f28214-a729-4815-abdb-a2afa0100532"
      },
      "execution_count": null,
      "outputs": [
        {
          "output_type": "stream",
          "name": "stdout",
          "text": [
            "{100, 140, 120}\n"
          ]
        }
      ]
    },
    {
      "cell_type": "code",
      "source": [
        "t = s.remove(180) #Use value which is not in set get keyerror:\n",
        "print(s)"
      ],
      "metadata": {
        "colab": {
          "base_uri": "https://localhost:8080/",
          "height": 183
        },
        "id": "Ci4D1_gcLnMo",
        "outputId": "65f250b2-7d57-418e-990c-28db4846b319"
      },
      "execution_count": null,
      "outputs": [
        {
          "output_type": "error",
          "ename": "KeyError",
          "evalue": "ignored",
          "traceback": [
            "\u001b[0;31m---------------------------------------------------------------------------\u001b[0m",
            "\u001b[0;31mKeyError\u001b[0m                                  Traceback (most recent call last)",
            "\u001b[0;32m<ipython-input-65-063f419a52ad>\u001b[0m in \u001b[0;36m<module>\u001b[0;34m()\u001b[0m\n\u001b[0;32m----> 1\u001b[0;31m \u001b[0mt\u001b[0m \u001b[0;34m=\u001b[0m \u001b[0ms\u001b[0m\u001b[0;34m.\u001b[0m\u001b[0mremove\u001b[0m\u001b[0;34m(\u001b[0m\u001b[0;36m180\u001b[0m\u001b[0;34m)\u001b[0m \u001b[0;31m#Use value which is not in set get keyerror:\u001b[0m\u001b[0;34m\u001b[0m\u001b[0;34m\u001b[0m\u001b[0m\n\u001b[0m\u001b[1;32m      2\u001b[0m \u001b[0mprint\u001b[0m\u001b[0;34m(\u001b[0m\u001b[0ms\u001b[0m\u001b[0;34m)\u001b[0m\u001b[0;34m\u001b[0m\u001b[0;34m\u001b[0m\u001b[0m\n",
            "\u001b[0;31mKeyError\u001b[0m: 180"
          ]
        }
      ]
    },
    {
      "cell_type": "code",
      "source": [
        "#discard(): It removes specified element from the space\n",
        "# If specified error not present in the set then it will not throw error\n",
        "a = {20,40,60,250,80,100}\n",
        "\n",
        "a.discard(250)\n",
        "a"
      ],
      "metadata": {
        "colab": {
          "base_uri": "https://localhost:8080/"
        },
        "id": "VWv3nZT0MH_s",
        "outputId": "2d3cfa73-69c9-461a-990d-35f6e20c67bd"
      },
      "execution_count": null,
      "outputs": [
        {
          "output_type": "execute_result",
          "data": {
            "text/plain": [
              "{20, 40, 60, 80, 100}"
            ]
          },
          "metadata": {},
          "execution_count": 3
        }
      ]
    },
    {
      "cell_type": "code",
      "source": [
        "a.discard(20)\n",
        "a"
      ],
      "metadata": {
        "colab": {
          "base_uri": "https://localhost:8080/"
        },
        "id": "EuTfKArkhr1l",
        "outputId": "79928bf7-c075-42e4-ba2c-8e0d1f19c86d"
      },
      "execution_count": null,
      "outputs": [
        {
          "output_type": "execute_result",
          "data": {
            "text/plain": [
              "{40, 60, 80, 100}"
            ]
          },
          "metadata": {},
          "execution_count": 5
        }
      ]
    },
    {
      "cell_type": "code",
      "source": [
        "a.discard(200) #if function n0t in set:\n",
        "a"
      ],
      "metadata": {
        "colab": {
          "base_uri": "https://localhost:8080/"
        },
        "id": "oW5zamm7h3kq",
        "outputId": "adee2c5d-b41d-47f0-ef77-f0e2ca9c666e"
      },
      "execution_count": null,
      "outputs": [
        {
          "output_type": "execute_result",
          "data": {
            "text/plain": [
              "{40, 60, 80, 100}"
            ]
          },
          "metadata": {},
          "execution_count": 7
        }
      ]
    },
    {
      "cell_type": "code",
      "source": [
        "#clear(): to remove all the elements from the set:\n",
        "x = {2,4,6,8,10,12,14,16,18}\n",
        "x.clear()\n",
        "x"
      ],
      "metadata": {
        "colab": {
          "base_uri": "https://localhost:8080/"
        },
        "id": "5NxmwPkBjBZx",
        "outputId": "9cd93c71-af17-47a7-9a27-82175c247bc1"
      },
      "execution_count": null,
      "outputs": [
        {
          "output_type": "execute_result",
          "data": {
            "text/plain": [
              "set()"
            ]
          },
          "metadata": {},
          "execution_count": 14
        }
      ]
    },
    {
      "cell_type": "markdown",
      "source": [
        "# **IMPORTANT CONCEPTS**\n",
        "\n",
        "Mathematical Operations on the Set:"
      ],
      "metadata": {
        "id": "s2n8q1OykYus"
      }
    },
    {
      "cell_type": "code",
      "source": [
        "# 1. union() :\n",
        "# Syntax: x.union(y) OR x|y: Return all the elements present in both sets\n",
        "x = {12,34,56,32,67,89}\n",
        "y = {21,43,32,66,98,67}\n",
        "x.union(y)"
      ],
      "metadata": {
        "id": "DebWWw0TkHHT",
        "outputId": "38139b55-2070-41c3-e99b-81f6625c97d6",
        "colab": {
          "base_uri": "https://localhost:8080/"
        }
      },
      "execution_count": null,
      "outputs": [
        {
          "output_type": "execute_result",
          "data": {
            "text/plain": [
              "{12, 21, 32, 34, 43, 56, 66, 67, 89, 98}"
            ]
          },
          "metadata": {},
          "execution_count": 2
        }
      ]
    },
    {
      "cell_type": "code",
      "source": [
        "x|y "
      ],
      "metadata": {
        "id": "gV4mQl744bXc",
        "outputId": "401f3480-46a1-453f-bdf6-76850ca3f1db",
        "colab": {
          "base_uri": "https://localhost:8080/"
        }
      },
      "execution_count": null,
      "outputs": [
        {
          "output_type": "execute_result",
          "data": {
            "text/plain": [
              "{12, 21, 32, 34, 43, 56, 66, 67, 89, 98}"
            ]
          },
          "metadata": {},
          "execution_count": 3
        }
      ]
    },
    {
      "cell_type": "code",
      "source": [
        "x = {12,34,56,32,67,89,44,58}\n",
        "y = {21,43,32,66,98,67,40}\n",
        "print(x.union(y))\n",
        "print(y.union(x))\n",
        "print(x|y)\n",
        "print(y|x)"
      ],
      "metadata": {
        "id": "eWGq2vCB4ly3",
        "outputId": "4b1675b1-14fc-4604-e1e3-e08a628e3a71",
        "colab": {
          "base_uri": "https://localhost:8080/"
        }
      },
      "execution_count": null,
      "outputs": [
        {
          "output_type": "stream",
          "name": "stdout",
          "text": [
            "{32, 34, 67, 66, 98, 40, 43, 12, 44, 21, 56, 89, 58}\n",
            "{32, 66, 98, 67, 34, 40, 43, 12, 44, 21, 56, 89, 58}\n",
            "{32, 34, 67, 66, 98, 40, 43, 12, 44, 21, 56, 89, 58}\n",
            "{32, 66, 98, 67, 34, 40, 43, 12, 44, 21, 56, 89, 58}\n"
          ]
        }
      ]
    },
    {
      "cell_type": "code",
      "source": [
        "# 2. intersection():\n",
        "#Syntax: x.intersection(y) or x&y\n",
        "#Returns common elements present in both x and y:\n",
        "x = {10,15,20,25,30,35,40}\n",
        "y = {20,40,50,55,60,35,70}\n",
        "x.intersection(y)"
      ],
      "metadata": {
        "id": "uTibGm7m5TZ5",
        "outputId": "3ceff599-579d-497b-ac24-4a09b2d32bf5",
        "colab": {
          "base_uri": "https://localhost:8080/"
        }
      },
      "execution_count": null,
      "outputs": [
        {
          "output_type": "execute_result",
          "data": {
            "text/plain": [
              "{20, 35, 40}"
            ]
          },
          "metadata": {},
          "execution_count": 7
        }
      ]
    },
    {
      "cell_type": "code",
      "source": [
        "m = {20,30,40,50,60}\n",
        "p = {40,60,70,50,80}\n",
        "print(m.intersection(p))\n",
        "\n",
        "m&p"
      ],
      "metadata": {
        "id": "382irSBD6Jd1",
        "outputId": "bc02e15d-df0e-4d5b-ffb8-6534c8d03fa3",
        "colab": {
          "base_uri": "https://localhost:8080/"
        }
      },
      "execution_count": null,
      "outputs": [
        {
          "output_type": "stream",
          "name": "stdout",
          "text": [
            "{40, 50, 60}\n"
          ]
        },
        {
          "output_type": "execute_result",
          "data": {
            "text/plain": [
              "{40, 50, 60}"
            ]
          },
          "metadata": {},
          "execution_count": 10
        }
      ]
    },
    {
      "cell_type": "code",
      "source": [
        "# 3. difference():\n",
        "# Syntax: x.difference(y) OR x-y.\n",
        "#Returns the elements present in x but not in y.\n",
        "x = {10,15,36,965,3,33,45}\n",
        "y = {12,30,36,33,45}\n",
        "x.difference(y)\n"
      ],
      "metadata": {
        "id": "NgWi3qLh7HR8",
        "outputId": "c9e53594-6a79-451e-ead0-2fa3e9968083",
        "colab": {
          "base_uri": "https://localhost:8080/"
        }
      },
      "execution_count": null,
      "outputs": [
        {
          "output_type": "execute_result",
          "data": {
            "text/plain": [
              "{3, 10, 15, 965}"
            ]
          },
          "metadata": {},
          "execution_count": 13
        }
      ]
    },
    {
      "cell_type": "code",
      "source": [
        "x = {10,15,36,965,3,33,45}\n",
        "y = {12,30,36,33,45}\n",
        "\n",
        "x-y"
      ],
      "metadata": {
        "id": "v7MAj-Fs7zSI",
        "outputId": "d11d4326-b66c-4af6-b54e-5fd128461931",
        "colab": {
          "base_uri": "https://localhost:8080/"
        }
      },
      "execution_count": null,
      "outputs": [
        {
          "output_type": "execute_result",
          "data": {
            "text/plain": [
              "{3, 10, 15, 965}"
            ]
          },
          "metadata": {},
          "execution_count": 14
        }
      ]
    },
    {
      "cell_type": "code",
      "source": [
        "x = {10,15,36,965,3,33,45}\n",
        "y = {12,30,36,33,45}\n",
        "\n",
        "y-x"
      ],
      "metadata": {
        "id": "VrR0TobV8lPW",
        "outputId": "7758c6d0-cab9-465e-90d2-8b28f31be94a",
        "colab": {
          "base_uri": "https://localhost:8080/"
        }
      },
      "execution_count": null,
      "outputs": [
        {
          "output_type": "execute_result",
          "data": {
            "text/plain": [
              "{12, 30}"
            ]
          },
          "metadata": {},
          "execution_count": 15
        }
      ]
    },
    {
      "cell_type": "code",
      "source": [
        "#4. symmetric_difference():\n",
        "# x.symmetric_difference(y) OR x^y\n",
        "#Returns elements present in either x OR y but not in both.\n",
        "x = {10,23,54,67,38,78,'Python',0}\n",
        "y = {12,36,0,'is','while',56,76,67}\n",
        "\n",
        "x.difference(y)"
      ],
      "metadata": {
        "id": "ynIFibiv8r8T",
        "outputId": "718f1fb7-8911-494f-b1ea-048755a2b444",
        "colab": {
          "base_uri": "https://localhost:8080/"
        }
      },
      "execution_count": null,
      "outputs": [
        {
          "output_type": "execute_result",
          "data": {
            "text/plain": [
              "{10, 23, 38, 54, 78, 'Python'}"
            ]
          },
          "metadata": {},
          "execution_count": 17
        }
      ]
    },
    {
      "cell_type": "code",
      "source": [
        "x = {10,23,54,67,38,78,'Python',0}\n",
        "y = {12,36,0,'is','while',56,76,67}\n",
        "\n",
        "y.difference(x)"
      ],
      "metadata": {
        "id": "JzqI-Ns8BfxT",
        "outputId": "62ac036f-e74a-4d2c-a366-2da5ee08c89d",
        "colab": {
          "base_uri": "https://localhost:8080/"
        }
      },
      "execution_count": null,
      "outputs": [
        {
          "output_type": "execute_result",
          "data": {
            "text/plain": [
              "{12, 36, 56, 76, 'is', 'while'}"
            ]
          },
          "metadata": {},
          "execution_count": 18
        }
      ]
    },
    {
      "cell_type": "code",
      "source": [
        "x^y"
      ],
      "metadata": {
        "id": "PEBb854PB3np",
        "outputId": "b01fd0dc-de1d-47b4-c4c1-207a8be9891d",
        "colab": {
          "base_uri": "https://localhost:8080/"
        }
      },
      "execution_count": null,
      "outputs": [
        {
          "output_type": "execute_result",
          "data": {
            "text/plain": [
              "{10, 12, 23, 36, 38, 54, 56, 76, 78, 'Python', 'is', 'while'}"
            ]
          },
          "metadata": {},
          "execution_count": 19
        }
      ]
    },
    {
      "cell_type": "markdown",
      "source": [
        "# **membership operator (in , not in)**"
      ],
      "metadata": {
        "id": "UWlJQhWyCKtW"
      }
    },
    {
      "cell_type": "code",
      "source": [
        "x = {10,15,36,965,3,33,45}\n",
        "36 in x"
      ],
      "metadata": {
        "id": "7QzxLizTB6Y6",
        "outputId": "3c14e530-95bc-423d-f33c-32e560eb637b",
        "colab": {
          "base_uri": "https://localhost:8080/"
        }
      },
      "execution_count": null,
      "outputs": [
        {
          "output_type": "execute_result",
          "data": {
            "text/plain": [
              "True"
            ]
          },
          "metadata": {},
          "execution_count": 20
        }
      ]
    },
    {
      "cell_type": "code",
      "source": [
        "x = {10,15,36,965,3,33,45}\n",
        "54 in x"
      ],
      "metadata": {
        "id": "YRHGp2vvCucZ",
        "outputId": "bf418780-7887-41fb-f8ce-b826a5ae0a35",
        "colab": {
          "base_uri": "https://localhost:8080/"
        }
      },
      "execution_count": null,
      "outputs": [
        {
          "output_type": "execute_result",
          "data": {
            "text/plain": [
              "False"
            ]
          },
          "metadata": {},
          "execution_count": 22
        }
      ]
    },
    {
      "cell_type": "code",
      "source": [
        "a = set(\"world economy\")\n",
        "print(a)\n",
        "print(\"m\" in a)\n",
        "print(\" \" in a) #space is required in both colon.\n",
        "\"a\" in a"
      ],
      "metadata": {
        "id": "SIKDC7rDC1H7",
        "outputId": "b7082827-bcb1-41d1-dbee-32f3eb22b012",
        "colab": {
          "base_uri": "https://localhost:8080/"
        }
      },
      "execution_count": null,
      "outputs": [
        {
          "output_type": "stream",
          "name": "stdout",
          "text": [
            "{'r', 'm', 'e', 'n', 'w', 'l', 'y', 'd', ' ', 'o', 'c'}\n",
            "True\n",
            "True\n"
          ]
        },
        {
          "output_type": "execute_result",
          "data": {
            "text/plain": [
              "False"
            ]
          },
          "metadata": {},
          "execution_count": 31
        }
      ]
    },
    {
      "cell_type": "markdown",
      "source": [
        "# **Set Comprehension:**"
      ],
      "metadata": {
        "id": "TTbzgCn2Ee5Y"
      }
    },
    {
      "cell_type": "code",
      "source": [
        "#Set comprehension is possible:\n",
        "x = {s*s for s in range(7)}\n",
        "print(x)"
      ],
      "metadata": {
        "id": "zL-GTKB0Dijp",
        "outputId": "8834036e-0926-486f-fdaf-b4d6b5979b27",
        "colab": {
          "base_uri": "https://localhost:8080/"
        }
      },
      "execution_count": null,
      "outputs": [
        {
          "output_type": "stream",
          "name": "stdout",
          "text": [
            "{0, 1, 4, 36, 9, 16, 25}\n"
          ]
        }
      ]
    },
    {
      "cell_type": "code",
      "source": [
        "x = {a*a for a in range(0,101,10)}\n",
        "print(x)"
      ],
      "metadata": {
        "id": "JH8kHKbME69T",
        "outputId": "3b357b87-d1b2-4fb2-8cf4-537fcf1894cb",
        "colab": {
          "base_uri": "https://localhost:8080/"
        }
      },
      "execution_count": null,
      "outputs": [
        {
          "output_type": "stream",
          "name": "stdout",
          "text": [
            "{0, 1600, 6400, 900, 100, 2500, 4900, 8100, 400, 3600, 10000}\n"
          ]
        }
      ]
    },
    {
      "cell_type": "markdown",
      "source": [
        "# Q) Write a Program to eliminate Duplicates Present in the List?"
      ],
      "metadata": {
        "id": "8ETH8qbNFyOb"
      }
    },
    {
      "cell_type": "code",
      "source": [
        "list1 = [20,40,10,50,70,30,50,30,10] #duplicates numbers present in list1\n",
        "list2 = []    #empty list \n",
        "for i in list1:\n",
        "  if i not in list2:\n",
        "    list2.append(i)     #list.append() items in list\n",
        "print(list2)"
      ],
      "metadata": {
        "id": "vjT09i01Fli7",
        "outputId": "d5819a50-ca08-4ed0-fd69-0f86961ac902",
        "colab": {
          "base_uri": "https://localhost:8080/"
        }
      },
      "execution_count": null,
      "outputs": [
        {
          "output_type": "stream",
          "name": "stdout",
          "text": [
            "[20, 40, 10, 50, 70, 30]\n"
          ]
        }
      ]
    },
    {
      "cell_type": "code",
      "source": [
        "x = [10,20,30,40,10,30,40,] #if list change in to set , duplicates automatically eliminate\n",
        "\n",
        "y = set(x)\n",
        "print(x)\n",
        "y"
      ],
      "metadata": {
        "id": "IjZX0QLAOTaa",
        "outputId": "00f0eb04-b0b0-4444-ce8f-d48b71f6c7f4",
        "colab": {
          "base_uri": "https://localhost:8080/"
        }
      },
      "execution_count": null,
      "outputs": [
        {
          "output_type": "stream",
          "name": "stdout",
          "text": [
            "[10, 20, 30, 40, 10, 30, 40]\n"
          ]
        },
        {
          "output_type": "execute_result",
          "data": {
            "text/plain": [
              "{10, 20, 30, 40}"
            ]
          },
          "metadata": {},
          "execution_count": 46
        }
      ]
    },
    {
      "cell_type": "markdown",
      "source": [
        "# Q) Write a Program to Print different Vowels Present in the given Word?(Using intersection "
      ],
      "metadata": {
        "id": "1PKLJw1wPldG"
      }
    },
    {
      "cell_type": "code",
      "source": [
        "# Q) Write a Program to Print different Vowels Present in the given Word?/string(Using intersection method\n",
        "a = \"airthmatic operator\"\n",
        "b = ['a','e','i','o','u']\n",
        "for i in a:\n",
        "  if i in b:\n",
        "    print((i),end=' ')"
      ],
      "metadata": {
        "id": "F1MRTiIdPdvu",
        "outputId": "9170a314-e897-4a57-d44b-9f26cacea803",
        "colab": {
          "base_uri": "https://localhost:8080/"
        }
      },
      "execution_count": null,
      "outputs": [
        {
          "output_type": "stream",
          "name": "stdout",
          "text": [
            "a i a i o e a o "
          ]
        }
      ]
    },
    {
      "cell_type": "markdown",
      "source": [
        "# UTF - **8**"
      ],
      "metadata": {
        "id": "uaZ-CdklSDJM"
      }
    },
    {
      "cell_type": "markdown",
      "source": [
        "UTF-8 is one of the most commonly used encodings, and Python often defaults to using it. UTF stands for “Unicode Transformation Format”, and the ‘8’ means that 8-bit values are used in the encoding.\n",
        "\n",
        "UTF-8 uses the following rules:\n",
        "\n",
        "If the code point is < 128, it’s represented by the corresponding byte value.\n",
        "\n",
        "If the code point is >= 128, it’s turned into a sequence of two, three, or four bytes, where each byte of the sequence is between 128 and 255.\n",
        "\n",
        "This is specified in the meta tag\n",
        "\n",
        "*Unicode is a characterset, UTF-8 is encoding\n",
        "\n",
        "**Unicode is s list of characters with unique decimal number or code point.(A-Z),(0,9),(+,-,=,%)\n",
        "\n",
        "**(FOR EXAMPLE A=65,B=66,C=67)\n",
        "\n",
        "**This list of decimal numbers represent the string \"hello\";h:104 e:101 l:108 l:108 o:111\n",
        "\n",
        "**UTF-8 encoding will store \"hello\" like this(binary);h:01101000 e:01100101 l:01101100 l:01101100 e:01101111\n",
        "\n",
        "***ISO-8859-1 was the default character in HTML4.This charset suppoeted 256 different character coder.HTML4 supported UTF-8\n",
        "\n",
        "***(FOE EXAMPLE=A=65,B=66,C=67)\n",
        "\n",
        "***UTF-8 continues from the value 256 with more than 10000 different characters"
      ],
      "metadata": {
        "id": "CAN8YUMfTOOk"
      }
    },
    {
      "cell_type": "code",
      "source": [
        ""
      ],
      "metadata": {
        "id": "5Fw0vpbESB9h"
      },
      "execution_count": null,
      "outputs": []
    }
  ]
}