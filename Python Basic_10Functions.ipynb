{
  "nbformat": 4,
  "nbformat_minor": 0,
  "metadata": {
    "colab": {
      "name": "Untitled1.ipynb",
      "provenance": [],
      "authorship_tag": "ABX9TyNfiVFc2zOAY1VD/wPlzUAx",
      "include_colab_link": true
    },
    "kernelspec": {
      "name": "python3",
      "display_name": "Python 3"
    },
    "language_info": {
      "name": "python"
    }
  },
  "cells": [
    {
      "cell_type": "markdown",
      "metadata": {
        "id": "view-in-github",
        "colab_type": "text"
      },
      "source": [
        "<a href=\"https://colab.research.google.com/github/Manojgharge07/DataScience-Mentorship-Python-Basic/blob/main/Python%20Basic_10Functions.ipynb\" target=\"_parent\"><img src=\"https://colab.research.google.com/assets/colab-badge.svg\" alt=\"Open In Colab\"/></a>"
      ]
    },
    {
      "cell_type": "markdown",
      "source": [
        "# **Functions**\n",
        "\n",
        "֍ If a group of statements is repeatedly required then it is not recommended to write these statements everytime seperately.We have to define these statements as a single unit and we can call that unit any number of times based on our requirement without rewriting. This unit is nothing but function.\n",
        "\n",
        "֍ The main advantage of functions is code Reusability.\n",
        "\n",
        "֍ Python supports two types of functions:\n",
        "\n",
        "Built-in function\n",
        "User defined function\n",
        "\n",
        "Built in Functions:\n",
        "\n",
        "The functions which are coming along with Python software automatically, are called built in functions or pre defined functions.\n",
        "\n",
        "e.g. id(), type(), input(),eval()\n",
        "\n",
        "User defined function:\n",
        "The functions which are developed by programmer explicitly according to business requirements, are called user defined functions.\n",
        "\n",
        "Syntax:\n",
        "\n",
        "def function_name(parameters):\n",
        "\n",
        "''' doc string'''\n",
        "\n",
        "python code\n",
        "\n",
        "return value"
      ],
      "metadata": {
        "id": "UBGVf8RhAoVm"
      }
    },
    {
      "cell_type": "code",
      "source": [
        "d = \"data science\" #len of function\n",
        "len(d)"
      ],
      "metadata": {
        "colab": {
          "base_uri": "https://localhost:8080/"
        },
        "id": "m5LTrhc5HsEQ",
        "outputId": "c6ce0a97-2765-47c1-d71b-41641d341a38"
      },
      "execution_count": null,
      "outputs": [
        {
          "output_type": "execute_result",
          "data": {
            "text/plain": [
              "12"
            ]
          },
          "metadata": {},
          "execution_count": 7
        }
      ]
    },
    {
      "cell_type": "code",
      "source": [
        "d= input(\"Enter number : \")\n"
      ],
      "metadata": {
        "colab": {
          "base_uri": "https://localhost:8080/"
        },
        "id": "HGpk7jdUH5ej",
        "outputId": "d316fc58-9d20-4cd1-ca7d-c923c79d8538"
      },
      "execution_count": null,
      "outputs": [
        {
          "name": "stdout",
          "output_type": "stream",
          "text": [
            "Enter number : 15\n"
          ]
        }
      ]
    },
    {
      "cell_type": "code",
      "source": [
        "def wish():        #define function\n",
        "  print(\"Have a nice day!!!\")"
      ],
      "metadata": {
        "id": "fXiW5C8iJNmQ"
      },
      "execution_count": null,
      "outputs": []
    },
    {
      "cell_type": "code",
      "source": [
        "wish()"
      ],
      "metadata": {
        "colab": {
          "base_uri": "https://localhost:8080/"
        },
        "id": "N0lF0rx1Ja1w",
        "outputId": "e6c2b620-af16-43da-89c3-3edd41efbf58"
      },
      "execution_count": null,
      "outputs": [
        {
          "output_type": "stream",
          "name": "stdout",
          "text": [
            "Have a nice day!!!\n"
          ]
        }
      ]
    },
    {
      "cell_type": "code",
      "execution_count": null,
      "metadata": {
        "colab": {
          "base_uri": "https://localhost:8080/"
        },
        "id": "Tf-t7NPLAklG",
        "outputId": "bafd735d-8285-4e75-ddea-d96265cbd7de"
      },
      "outputs": [
        {
          "output_type": "stream",
          "name": "stdout",
          "text": [
            "Hello, Good Morning.\n",
            "Have a nice day!!!\n"
          ]
        }
      ],
      "source": [
        "def wish ():\n",
        "  print(\"Hello, Good Morning.\")\n",
        "  print(\"Have a nice day!!!\")\n",
        "wish()"
      ]
    },
    {
      "cell_type": "code",
      "source": [
        "def slogan():\n",
        "  print(\"'Hard work' is the key of 'sucess'\")\n",
        "slogan()"
      ],
      "metadata": {
        "colab": {
          "base_uri": "https://localhost:8080/"
        },
        "id": "udyJukG3EfIw",
        "outputId": "f56d9f40-c518-4c93-f711-2010c6a9c9ad"
      },
      "execution_count": null,
      "outputs": [
        {
          "output_type": "stream",
          "name": "stdout",
          "text": [
            "'Hard work' is the key of 'sucess'\n"
          ]
        }
      ]
    },
    {
      "cell_type": "markdown",
      "source": [
        "# **Parameters**\n",
        "\n",
        "Parameters are inputs to the function. If a function contains parameters, then at the time of calling,compulsory we should provide values otherwise,otherwise we will get error.\n",
        "\n",
        "Eg: Write a function to take name of the student as input and print wish message by name."
      ],
      "metadata": {
        "id": "ufvExZIBJVla"
      }
    },
    {
      "cell_type": "code",
      "source": [
        "def wish(name):\n",
        "  print(\"Good morning,\",name,\"have nice day.\")"
      ],
      "metadata": {
        "id": "6yuLIH9RJ7oX"
      },
      "execution_count": null,
      "outputs": []
    },
    {
      "cell_type": "code",
      "source": [
        "wish(\"Rajesh\")"
      ],
      "metadata": {
        "colab": {
          "base_uri": "https://localhost:8080/"
        },
        "id": "8qMPHdJAMVau",
        "outputId": "3fd8b0bd-31f6-4e79-a998-3e285eac936f"
      },
      "execution_count": null,
      "outputs": [
        {
          "output_type": "stream",
          "name": "stdout",
          "text": [
            "Good morning, Rajesh have nice day.\n"
          ]
        }
      ]
    },
    {
      "cell_type": "code",
      "source": [
        "wish(\"Sagar\")"
      ],
      "metadata": {
        "colab": {
          "base_uri": "https://localhost:8080/"
        },
        "id": "r0nITjdmMq3z",
        "outputId": "e91e9ec4-e5cd-4746-90d3-f410ebe62033"
      },
      "execution_count": null,
      "outputs": [
        {
          "output_type": "stream",
          "name": "stdout",
          "text": [
            "Good morning, Sagar have nice day.\n"
          ]
        }
      ]
    },
    {
      "cell_type": "code",
      "source": [
        "# Eg: Write a function to take number as input and print its square value\n",
        "def squareIt(number):\n",
        "  print(number*number)"
      ],
      "metadata": {
        "id": "Yrj7_Qn5NxGj"
      },
      "execution_count": null,
      "outputs": []
    },
    {
      "cell_type": "code",
      "source": [
        "squareIt(7)"
      ],
      "metadata": {
        "id": "_SIE4ZvhOjSu",
        "outputId": "169a8212-e6d8-46ae-e35f-4f97ae03b5f0",
        "colab": {
          "base_uri": "https://localhost:8080/"
        }
      },
      "execution_count": null,
      "outputs": [
        {
          "output_type": "stream",
          "name": "stdout",
          "text": [
            "49\n"
          ]
        }
      ]
    },
    {
      "cell_type": "code",
      "source": [
        "squareIt(28)"
      ],
      "metadata": {
        "id": "O-wpg_7aOoKS",
        "outputId": "2c97dd1c-6913-4240-cccf-7204b7503cef",
        "colab": {
          "base_uri": "https://localhost:8080/"
        }
      },
      "execution_count": null,
      "outputs": [
        {
          "output_type": "stream",
          "name": "stdout",
          "text": [
            "784\n"
          ]
        }
      ]
    },
    {
      "cell_type": "code",
      "source": [
        "def squareIt(num):\n",
        "  print(num*num)"
      ],
      "metadata": {
        "id": "50-YGweGLME6"
      },
      "execution_count": null,
      "outputs": []
    },
    {
      "cell_type": "code",
      "source": [
        "squareIt(18)"
      ],
      "metadata": {
        "id": "k_Kk6-NYLo0e",
        "outputId": "c177aa80-4058-4d2a-e836-3b896680c68b",
        "colab": {
          "base_uri": "https://localhost:8080/"
        }
      },
      "execution_count": null,
      "outputs": [
        {
          "output_type": "stream",
          "name": "stdout",
          "text": [
            "324\n"
          ]
        }
      ]
    },
    {
      "cell_type": "code",
      "source": [
        "def sqr(num):\n",
        "  print(num*num)"
      ],
      "metadata": {
        "id": "kB6mPhMdJxal"
      },
      "execution_count": null,
      "outputs": []
    },
    {
      "cell_type": "code",
      "source": [
        "sqr(35)"
      ],
      "metadata": {
        "colab": {
          "base_uri": "https://localhost:8080/"
        },
        "id": "UiL_PtemJ9ln",
        "outputId": "e8e39cea-c320-407e-c020-6dfaeb212def"
      },
      "execution_count": null,
      "outputs": [
        {
          "output_type": "stream",
          "name": "stdout",
          "text": [
            "1225\n"
          ]
        }
      ]
    },
    {
      "cell_type": "markdown",
      "source": [
        "# **Return Statement:**\n",
        "\n",
        "Function can take input values as parameters and executes business logic, and returns output to the caller with return statement.\n",
        "\n",
        "Q) Write a Function to accept 2 Numbers as Input and return Sum"
      ],
      "metadata": {
        "id": "BNk42KxSLyuI"
      }
    },
    {
      "cell_type": "code",
      "source": [
        "def add(a, b):\n",
        "  return a+b"
      ],
      "metadata": {
        "id": "Ee7bAlmhLtLX"
      },
      "execution_count": null,
      "outputs": []
    },
    {
      "cell_type": "code",
      "source": [
        "add (22,18)"
      ],
      "metadata": {
        "id": "9AZQG-3DNiKw",
        "outputId": "521e3570-5d24-41a8-d30d-6bedf7129cc1",
        "colab": {
          "base_uri": "https://localhost:8080/"
        }
      },
      "execution_count": null,
      "outputs": [
        {
          "output_type": "execute_result",
          "data": {
            "text/plain": [
              "40"
            ]
          },
          "metadata": {},
          "execution_count": 12
        }
      ]
    },
    {
      "cell_type": "code",
      "source": [
        "add(10,20)"
      ],
      "metadata": {
        "id": "Gz8LyIV4Nn1o",
        "outputId": "27f1e927-9913-48e2-8c18-2b06078a4ff4",
        "colab": {
          "base_uri": "https://localhost:8080/"
        }
      },
      "execution_count": null,
      "outputs": [
        {
          "output_type": "execute_result",
          "data": {
            "text/plain": [
              "30"
            ]
          },
          "metadata": {},
          "execution_count": 13
        }
      ]
    },
    {
      "cell_type": "code",
      "source": [
        "def sub(x,y):\n",
        "  return x-y"
      ],
      "metadata": {
        "id": "Xkntb_XRNryH"
      },
      "execution_count": null,
      "outputs": []
    },
    {
      "cell_type": "code",
      "source": [
        "sub(548, 322)"
      ],
      "metadata": {
        "id": "onObQTPiOBsw",
        "outputId": "b00d5780-17d4-4ffb-e7c6-66124222044e",
        "colab": {
          "base_uri": "https://localhost:8080/"
        }
      },
      "execution_count": null,
      "outputs": [
        {
          "output_type": "execute_result",
          "data": {
            "text/plain": [
              "226"
            ]
          },
          "metadata": {},
          "execution_count": 15
        }
      ]
    },
    {
      "cell_type": "code",
      "source": [
        "def multiply(m,n):\n",
        "  return m*n"
      ],
      "metadata": {
        "id": "0S7IbSOVOdcK"
      },
      "execution_count": null,
      "outputs": []
    },
    {
      "cell_type": "code",
      "source": [
        "multiply(40,7)"
      ],
      "metadata": {
        "id": "WHFuOiDUQX7N",
        "outputId": "36ccb5eb-2755-4414-bbff-688af53fced7",
        "colab": {
          "base_uri": "https://localhost:8080/"
        }
      },
      "execution_count": null,
      "outputs": [
        {
          "output_type": "execute_result",
          "data": {
            "text/plain": [
              "280"
            ]
          },
          "metadata": {},
          "execution_count": 19
        }
      ]
    },
    {
      "cell_type": "code",
      "source": [
        "print(multiply(40,7))"
      ],
      "metadata": {
        "id": "PBbvgdf6R21J",
        "colab": {
          "base_uri": "https://localhost:8080/"
        },
        "outputId": "853f3893-f234-430a-fc66-c8428c2bef2f"
      },
      "execution_count": null,
      "outputs": [
        {
          "output_type": "stream",
          "name": "stdout",
          "text": [
            "280\n"
          ]
        }
      ]
    },
    {
      "cell_type": "code",
      "source": [
        "\"\"\"Q) Write a Function to check whether the given Number is\n",
        "  Even OR Odd?\"\"\"\n",
        "def even_odd (number):\n",
        "  n=int(input(\"Enter number : \"))\n",
        "  if number%2==0:\n",
        "    print(number, \"is the even number\")\n",
        "  else:\n",
        "    print(number, \"is the odd number\")"
      ],
      "metadata": {
        "id": "RWJAFLjITBEU"
      },
      "execution_count": null,
      "outputs": []
    },
    {
      "cell_type": "code",
      "source": [
        "even_odd(67)"
      ],
      "metadata": {
        "colab": {
          "base_uri": "https://localhost:8080/"
        },
        "id": "H-MnKy2oE0hx",
        "outputId": "586d1047-585b-4fbe-8f0a-ba348880119f"
      },
      "execution_count": null,
      "outputs": [
        {
          "output_type": "stream",
          "name": "stdout",
          "text": [
            "Enter number : 67\n",
            "67 is the odd number\n"
          ]
        }
      ]
    },
    {
      "cell_type": "code",
      "source": [
        "even_odd(98)"
      ],
      "metadata": {
        "colab": {
          "base_uri": "https://localhost:8080/"
        },
        "id": "geV4hReqNneY",
        "outputId": "10f02bb9-6229-450a-df2e-268bc4deb3a1"
      },
      "execution_count": null,
      "outputs": [
        {
          "output_type": "stream",
          "name": "stdout",
          "text": [
            "Enter number : 98\n",
            "98 is the even number\n"
          ]
        }
      ]
    },
    {
      "cell_type": "code",
      "source": [
        "\"\"\"Q) Write a Function to find Factorial of given Number?\"\"\"\n",
        "def fact():    #using for loop\n",
        "  a = int(input(\"enter the number : \"))\n",
        "  b = 1\n",
        "  for i in range(1,a+1):\n",
        "    b=b*i\n",
        "  print(b)"
      ],
      "metadata": {
        "id": "-1TH13ClFfEr"
      },
      "execution_count": null,
      "outputs": []
    },
    {
      "cell_type": "code",
      "source": [
        "fact()"
      ],
      "metadata": {
        "colab": {
          "base_uri": "https://localhost:8080/"
        },
        "id": "HS2LaBzXN4dR",
        "outputId": "d50ea479-852e-415f-9abf-f397bb744a8a"
      },
      "execution_count": null,
      "outputs": [
        {
          "output_type": "stream",
          "name": "stdout",
          "text": [
            "enter the number : 7\n",
            "5040\n"
          ]
        }
      ]
    },
    {
      "cell_type": "code",
      "source": [
        "def fact(num):\n",
        "    result=1\n",
        "    while num>=1:\n",
        "      result=result*num\n",
        "      num=num-1\n",
        "    return result"
      ],
      "metadata": {
        "id": "jmd8IIM8OjAd"
      },
      "execution_count": null,
      "outputs": []
    },
    {
      "cell_type": "code",
      "source": [
        "fact(4)"
      ],
      "metadata": {
        "colab": {
          "base_uri": "https://localhost:8080/"
        },
        "id": "U_JItF4zPJa9",
        "outputId": "cd25043b-557d-405b-a0b2-3710c0b0f21c"
      },
      "execution_count": null,
      "outputs": [
        {
          "output_type": "execute_result",
          "data": {
            "text/plain": [
              "24"
            ]
          },
          "metadata": {},
          "execution_count": 41
        }
      ]
    },
    {
      "cell_type": "code",
      "source": [
        "for i in range(1,9):\n",
        "   print(\"The Factorial of\",i,\"is :\",fact(i))"
      ],
      "metadata": {
        "colab": {
          "base_uri": "https://localhost:8080/"
        },
        "id": "GHxSxDDXPSaG",
        "outputId": "8fe26745-c333-4165-ed73-cef99ed781ff"
      },
      "execution_count": null,
      "outputs": [
        {
          "output_type": "stream",
          "name": "stdout",
          "text": [
            "The Factorial of 1 is : 1\n",
            "The Factorial of 2 is : 2\n",
            "The Factorial of 3 is : 6\n",
            "The Factorial of 4 is : 24\n",
            "The Factorial of 5 is : 120\n",
            "The Factorial of 6 is : 720\n",
            "The Factorial of 7 is : 5040\n",
            "The Factorial of 8 is : 40320\n"
          ]
        }
      ]
    },
    {
      "cell_type": "code",
      "source": [
        "for i in range(4,11,1):\n",
        "   print(\"The Factorial of\",i,\"is :\",fact(i))"
      ],
      "metadata": {
        "colab": {
          "base_uri": "https://localhost:8080/"
        },
        "id": "fINE-l67P8ud",
        "outputId": "fd089a40-99c7-4920-dfc4-6c95b3fdc496"
      },
      "execution_count": null,
      "outputs": [
        {
          "output_type": "stream",
          "name": "stdout",
          "text": [
            "The Factorial of 4 is : 24\n",
            "The Factorial of 5 is : 120\n",
            "The Factorial of 6 is : 720\n",
            "The Factorial of 7 is : 5040\n",
            "The Factorial of 8 is : 40320\n",
            "The Factorial of 9 is : 362880\n",
            "The Factorial of 10 is : 3628800\n"
          ]
        }
      ]
    },
    {
      "cell_type": "code",
      "source": [
        "for i in range(11,1,-1):\n",
        "   print(\"The Factorial of\",i,\"is :\",fact(i))"
      ],
      "metadata": {
        "colab": {
          "base_uri": "https://localhost:8080/"
        },
        "id": "Yvf5fDBNQTQU",
        "outputId": "cab33cbd-b9ef-4be5-e212-08a66180d3fc"
      },
      "execution_count": null,
      "outputs": [
        {
          "output_type": "stream",
          "name": "stdout",
          "text": [
            "The Factorial of 11 is : 39916800\n",
            "The Factorial of 10 is : 3628800\n",
            "The Factorial of 9 is : 362880\n",
            "The Factorial of 8 is : 40320\n",
            "The Factorial of 7 is : 5040\n",
            "The Factorial of 6 is : 720\n",
            "The Factorial of 5 is : 120\n",
            "The Factorial of 4 is : 24\n",
            "The Factorial of 3 is : 6\n",
            "The Factorial of 2 is : 2\n"
          ]
        }
      ]
    },
    {
      "cell_type": "markdown",
      "source": [
        "# Returning Multiple Values from a Function:"
      ],
      "metadata": {
        "id": "a8cYMCVVPjdb"
      }
    },
    {
      "cell_type": "code",
      "source": [
        "def sum_sub(a,b):\n",
        "    sum=a+b\n",
        "    sub=a-b\n",
        "    return sum,sub"
      ],
      "metadata": {
        "id": "UJ11VQx4PfBL"
      },
      "execution_count": null,
      "outputs": []
    },
    {
      "cell_type": "code",
      "source": [
        "sum_sub(250, 100)"
      ],
      "metadata": {
        "colab": {
          "base_uri": "https://localhost:8080/"
        },
        "id": "yVj62XvfQm72",
        "outputId": "5b256e1b-a33c-49af-ba7e-b4f543eb53b7"
      },
      "execution_count": null,
      "outputs": [
        {
          "output_type": "execute_result",
          "data": {
            "text/plain": [
              "(350, 150)"
            ]
          },
          "metadata": {},
          "execution_count": 48
        }
      ]
    },
    {
      "cell_type": "code",
      "source": [
        "def mul_div(a,b):\n",
        "  mul = a*b\n",
        "  div = a/b\n",
        "  return mul,div"
      ],
      "metadata": {
        "id": "cLWf0VgNQrPx"
      },
      "execution_count": null,
      "outputs": []
    },
    {
      "cell_type": "code",
      "source": [
        "mul_div(25,5)"
      ],
      "metadata": {
        "colab": {
          "base_uri": "https://localhost:8080/"
        },
        "id": "V0oy2b6SRCbL",
        "outputId": "4182fef5-4f58-401c-8ce3-4566aea4bc13"
      },
      "execution_count": null,
      "outputs": [
        {
          "output_type": "execute_result",
          "data": {
            "text/plain": [
              "(125, 5.0)"
            ]
          },
          "metadata": {},
          "execution_count": 52
        }
      ]
    },
    {
      "cell_type": "code",
      "source": [
        "def mul_div(a,b):\n",
        "  mul = a*b\n",
        "  div =int(a/b)\n",
        "  print(mul,div)"
      ],
      "metadata": {
        "id": "XreHpAURRJBJ"
      },
      "execution_count": null,
      "outputs": []
    },
    {
      "cell_type": "code",
      "source": [
        "mul_div(24,6)"
      ],
      "metadata": {
        "colab": {
          "base_uri": "https://localhost:8080/"
        },
        "id": "lv3wW6FaRyox",
        "outputId": "46bcd00c-7ce6-4e9e-ab8a-137171319c39"
      },
      "execution_count": null,
      "outputs": [
        {
          "output_type": "stream",
          "name": "stdout",
          "text": [
            "144 4\n"
          ]
        }
      ]
    },
    {
      "cell_type": "code",
      "source": [
        "x,y=sum_sub(250,100)\n",
        "print(\"The Sum is:\",x)\n",
        "print(\"The Subtraction is:\",y)"
      ],
      "metadata": {
        "colab": {
          "base_uri": "https://localhost:8080/"
        },
        "id": "BLTNa0q1R5SY",
        "outputId": "3c380ec2-ff11-475a-e8b7-046a25e4ef22"
      },
      "execution_count": null,
      "outputs": [
        {
          "output_type": "stream",
          "name": "stdout",
          "text": [
            "The Sum is: 350\n",
            "The Subtraction is: 150\n"
          ]
        }
      ]
    },
    {
      "cell_type": "code",
      "source": [
        "m,n=mul_div(48,7)\n",
        "print(\"The mul is:\",m)\n",
        "print(\"The div is:\",n)"
      ],
      "metadata": {
        "colab": {
          "base_uri": "https://localhost:8080/",
          "height": 218
        },
        "id": "NCETiQHpSF4R",
        "outputId": "1d38da06-b260-4752-92e3-5c4224cecec5"
      },
      "execution_count": null,
      "outputs": [
        {
          "output_type": "stream",
          "name": "stdout",
          "text": [
            "336 6\n"
          ]
        },
        {
          "output_type": "error",
          "ename": "TypeError",
          "evalue": "ignored",
          "traceback": [
            "\u001b[0;31m---------------------------------------------------------------------------\u001b[0m",
            "\u001b[0;31mTypeError\u001b[0m                                 Traceback (most recent call last)",
            "\u001b[0;32m<ipython-input-58-d4285afb547a>\u001b[0m in \u001b[0;36m<module>\u001b[0;34m()\u001b[0m\n\u001b[0;32m----> 1\u001b[0;31m \u001b[0mm\u001b[0m\u001b[0;34m,\u001b[0m\u001b[0mn\u001b[0m\u001b[0;34m=\u001b[0m\u001b[0mmul_div\u001b[0m\u001b[0;34m(\u001b[0m\u001b[0;36m48\u001b[0m\u001b[0;34m,\u001b[0m\u001b[0;36m7\u001b[0m\u001b[0;34m)\u001b[0m\u001b[0;34m\u001b[0m\u001b[0;34m\u001b[0m\u001b[0m\n\u001b[0m\u001b[1;32m      2\u001b[0m \u001b[0mprint\u001b[0m\u001b[0;34m(\u001b[0m\u001b[0;34m\"The mul is:\"\u001b[0m\u001b[0;34m,\u001b[0m\u001b[0mm\u001b[0m\u001b[0;34m)\u001b[0m\u001b[0;34m\u001b[0m\u001b[0;34m\u001b[0m\u001b[0m\n\u001b[1;32m      3\u001b[0m \u001b[0mprint\u001b[0m\u001b[0;34m(\u001b[0m\u001b[0;34m\"The div is:\"\u001b[0m\u001b[0;34m,\u001b[0m\u001b[0mn\u001b[0m\u001b[0;34m)\u001b[0m\u001b[0;34m\u001b[0m\u001b[0;34m\u001b[0m\u001b[0m\n",
            "\u001b[0;31mTypeError\u001b[0m: cannot unpack non-iterable NoneType object"
          ]
        }
      ]
    },
    {
      "cell_type": "markdown",
      "source": [
        "# **Types of Arguments**\n",
        "\n",
        "def f1(a,b):\n",
        "\n",
        "-\n",
        "\n",
        "-\n",
        "\n",
        "f1(10,20)\n",
        "\n",
        "a, b are formal arguments where as 10,20 are actual arguments.\n",
        "\n",
        "There are 4 types are actual arguments are allowed in Python.\n",
        "\n",
        "Positional Arguments\n",
        "\n",
        "Keyword Arguments\n",
        "\n",
        "Default Arguments\n",
        "\n",
        "Variable length arguments\n",
        "\n",
        "Positional Arguments\n",
        "\n",
        "These are the arguments passed to function in correct positional order.\n",
        "\n",
        "def sub(a, b):\n",
        "\n",
        "print(a-b)\n",
        "\n",
        "sub(100, 200)\n",
        "\n",
        "sub(200, 100)\n",
        "\n",
        "The number of arguments and position of arguments must be matched. If we change the order then result may be changed."
      ],
      "metadata": {
        "id": "TNddK_QTTBTO"
      }
    },
    {
      "cell_type": "code",
      "source": [
        "def sum_sub(a,b):\n",
        "  sum= a+b\n",
        "  sub = a-b\n",
        "  return sum, sub"
      ],
      "metadata": {
        "id": "1jp3hyRlSY6Y"
      },
      "execution_count": null,
      "outputs": []
    },
    {
      "cell_type": "code",
      "source": [
        "sum_sub(200,100)"
      ],
      "metadata": {
        "colab": {
          "base_uri": "https://localhost:8080/"
        },
        "id": "QKYUPyV9Tokz",
        "outputId": "d00cc2e8-2517-4760-aff0-faed3654b416"
      },
      "execution_count": null,
      "outputs": [
        {
          "output_type": "execute_result",
          "data": {
            "text/plain": [
              "(300, 100)"
            ]
          },
          "metadata": {},
          "execution_count": 60
        }
      ]
    },
    {
      "cell_type": "code",
      "source": [
        "sum_sub(100,200)"
      ],
      "metadata": {
        "colab": {
          "base_uri": "https://localhost:8080/"
        },
        "id": "7dIXPAmRTvV0",
        "outputId": "076e7916-9d44-4fd6-bf85-95890027b12e"
      },
      "execution_count": null,
      "outputs": [
        {
          "output_type": "execute_result",
          "data": {
            "text/plain": [
              "(300, -100)"
            ]
          },
          "metadata": {},
          "execution_count": 61
        }
      ]
    },
    {
      "cell_type": "markdown",
      "source": [
        "# **2. Keyword Arguments:**\n",
        "\n",
        "We can pass argument values by keyword i.e by parameter name."
      ],
      "metadata": {
        "id": "k4kHM7zAT_Uu"
      }
    },
    {
      "cell_type": "code",
      "source": [
        "def wish(name,msg):\n",
        "    print(\"Hello,\",name,msg)"
      ],
      "metadata": {
        "id": "mBLckzimT4zx"
      },
      "execution_count": null,
      "outputs": []
    },
    {
      "cell_type": "code",
      "source": [
        "wish(name=\"Akshay\" ,msg=\"How are you?\")"
      ],
      "metadata": {
        "colab": {
          "base_uri": "https://localhost:8080/"
        },
        "id": "TsjLYWBIUTh4",
        "outputId": "5d6ddbc8-4351-4b63-f0fb-68e4b2cf87c8"
      },
      "execution_count": null,
      "outputs": [
        {
          "output_type": "stream",
          "name": "stdout",
          "text": [
            "Hello, Akshay How are you?\n"
          ]
        }
      ]
    },
    {
      "cell_type": "code",
      "source": [
        "def wish(name,msg):\n",
        "    print(\"Hello,\",name,msg)"
      ],
      "metadata": {
        "id": "HEWZJ9vvUrrE"
      },
      "execution_count": null,
      "outputs": []
    },
    {
      "cell_type": "code",
      "source": [
        "wish(msg=\"Have a nice day\", name=\"Prashant\")  #position doesn't matter:"
      ],
      "metadata": {
        "colab": {
          "base_uri": "https://localhost:8080/"
        },
        "id": "E1n6K9wdVKCm",
        "outputId": "6e9fbafa-a0bd-405f-c9a6-3af659cf0f70"
      },
      "execution_count": null,
      "outputs": [
        {
          "output_type": "stream",
          "name": "stdout",
          "text": [
            "Hello, Prashant Have a nice day\n"
          ]
        }
      ]
    },
    {
      "cell_type": "markdown",
      "source": [
        "# **3. Default Arguments:**\n",
        "\n",
        "Sometimes we can provide default values for our positional arguments."
      ],
      "metadata": {
        "id": "O-gdzFSOWMRm"
      }
    },
    {
      "cell_type": "code",
      "source": [
        "def wish(name=\" \"):\n",
        "    print(\"Hello\",name,\"Good Morning\")"
      ],
      "metadata": {
        "id": "rN1uOUXkVfnW"
      },
      "execution_count": null,
      "outputs": []
    },
    {
      "cell_type": "code",
      "source": [
        "wish(\"Suraj\")"
      ],
      "metadata": {
        "colab": {
          "base_uri": "https://localhost:8080/"
        },
        "id": "Ztup7m-FWZvh",
        "outputId": "5285b1da-5ac4-40c2-cc40-ad7950a9a5eb"
      },
      "execution_count": null,
      "outputs": [
        {
          "output_type": "stream",
          "name": "stdout",
          "text": [
            "Hello Suraj Good Morning\n"
          ]
        }
      ]
    },
    {
      "cell_type": "code",
      "source": [
        "def omg(name=\" \"):\n",
        "  print(\"Hello,\",name,\"he is my brother.\")"
      ],
      "metadata": {
        "id": "MIwXlLn8WhsO"
      },
      "execution_count": null,
      "outputs": []
    },
    {
      "cell_type": "code",
      "source": [
        "omg(\"Rohit\")"
      ],
      "metadata": {
        "colab": {
          "base_uri": "https://localhost:8080/"
        },
        "id": "d-4-PYJaXHIa",
        "outputId": "4c781da4-b683-49a3-c36e-76f8cf592d1a"
      },
      "execution_count": null,
      "outputs": [
        {
          "output_type": "stream",
          "name": "stdout",
          "text": [
            "Hello, Rohit he is my brother.\n"
          ]
        }
      ]
    },
    {
      "cell_type": "markdown",
      "source": [
        "# **4. Variable Length Arguments:**\n",
        "\n",
        "Sometimes we can pass variable number of arguments to our function, such type of arguments are called variable length arguments.\n",
        "\n",
        "We can declare a variable length argument with * symbol as follows\n",
        "\n",
        "def f1(*n):\n",
        "\n",
        "We can call this function by passing any number of arguments including zero number.\n",
        "\n",
        "Internally all these values represented in the form of tuple."
      ],
      "metadata": {
        "id": "xLNKkEyYXUqZ"
      }
    },
    {
      "cell_type": "code",
      "source": [
        "def sum (*n):\n",
        "  total = 0\n",
        "  for i in n:\n",
        "    total = total+i\n",
        "  return total"
      ],
      "metadata": {
        "id": "735PyDIRXUTx"
      },
      "execution_count": null,
      "outputs": []
    },
    {
      "cell_type": "code",
      "source": [
        "sum()"
      ],
      "metadata": {
        "colab": {
          "base_uri": "https://localhost:8080/"
        },
        "id": "CJRMrIrXXLYG",
        "outputId": "fae7fd26-cdd5-41e4-d5ec-4bb24b04f686"
      },
      "execution_count": null,
      "outputs": [
        {
          "output_type": "execute_result",
          "data": {
            "text/plain": [
              "0"
            ]
          },
          "metadata": {},
          "execution_count": 76
        }
      ]
    },
    {
      "cell_type": "code",
      "source": [
        "sum(20,40,60,80)"
      ],
      "metadata": {
        "colab": {
          "base_uri": "https://localhost:8080/"
        },
        "id": "9HP2zp4AXn5z",
        "outputId": "86726fcf-68aa-47d4-8ada-41a847c02dfd"
      },
      "execution_count": null,
      "outputs": [
        {
          "output_type": "execute_result",
          "data": {
            "text/plain": [
              "200"
            ]
          },
          "metadata": {},
          "execution_count": 77
        }
      ]
    },
    {
      "cell_type": "code",
      "source": [
        "# We can mix variable length arguments with positional arguments.\n",
        "\n",
        "def abc(n,*v):\n",
        "  print(n)\n",
        "  for i in v:\n",
        "    print(i)"
      ],
      "metadata": {
        "id": "Bp5eMjdTXtDp"
      },
      "execution_count": null,
      "outputs": []
    },
    {
      "cell_type": "code",
      "source": [
        "abc(10,20,30,40,50)"
      ],
      "metadata": {
        "colab": {
          "base_uri": "https://localhost:8080/"
        },
        "id": "kv_gMCY-YK6w",
        "outputId": "644c0eb3-782f-43e1-bf2c-d07a6a31fefe"
      },
      "execution_count": null,
      "outputs": [
        {
          "output_type": "stream",
          "name": "stdout",
          "text": [
            "10\n",
            "20\n",
            "30\n",
            "40\n",
            "50\n"
          ]
        }
      ]
    },
    {
      "cell_type": "code",
      "source": [
        "abc(10,\"A\",30,\"B\")"
      ],
      "metadata": {
        "colab": {
          "base_uri": "https://localhost:8080/"
        },
        "id": "j5lKwUi6YSVf",
        "outputId": "a4e78838-8717-413a-be5b-90bccdf35a09"
      },
      "execution_count": null,
      "outputs": [
        {
          "output_type": "stream",
          "name": "stdout",
          "text": [
            "10\n",
            "A\n",
            "30\n",
            "B\n"
          ]
        }
      ]
    },
    {
      "cell_type": "markdown",
      "source": [
        "Note: After variable length argument,if we are taking any other arguments then we should provide values as keyword arguments."
      ],
      "metadata": {
        "id": "EGFPDnE9YsMq"
      }
    },
    {
      "cell_type": "code",
      "source": [
        "def f1(*s,n1):\n",
        "    for s1 in s:\n",
        "      print(s1)\n",
        "    print(n1)\n",
        "\n",
        "f1(\"x\",\"y\",n1=25)"
      ],
      "metadata": {
        "colab": {
          "base_uri": "https://localhost:8080/"
        },
        "id": "ZmRcV_NUYl4L",
        "outputId": "b6ef2f23-cf79-482b-b05e-336fbd8d31e2"
      },
      "execution_count": null,
      "outputs": [
        {
          "output_type": "stream",
          "name": "stdout",
          "text": [
            "x\n",
            "y\n",
            "25\n"
          ]
        }
      ]
    },
    {
      "cell_type": "markdown",
      "source": [
        "Note: We can declare key word variable length arguments also.\n",
        "We can call this function by passing any number of keyword arguments. Internally these keyword arguments will be stored inside a dictionary."
      ],
      "metadata": {
        "id": "badJUROrY7oW"
      }
    },
    {
      "cell_type": "code",
      "source": [
        "def display(**kwargs):\n",
        "  for i,j in kwargs.items():\n",
        "    print(i,'=',j)"
      ],
      "metadata": {
        "id": "lAxzOxnOY1Of"
      },
      "execution_count": null,
      "outputs": []
    },
    {
      "cell_type": "code",
      "source": [
        "display(x=1, y=2, z=3)"
      ],
      "metadata": {
        "colab": {
          "base_uri": "https://localhost:8080/"
        },
        "id": "_2kbpYY5ZDWm",
        "outputId": "499e3d72-240f-44bb-caa6-6fa143cc09b2"
      },
      "execution_count": null,
      "outputs": [
        {
          "output_type": "stream",
          "name": "stdout",
          "text": [
            "x = 1\n",
            "y = 2\n",
            "z = 3\n"
          ]
        }
      ]
    },
    {
      "cell_type": "markdown",
      "source": [
        "# **Note: Function vs Module vs Library**\n",
        "\n",
        "A group of lines with some name is called a function\n",
        "\n",
        "A group of functions saved to a file, is called Module\n",
        "\n",
        "A group of Modules is nothing but Library\n",
        "\n",
        "Types of Variables\n",
        "Python supports 2 types of variables.\n",
        "\n",
        "Global Variables\n",
        "Local Variables"
      ],
      "metadata": {
        "id": "0PdYuwlCZY-6"
      }
    },
    {
      "cell_type": "code",
      "source": [
        "a=45 # global variable(defined outside the function)\n",
        "b=55\n",
        "def asd():\n",
        "   print(a)\n",
        "\n",
        "def asd1():\n",
        "    print(b)\n",
        "\n",
        "asd()\n",
        "asd1()"
      ],
      "metadata": {
        "colab": {
          "base_uri": "https://localhost:8080/"
        },
        "id": "47kuAvu7ZYmr",
        "outputId": "07d1c098-7f9f-47cf-c73c-d30b8486a426"
      },
      "execution_count": null,
      "outputs": [
        {
          "output_type": "stream",
          "name": "stdout",
          "text": [
            "45\n",
            "55\n"
          ]
        }
      ]
    },
    {
      "cell_type": "markdown",
      "source": [
        "Local Variables:\n",
        "\n",
        "The variables which are declared inside a function are called local variables.\n",
        "\n",
        "Local variables are available only for the function in which we declared it."
      ],
      "metadata": {
        "id": "a4bkTAw6Z9Mk"
      }
    },
    {
      "cell_type": "code",
      "source": [
        "def hi():\n",
        "  a=45\n",
        "  print(a)"
      ],
      "metadata": {
        "id": "iV0VANS-ZLlJ"
      },
      "execution_count": null,
      "outputs": []
    },
    {
      "cell_type": "code",
      "source": [
        "a"
      ],
      "metadata": {
        "colab": {
          "base_uri": "https://localhost:8080/"
        },
        "id": "t8DIWne7aC9S",
        "outputId": "9be3dd02-06da-4671-cf6f-4c3056dfd8c7"
      },
      "execution_count": null,
      "outputs": [
        {
          "output_type": "execute_result",
          "data": {
            "text/plain": [
              "45"
            ]
          },
          "metadata": {},
          "execution_count": 89
        }
      ]
    },
    {
      "cell_type": "code",
      "source": [
        "\"\"\"Note: If global variable and local variable having the same name then we can access\n",
        "  global variable inside a function as follows\"\"\"\n",
        "\n",
        "a = 10#Global Variable\n",
        "def f1():\n",
        "    a=231 # Local Variable\n",
        "    print(a)\n",
        "    print(globals()['a'])\n",
        "f1()"
      ],
      "metadata": {
        "colab": {
          "base_uri": "https://localhost:8080/"
        },
        "id": "oQpJH-5KaD0X",
        "outputId": "d68e9938-5462-4973-ed14-639d0fae5ca1"
      },
      "execution_count": null,
      "outputs": [
        {
          "output_type": "stream",
          "name": "stdout",
          "text": [
            "231\n",
            "10\n"
          ]
        }
      ]
    },
    {
      "cell_type": "markdown",
      "source": [
        "# **Recursive Function:**\n",
        "\n",
        "A function that calls itself is known as Recursive Function.\n",
        "\n",
        "Main advantages of recursive functions are:\n",
        "\n",
        "We can reduce length of the code and improves readability.\n",
        "We can solve complex problems very easily.\n",
        "E.g.\n",
        "\n",
        "factorial(3) = 3 * factorial(2)\n",
        "\n",
        "= 3 2 factorial(1)\n",
        "\n",
        "=321*factorial(0)\n",
        "\n",
        "=321*1\n",
        "\n",
        "=6\n",
        "\n",
        "factorial(n) = n * factorial(n-1)"
      ],
      "metadata": {
        "id": "Fyd-idhraeXk"
      }
    },
    {
      "cell_type": "code",
      "source": [
        "'''Write a Python Function to find Factorial of given\n",
        "  Number with Recursion'''\n",
        "\n",
        "def factorial(n):\n",
        "    if n==0:\n",
        "      result=1\n",
        "    else:\n",
        "      result=n*factorial(n-1)\n",
        "    return result\n",
        "print(\"Factorial of 9 is:\",factorial(9))\n",
        "print(\"Factorial of 7 is:\",factorial(7))"
      ],
      "metadata": {
        "colab": {
          "base_uri": "https://localhost:8080/"
        },
        "id": "tLyaS6kkaZV6",
        "outputId": "f5077296-2f96-4480-e81b-00770f626cb3"
      },
      "execution_count": null,
      "outputs": [
        {
          "output_type": "stream",
          "name": "stdout",
          "text": [
            "Factorial of 9 is: 362880\n",
            "Factorial of 7 is: 5040\n"
          ]
        }
      ]
    },
    {
      "cell_type": "code",
      "source": [
        "def factorial(n):\n",
        "    if n==0:\n",
        "      result=1\n",
        "    else:\n",
        "      result=n*factorial(n-1)\n",
        "    return result"
      ],
      "metadata": {
        "id": "cXd6F6eZamKZ"
      },
      "execution_count": null,
      "outputs": []
    },
    {
      "cell_type": "code",
      "source": [
        "factorial(4)"
      ],
      "metadata": {
        "id": "uQdaq7Xjr9Gi",
        "outputId": "def19730-cf01-4ec6-bcc3-0f16d4a6a890",
        "colab": {
          "base_uri": "https://localhost:8080/"
        }
      },
      "execution_count": null,
      "outputs": [
        {
          "output_type": "execute_result",
          "data": {
            "text/plain": [
              "24"
            ]
          },
          "metadata": {},
          "execution_count": 95
        }
      ]
    },
    {
      "cell_type": "code",
      "source": [
        "def fact(n):\n",
        "    if n==0:\n",
        "      result=1\n",
        "    else:\n",
        "      result=n*fact(n-1)\n",
        "    return result"
      ],
      "metadata": {
        "id": "2Jgn2LACsEHX"
      },
      "execution_count": null,
      "outputs": []
    },
    {
      "cell_type": "code",
      "source": [
        "fact(5)"
      ],
      "metadata": {
        "id": "9BEvwM0NsQm0",
        "outputId": "c39095b2-a1df-49ac-86f9-79e0db554dae",
        "colab": {
          "base_uri": "https://localhost:8080/"
        }
      },
      "execution_count": null,
      "outputs": [
        {
          "output_type": "execute_result",
          "data": {
            "text/plain": [
              "120"
            ]
          },
          "metadata": {},
          "execution_count": 98
        }
      ]
    },
    {
      "cell_type": "markdown",
      "source": [
        "# **Anonymous Functions:(Lambda Function)**\n",
        "\n",
        "Sometimes we can declare a function without any name,such type of nameless functions are called anonymous functions or lambda functions.\n",
        "\n",
        "The main purpose of anonymous function is just for instant use(i.e for one time usage)\n",
        "\n",
        "We can define by using lambda keyword\n",
        "\n",
        "lambda n:n*n\n",
        "\n",
        "SyntaxoflambdaFunction:lambda argument_list:expression\n",
        "\n",
        "Note: By using Lambda Functions we can write very concise code so that readability of the program will be improved."
      ],
      "metadata": {
        "id": "bUV0CYhdtw_F"
      }
    },
    {
      "cell_type": "code",
      "source": [
        "'Q) Write a Program to create a Lambda Function to find Square of given Number?'\n",
        "a = lambda n:n*n\n",
        "\n",
        "a(5)"
      ],
      "metadata": {
        "id": "NsRUNzVssW2H",
        "outputId": "c6892313-a66d-4307-fa4d-f096d8970072",
        "colab": {
          "base_uri": "https://localhost:8080/"
        }
      },
      "execution_count": null,
      "outputs": [
        {
          "output_type": "execute_result",
          "data": {
            "text/plain": [
              "25"
            ]
          },
          "metadata": {},
          "execution_count": 104
        }
      ]
    },
    {
      "cell_type": "code",
      "source": [
        "a(17)\n"
      ],
      "metadata": {
        "id": "myTUdxheuoft",
        "outputId": "bf806b72-83ec-46df-8aae-7092b390508c",
        "colab": {
          "base_uri": "https://localhost:8080/"
        }
      },
      "execution_count": null,
      "outputs": [
        {
          "output_type": "execute_result",
          "data": {
            "text/plain": [
              "289"
            ]
          },
          "metadata": {},
          "execution_count": 105
        }
      ]
    },
    {
      "cell_type": "code",
      "source": [
        "for i in range(3,12):\n",
        "  print(\"SquarIt of\",i,\"is :\", a(i))"
      ],
      "metadata": {
        "id": "HDqSpyKxvQ9Q",
        "outputId": "29fbeccf-304a-4d2a-82bf-720b117c09c1",
        "colab": {
          "base_uri": "https://localhost:8080/"
        }
      },
      "execution_count": null,
      "outputs": [
        {
          "output_type": "stream",
          "name": "stdout",
          "text": [
            "SquarIt of 3 is : 9\n",
            "SquarIt of 4 is : 16\n",
            "SquarIt of 5 is : 25\n",
            "SquarIt of 6 is : 36\n",
            "SquarIt of 7 is : 49\n",
            "SquarIt of 8 is : 64\n",
            "SquarIt of 9 is : 81\n",
            "SquarIt of 10 is : 100\n",
            "SquarIt of 11 is : 121\n"
          ]
        }
      ]
    },
    {
      "cell_type": "code",
      "source": [
        "'''Q) Lambda Function to find Sum of 2 given Numbers'''\n",
        "s = lambda a,b: a+b\n",
        "print(s)"
      ],
      "metadata": {
        "id": "ZklTdcYSwE6S",
        "outputId": "986b3cc6-d8bc-4816-b450-fe4e07456011",
        "colab": {
          "base_uri": "https://localhost:8080/"
        }
      },
      "execution_count": null,
      "outputs": [
        {
          "output_type": "stream",
          "name": "stdout",
          "text": [
            "<function <lambda> at 0x7f6c98ce14d0>\n"
          ]
        }
      ]
    },
    {
      "cell_type": "code",
      "source": [
        "s = lambda a,b: a+b"
      ],
      "metadata": {
        "id": "DXzvT_6jwh4a"
      },
      "execution_count": null,
      "outputs": []
    },
    {
      "cell_type": "code",
      "source": [
        "s(25, 40)"
      ],
      "metadata": {
        "id": "DaD99VVmwm20",
        "outputId": "a702258e-d9ce-4d13-c4ec-62844e031f74",
        "colab": {
          "base_uri": "https://localhost:8080/"
        }
      },
      "execution_count": null,
      "outputs": [
        {
          "output_type": "execute_result",
          "data": {
            "text/plain": [
              "65"
            ]
          },
          "metadata": {},
          "execution_count": 110
        }
      ]
    },
    {
      "cell_type": "code",
      "source": [
        "'''Q) Lambda Function to find Sum of 2 given Numbers'''\n",
        "s=lambda a,b:a+b\n",
        "print(\"The Sum  of 20,40 is:\",s(20,40))\n",
        "print(\"The Sum of 80,170 is:\",s(80,170))"
      ],
      "metadata": {
        "id": "j9c7yoaqwv2i",
        "outputId": "49b18b07-c583-47ec-dd4f-3b5e30b46507",
        "colab": {
          "base_uri": "https://localhost:8080/"
        }
      },
      "execution_count": null,
      "outputs": [
        {
          "output_type": "stream",
          "name": "stdout",
          "text": [
            "The Sum  of 20,40 is: 60\n",
            "The Sum of 80,170 is: 250\n"
          ]
        }
      ]
    },
    {
      "cell_type": "code",
      "source": [
        "'''Q) Lambda Function to find biggest of given Values'''\n",
        "x = lambda a,b,c: a if a>b and a>c else b if b>c else c "
      ],
      "metadata": {
        "id": "ePbRQUNixFlN"
      },
      "execution_count": null,
      "outputs": []
    },
    {
      "cell_type": "code",
      "source": [
        "x(21,45,76)"
      ],
      "metadata": {
        "id": "YsbhOkbDFN6r",
        "outputId": "a1046025-3936-4f17-af6c-e43fbfafbc3c",
        "colab": {
          "base_uri": "https://localhost:8080/"
        }
      },
      "execution_count": null,
      "outputs": [
        {
          "output_type": "execute_result",
          "data": {
            "text/plain": [
              "76"
            ]
          },
          "metadata": {},
          "execution_count": 113
        }
      ]
    },
    {
      "cell_type": "code",
      "source": [
        "x(98, 67, 43)"
      ],
      "metadata": {
        "id": "CJxsTTATFcYp",
        "outputId": "8a6fdae2-e67f-4938-adea-a21894ed2b9b",
        "colab": {
          "base_uri": "https://localhost:8080/"
        }
      },
      "execution_count": null,
      "outputs": [
        {
          "output_type": "execute_result",
          "data": {
            "text/plain": [
              "98"
            ]
          },
          "metadata": {},
          "execution_count": 114
        }
      ]
    },
    {
      "cell_type": "code",
      "source": [
        "x(56,92,88)"
      ],
      "metadata": {
        "id": "wkmaXFWSHIZo",
        "outputId": "76d09b16-7147-42f7-d36d-66bf5a18c020",
        "colab": {
          "base_uri": "https://localhost:8080/"
        }
      },
      "execution_count": null,
      "outputs": [
        {
          "output_type": "execute_result",
          "data": {
            "text/plain": [
              "92"
            ]
          },
          "metadata": {},
          "execution_count": 116
        }
      ]
    },
    {
      "cell_type": "markdown",
      "source": [
        "Note: Lambda Function internally returns expression value and we are not required to write return statement explicitly.\n",
        "\n",
        "We can use lambda functions very commonly with filter(), map() and reduce() functions, because these functions expect function as argument.\n",
        "\n",
        "# **filter() Function:**\n",
        "\n",
        "We can use filter() function to filter values from the given sequence based on some condition.\n",
        "\n",
        "syntax: filter(function,sequence)\n",
        "\n",
        "Where Function Argument is responsible to perform conditional check Sequence can be List OR Tuple OR String."
      ],
      "metadata": {
        "id": "J2vqsAyBJUXR"
      }
    },
    {
      "cell_type": "code",
      "source": [
        "\"\"\"Q) Program to filter only Even Numbers from the List by using\n",
        "  filter() Function?\"\"\"\n",
        "# Without Lambda Function:\n",
        "def isEven(x):\n",
        "    if x%2==0:\n",
        "       return True\n",
        "    else:\n",
        "       return False\n",
        "l=[12,25,28,45,49,64,70]\n",
        "l1=list(filter(isEven,l))\n",
        "print(l1) "
      ],
      "metadata": {
        "id": "aM5Qp6qaHTrg",
        "outputId": "21956993-019f-4e7e-80ff-780901d339cb",
        "colab": {
          "base_uri": "https://localhost:8080/"
        }
      },
      "execution_count": null,
      "outputs": [
        {
          "output_type": "stream",
          "name": "stdout",
          "text": [
            "[12, 28, 64, 70]\n"
          ]
        }
      ]
    },
    {
      "cell_type": "code",
      "source": [
        "# With Lambda Function: Getting odd and even numbers\n",
        "\n",
        "l=[12,25,28,45,49,64,70]\n",
        "l1=list(filter(lambda x:x%2==0,l))\n",
        "print(l1) \n",
        "l2=list(filter(lambda x:x%2!=0,l))\n",
        "print(l2)"
      ],
      "metadata": {
        "id": "vrWECaugLZ8C",
        "outputId": "f19233da-14a5-4795-875a-da9246aca567",
        "colab": {
          "base_uri": "https://localhost:8080/"
        }
      },
      "execution_count": null,
      "outputs": [
        {
          "output_type": "stream",
          "name": "stdout",
          "text": [
            "[12, 28, 64, 70]\n",
            "[25, 45, 49]\n"
          ]
        }
      ]
    },
    {
      "cell_type": "markdown",
      "source": [
        "# **map() Function:**\n",
        "\n",
        "For every element present in the given sequence,apply some functionality and generate new element with the required modification. For this requirement we should go for map() function.\n",
        "\n",
        "Eg: For every element present in the list perform double and generate new list of doubles.\n",
        "\n",
        "Syntax: map(function, sequence)\n",
        "\n",
        "The function can be applied on each element of sequence and generates new sequence."
      ],
      "metadata": {
        "id": "_wMiArJYOq2X"
      }
    },
    {
      "cell_type": "code",
      "source": [
        "# Without Lambda\n",
        "l=[1,2,3,4,5]\n",
        "def doubleIt(x):\n",
        "    return 2*x\n",
        "l1=list(map(doubleIt,l))\n",
        "print(l1)#[2,4,6,8,10]"
      ],
      "metadata": {
        "id": "ZX5FvNmCNPJX",
        "outputId": "aa70da21-0300-458b-ba31-048c8a83aebe",
        "colab": {
          "base_uri": "https://localhost:8080/"
        }
      },
      "execution_count": null,
      "outputs": [
        {
          "output_type": "stream",
          "name": "stdout",
          "text": [
            "[2, 4, 6, 8, 10]\n"
          ]
        }
      ]
    },
    {
      "cell_type": "code",
      "source": [
        "# With Lambda\n",
        "l=[1,2,3,4,5]\n",
        "l1=list(map(lambda x:2*x,l))\n",
        "print(l1) #[2, 4, 6, 8, 10]"
      ],
      "metadata": {
        "id": "---xFT0IO0O1",
        "outputId": "f857d8e7-be62-4c60-e965-9ac3de9515a4",
        "colab": {
          "base_uri": "https://localhost:8080/"
        }
      },
      "execution_count": null,
      "outputs": [
        {
          "output_type": "stream",
          "name": "stdout",
          "text": [
            "[2, 4, 6, 8, 10]\n"
          ]
        }
      ]
    },
    {
      "cell_type": "code",
      "source": [
        ""
      ],
      "metadata": {
        "id": "8U0h-pxpO4lE"
      },
      "execution_count": null,
      "outputs": []
    }
  ]
}