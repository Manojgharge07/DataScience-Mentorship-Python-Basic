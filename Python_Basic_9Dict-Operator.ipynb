{
  "nbformat": 4,
  "nbformat_minor": 0,
  "metadata": {
    "colab": {
      "name": "Python Basic_9.ipynb",
      "provenance": [],
      "authorship_tag": "ABX9TyMKJFT6uZXc8TuFUMoDBbLO",
      "include_colab_link": true
    },
    "kernelspec": {
      "name": "python3",
      "display_name": "Python 3"
    },
    "language_info": {
      "name": "python"
    }
  },
  "cells": [
    {
      "cell_type": "markdown",
      "metadata": {
        "id": "view-in-github",
        "colab_type": "text"
      },
      "source": [
        "<a href=\"https://colab.research.google.com/github/Manojgharge07/DataScience-Mentorship-Python-Basic/blob/main/Python_Basic_9Dict-Operator.ipynb\" target=\"_parent\"><img src=\"https://colab.research.google.com/assets/colab-badge.svg\" alt=\"Open In Colab\"/></a>"
      ]
    },
    {
      "cell_type": "markdown",
      "source": [
        "# **Dictionary Data Structure**\n",
        "\n",
        "֍We can use List, Tuple and Set to represent a group of individual objects as a single entity\n",
        "\n",
        "֍ If we want to represent a group of objects as key-value pairs then we should go for Dictionary.\n",
        "\n",
        "rollno ---- name\n",
        "\n",
        "phone number -- address\n",
        "\n",
        "ipaddress --- domain name\n",
        "\n",
        "֍Duplicate keys are not allowed but values can be duplicated.\n",
        "\n",
        "֍Hetrogeneous objects are allowed for both key and values.\n",
        "\n",
        "֍Insertion order is not preserved.\n",
        "\n",
        "֍Dictionaries are mutable.\n",
        "\n",
        "֍Dictionaries are dynamic.\n",
        "\n",
        "֍Indexing and slicing concepts are not applicable.\n",
        "\n",
        "How to create a Dictionary?"
      ],
      "metadata": {
        "id": "GiWb3y4wUZpE"
      }
    },
    {
      "cell_type": "code",
      "execution_count": null,
      "metadata": {
        "colab": {
          "base_uri": "https://localhost:8080/"
        },
        "id": "XP25fMd3UN1G",
        "outputId": "fabf4e80-a80b-4775-8493-7e634657f9d0"
      },
      "outputs": [
        {
          "output_type": "stream",
          "name": "stdout",
          "text": [
            "{1: 'Python', 2: 'machine learning', 3: 'SQL', 4: 'HTML'}\n"
          ]
        }
      ],
      "source": [
        "# Creating a empty dictionary\n",
        "# Syntax: d={} OR d=dict()\n",
        "d = {}\n",
        "d[1] = \"Python\"      # '1'  is the key & 'Python' is the value \n",
        "d[2] = \"machine learning\"\n",
        "d[3] = \"SQL\"\n",
        "d[4] = \"HTML\"\n",
        "print(d)"
      ]
    },
    {
      "cell_type": "code",
      "source": [
        "# If we know the values, we can directly create dict as follow:\n",
        "d = {1: 'Python', 2: 'machine learning', 3: 'SQL', 4: 'HTML'}\n",
        "d"
      ],
      "metadata": {
        "colab": {
          "base_uri": "https://localhost:8080/"
        },
        "id": "a4PzAoywW6fy",
        "outputId": "e4d55879-1ae1-4e2d-d768-02c498a94d95"
      },
      "execution_count": null,
      "outputs": [
        {
          "output_type": "execute_result",
          "data": {
            "text/plain": [
              "{1: 'Python', 2: 'machine learning', 3: 'SQL', 4: 'HTML'}"
            ]
          },
          "metadata": {},
          "execution_count": 5
        }
      ]
    },
    {
      "cell_type": "markdown",
      "source": [
        "## How to access data from the dictionary?"
      ],
      "metadata": {
        "id": "paETWqY8Xeyr"
      }
    },
    {
      "cell_type": "code",
      "source": [
        "# We can access data by using keys.\n",
        "d = {1: 'Python', 2: 'machine learning', 3: 'SQL', 4: 'HTML'}\n",
        "print(d[2])\n",
        "d[1]"
      ],
      "metadata": {
        "colab": {
          "base_uri": "https://localhost:8080/",
          "height": 53
        },
        "id": "b0l2j49iXUCP",
        "outputId": "ed6d5614-5bd8-4baf-a0f1-5bb6766dae36"
      },
      "execution_count": null,
      "outputs": [
        {
          "output_type": "stream",
          "name": "stdout",
          "text": [
            "machine learning\n"
          ]
        },
        {
          "output_type": "execute_result",
          "data": {
            "text/plain": [
              "'Python'"
            ],
            "application/vnd.google.colaboratory.intrinsic+json": {
              "type": "string"
            }
          },
          "metadata": {},
          "execution_count": 9
        }
      ]
    },
    {
      "cell_type": "markdown",
      "source": [
        "# **How to Update Dictionaries?**\n",
        "\n",
        "֍ syntax: d[key] = value\n",
        "\n",
        "֍ If the key is not available then a new entry will be added to the dictionary with the specified key-value pair.\n",
        "\n",
        "֍If the key is already available then old value will be replaced with new value."
      ],
      "metadata": {
        "id": "j_UffIamYQfI"
      }
    },
    {
      "cell_type": "code",
      "source": [
        "d = {1: 'Python', 2: 'machine learning', 3: 'SQL', 4: 'HTML'}\n",
        "print(d)\n",
        "d[5] = 'Java'    #new entry added in dict\n",
        "d"
      ],
      "metadata": {
        "colab": {
          "base_uri": "https://localhost:8080/"
        },
        "id": "WdcZJ5wxYWkA",
        "outputId": "423029fc-bcdb-437f-b042-7fd443ef4386"
      },
      "execution_count": null,
      "outputs": [
        {
          "output_type": "stream",
          "name": "stdout",
          "text": [
            "{1: 'Python', 2: 'machine learning', 3: 'SQL', 4: 'HTML'}\n"
          ]
        },
        {
          "output_type": "execute_result",
          "data": {
            "text/plain": [
              "{1: 'Python', 2: 'machine learning', 3: 'SQL', 4: 'HTML', 5: 'Java'}"
            ]
          },
          "metadata": {},
          "execution_count": 11
        }
      ]
    },
    {
      "cell_type": "code",
      "source": [
        "d = {1: 'Python', 2: 'machine learning', 3: 'SQL', 4: 'HTML', 5: 'java'}\n",
        "d\n",
        "d[4] = 'C++'    #old value will be replaced with new value\n",
        "d"
      ],
      "metadata": {
        "colab": {
          "base_uri": "https://localhost:8080/"
        },
        "id": "kNWvW0lcZH4S",
        "outputId": "443bb930-f21f-4cec-b0e9-603c6b2cee71"
      },
      "execution_count": null,
      "outputs": [
        {
          "output_type": "execute_result",
          "data": {
            "text/plain": [
              "{1: 'Python', 2: 'machine learning', 3: 'SQL', 4: 'C++', 5: 'java'}"
            ]
          },
          "metadata": {},
          "execution_count": 13
        }
      ]
    },
    {
      "cell_type": "markdown",
      "source": [
        "# How to Delete Elements from Dictionary?"
      ],
      "metadata": {
        "id": "SMmI2C5aaCHc"
      }
    },
    {
      "cell_type": "code",
      "source": [
        "#1. del d[key]\n",
        "# It deletes entry associated with the specified key.\n",
        "#If the key is not available then we will get KeyError.\n",
        "d = {1: 'Python', 2: 'machine learning', 3: 'SQL', 4: 'HTML', 5: 'java'}\n",
        "print(d)\n",
        "del d[3]\n",
        "print(d)\n",
        "del d[9]\n",
        "d"
      ],
      "metadata": {
        "colab": {
          "base_uri": "https://localhost:8080/",
          "height": 253
        },
        "id": "b76n5nWbZvHY",
        "outputId": "974d61f2-22ee-4772-9d47-508926166994"
      },
      "execution_count": null,
      "outputs": [
        {
          "output_type": "stream",
          "name": "stdout",
          "text": [
            "{1: 'Python', 2: 'machine learning', 3: 'SQL', 4: 'HTML', 5: 'java'}\n",
            "{1: 'Python', 2: 'machine learning', 4: 'HTML', 5: 'java'}\n"
          ]
        },
        {
          "output_type": "error",
          "ename": "KeyError",
          "evalue": "ignored",
          "traceback": [
            "\u001b[0;31m---------------------------------------------------------------------------\u001b[0m",
            "\u001b[0;31mKeyError\u001b[0m                                  Traceback (most recent call last)",
            "\u001b[0;32m<ipython-input-19-2e664b6c5a37>\u001b[0m in \u001b[0;36m<module>\u001b[0;34m()\u001b[0m\n\u001b[1;32m      6\u001b[0m \u001b[0;32mdel\u001b[0m \u001b[0md\u001b[0m\u001b[0;34m[\u001b[0m\u001b[0;36m3\u001b[0m\u001b[0;34m]\u001b[0m\u001b[0;34m\u001b[0m\u001b[0;34m\u001b[0m\u001b[0m\n\u001b[1;32m      7\u001b[0m \u001b[0mprint\u001b[0m\u001b[0;34m(\u001b[0m\u001b[0md\u001b[0m\u001b[0;34m)\u001b[0m\u001b[0;34m\u001b[0m\u001b[0;34m\u001b[0m\u001b[0m\n\u001b[0;32m----> 8\u001b[0;31m \u001b[0;32mdel\u001b[0m \u001b[0md\u001b[0m\u001b[0;34m[\u001b[0m\u001b[0;36m9\u001b[0m\u001b[0;34m]\u001b[0m\u001b[0;34m\u001b[0m\u001b[0;34m\u001b[0m\u001b[0m\n\u001b[0m\u001b[1;32m      9\u001b[0m \u001b[0md\u001b[0m\u001b[0;34m\u001b[0m\u001b[0;34m\u001b[0m\u001b[0m\n",
            "\u001b[0;31mKeyError\u001b[0m: 9"
          ]
        }
      ]
    },
    {
      "cell_type": "code",
      "source": [
        "# 2. clear(): To remove all entries from the dictionary:    but dict is present {}\n",
        "d = {1: 'Python', 2: 'machine learning', 3: 'SQL', 4: 'HTML', 5: 'java'}\n",
        "print(d)\n",
        "\n",
        "d.clear()\n",
        "d"
      ],
      "metadata": {
        "colab": {
          "base_uri": "https://localhost:8080/"
        },
        "id": "y04CuULMb-Zy",
        "outputId": "6a47cf79-eb48-441c-a3d9-b8f3bfb1fe13"
      },
      "execution_count": null,
      "outputs": [
        {
          "output_type": "stream",
          "name": "stdout",
          "text": [
            "{1: 'Python', 2: 'machine learning', 3: 'SQL', 4: 'HTML', 5: 'java'}\n"
          ]
        },
        {
          "output_type": "execute_result",
          "data": {
            "text/plain": [
              "{}"
            ]
          },
          "metadata": {},
          "execution_count": 24
        }
      ]
    },
    {
      "cell_type": "code",
      "source": [
        "# 3. del(): To delete total dict;      in output dict is totally delete\n",
        "d = {1: 'Python', 2: 'machine learning', 3: 'SQL', 4: 'HTML', 5: 'java'}\n",
        "print(d)\n",
        "del d\n",
        "print(d) #to get error "
      ],
      "metadata": {
        "colab": {
          "base_uri": "https://localhost:8080/",
          "height": 218
        },
        "id": "5LbU7kIIdo94",
        "outputId": "6f828797-5eb5-471c-e2ca-0c94d461b8d0"
      },
      "execution_count": null,
      "outputs": [
        {
          "output_type": "stream",
          "name": "stdout",
          "text": [
            "{1: 'Python', 2: 'machine learning', 3: 'SQL', 4: 'HTML', 5: 'java'}\n"
          ]
        },
        {
          "output_type": "error",
          "ename": "NameError",
          "evalue": "ignored",
          "traceback": [
            "\u001b[0;31m---------------------------------------------------------------------------\u001b[0m",
            "\u001b[0;31mNameError\u001b[0m                                 Traceback (most recent call last)",
            "\u001b[0;32m<ipython-input-32-52d64e8631b8>\u001b[0m in \u001b[0;36m<module>\u001b[0;34m()\u001b[0m\n\u001b[1;32m      3\u001b[0m \u001b[0mprint\u001b[0m\u001b[0;34m(\u001b[0m\u001b[0md\u001b[0m\u001b[0;34m)\u001b[0m\u001b[0;34m\u001b[0m\u001b[0;34m\u001b[0m\u001b[0m\n\u001b[1;32m      4\u001b[0m \u001b[0;32mdel\u001b[0m \u001b[0md\u001b[0m\u001b[0;34m\u001b[0m\u001b[0;34m\u001b[0m\u001b[0m\n\u001b[0;32m----> 5\u001b[0;31m \u001b[0mprint\u001b[0m\u001b[0;34m(\u001b[0m\u001b[0md\u001b[0m\u001b[0;34m)\u001b[0m \u001b[0;31m#to get error\u001b[0m\u001b[0;34m\u001b[0m\u001b[0;34m\u001b[0m\u001b[0m\n\u001b[0m",
            "\u001b[0;31mNameError\u001b[0m: name 'd' is not defined"
          ]
        }
      ]
    },
    {
      "cell_type": "markdown",
      "source": [
        "# **Important Functions of Dictionary:**"
      ],
      "metadata": {
        "id": "WYdktXA5e-kZ"
      }
    },
    {
      "cell_type": "code",
      "source": [
        "#1. dict(): to create a dict;\n",
        "d = dict()\n",
        "print(type(d))\n",
        "print(id(d))"
      ],
      "metadata": {
        "colab": {
          "base_uri": "https://localhost:8080/"
        },
        "id": "dqCtNST8eaFq",
        "outputId": "3c849c46-52fd-4047-ca81-b35664eb114a"
      },
      "execution_count": null,
      "outputs": [
        {
          "output_type": "stream",
          "name": "stdout",
          "text": [
            "<class 'dict'>\n",
            "140304251544352\n"
          ]
        }
      ]
    },
    {
      "cell_type": "code",
      "source": [
        "# How to add elemets inside dict function:\n",
        "d = dict([(1,'Python'),(2,'SQL'),(3,'HTML'),(4,'Machine Learning')])\n",
        "d"
      ],
      "metadata": {
        "colab": {
          "base_uri": "https://localhost:8080/"
        },
        "id": "2nLWtxT8fjSO",
        "outputId": "27dd56a6-be08-4b2a-a4a4-8625ca8ed9bf"
      },
      "execution_count": null,
      "outputs": [
        {
          "output_type": "execute_result",
          "data": {
            "text/plain": [
              "{1: 'Python', 2: 'SQL', 3: 'HTML', 4: 'Machine Learning'}"
            ]
          },
          "metadata": {},
          "execution_count": 40
        }
      ]
    },
    {
      "cell_type": "code",
      "source": [
        "#2. len(): number of items in the dict:\n",
        "len (d)"
      ],
      "metadata": {
        "colab": {
          "base_uri": "https://localhost:8080/"
        },
        "id": "8W-fBFwOhjEg",
        "outputId": "63df5440-e432-4440-ef57-54eeba192c44"
      },
      "execution_count": null,
      "outputs": [
        {
          "output_type": "execute_result",
          "data": {
            "text/plain": [
              "4"
            ]
          },
          "metadata": {},
          "execution_count": 43
        }
      ]
    },
    {
      "cell_type": "code",
      "source": [
        "#3. get(): to get the value associated with the key:\n",
        "'''  Syntax: d.get(key)\n",
        " If the key is available then returns the corresponding value otherwise returns None.It\n",
        " wont raise any error.'''\n",
        "d.get(4)"
      ],
      "metadata": {
        "colab": {
          "base_uri": "https://localhost:8080/",
          "height": 35
        },
        "id": "IIJhTzzahwoG",
        "outputId": "f28bc8c2-90c5-422d-d8db-ea72611e7fbc"
      },
      "execution_count": null,
      "outputs": [
        {
          "output_type": "execute_result",
          "data": {
            "text/plain": [
              "'Machine Learning'"
            ],
            "application/vnd.google.colaboratory.intrinsic+json": {
              "type": "string"
            }
          },
          "metadata": {},
          "execution_count": 53
        }
      ]
    },
    {
      "cell_type": "markdown",
      "source": [
        "## **Below functions can be used to access dictionary items (both key and value).**\n",
        "\n",
        "get(): This function returns the value for the given key\n",
        "\n",
        "keys(): This function returns a view object that displays a list of all the keys in the dictionary in order of insertion\n",
        "\n",
        "values(): This function returns a list of all the values available in a given dictionary\n",
        "\n",
        "items(): This function returns the list with all dictionary keys with values\n",
        "\n",
        "clear():\tRemoves all items from the dictionary\n",
        "\n",
        "copy():\tReturns a shallow copy of the dictionary\n",
        "\n",
        "fromkeys():\tCreates a dictionary from the given sequence\n",
        "\n",
        "get():\tReturns the value for the given key\n",
        "\n",
        "items()\tReturn the list with all dictionary keys with values\n",
        "\n",
        "keys():\tReturns a view object that displays a list of all the keys in the dictionary in order of insertion\n",
        "\n",
        "pop():\tReturns and removes the element with the given key\n",
        "\n",
        "popitem():\tReturns and removes the key-value pair from the dictionary\n",
        "\n",
        "setdefault():\tReturns the value of a key if the key is in the dictionary else inserts the key with a value to the dictionary\n",
        "\n",
        "update():\tUpdates the dictionary with the elements from another dictionary\n",
        "\n",
        "values():\tReturns a list of all the values available in a given dictionary"
      ],
      "metadata": {
        "id": "NBp06hb2nxVa"
      }
    },
    {
      "cell_type": "code",
      "source": [
        ""
      ],
      "metadata": {
        "id": "VMNyF2mHj8Gi"
      },
      "execution_count": null,
      "outputs": []
    },
    {
      "cell_type": "markdown",
      "source": [
        "# **PEP 8**  (Python Enterprise Proposal.)\n",
        "\n",
        "It is a document that provides various guidelines to write the readable in Python. PEP 8 describes how the developer can write beautiful code. It was officially written in 2001 by Guido van Rossum, Barry Warsaw, and Nick Coghlan. The main aim of PEP is to enhance the readability and consistency of code.\n",
        "\n",
        "\n",
        "# **Why PEP 8 is Important?**\n",
        "PEP 8 enhances the readability of the Python code, but why is readability so important? Let's understand this concept.\n",
        "\n",
        "Creator of Python, Guido van Rossum said, \"Code is much more often than it is written.\" The code can be written in a few minutes, a few hours, or a whole day but once we have written the code, we will never rewrite it again. But sometimes, we need to read the code again and again.\n",
        "\n",
        "At this point, we must have an idea of why we wrote the particular line in the code. The code should reflect the meaning of each line. That's why readability is so much important.\n",
        "\n",
        "We will describe few important guidelines for writing effective code that can be read by others as well.\n",
        "\n",
        "Naming Convention\n",
        "When we write the code, we need to assign name to many things such as variables, functions, classes, packages, and a lot more things. Selecting a proper name will save time and energy. When we look back to the file after sometime, we can easily recall what a certain variable, function, or class represents. Developers should avoid choosing inappropriate names.\n",
        "\n",
        "The naming convention in Python is slightly messy, but there are certain conventions that we can follow easily. Let's see the following naming convention.\n",
        "\n",
        "# **Examples-**\n",
        "\n",
        "Single lowerr case letter\n",
        "\n",
        "a = 10  \n",
        "Single upper case letter\n",
        "\n",
        "A = 10  \n",
        "Lowercase\n",
        "\n",
        "var = 10  \n",
        "Lower_case_with_underscores\n",
        "\n",
        "number_of_apple = 5  \n",
        "UPPERCASE\n",
        "\n",
        "VAR = 6  \n",
        "UPPER_CASE_WITH_UNDERSCORES\n",
        "\n",
        "NUM_OF_CARS =20   \n",
        "CapitalizedWords (or CamelCase)\n",
        "\n",
        "NumberOfBooks = 100  "
      ],
      "metadata": {
        "id": "vSas298bpHux"
      }
    }
  ]
}