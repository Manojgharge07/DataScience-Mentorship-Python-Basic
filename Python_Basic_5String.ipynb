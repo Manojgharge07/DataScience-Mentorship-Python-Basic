{
  "nbformat": 4,
  "nbformat_minor": 0,
  "metadata": {
    "colab": {
      "name": "Python Basic_5.ipynb",
      "provenance": [],
      "authorship_tag": "ABX9TyMHGqvFNqEcVfcX+LOE4a7M",
      "include_colab_link": true
    },
    "kernelspec": {
      "name": "python3",
      "display_name": "Python 3"
    },
    "language_info": {
      "name": "python"
    }
  },
  "cells": [
    {
      "cell_type": "markdown",
      "metadata": {
        "id": "view-in-github",
        "colab_type": "text"
      },
      "source": [
        "<a href=\"https://colab.research.google.com/github/Manojgharge07/DataScience-Mentorship-Python-Basic/blob/main/Python_Basic_5String.ipynb\" target=\"_parent\"><img src=\"https://colab.research.google.com/assets/colab-badge.svg\" alt=\"Open In Colab\"/></a>"
      ]
    },
    {
      "cell_type": "markdown",
      "source": [
        "# **String**\n",
        "\n",
        "Any sequence of characters within either single quotes or double quotes is considered as a String.\n",
        "\n",
        "We can define multi-line String literals by using triple single or double quotes.\n",
        "\n",
        "We can also use triple quotes to use single quotes or double quotes as symbol inside String literal"
      ],
      "metadata": {
        "id": "HjUP7rRyMHzB"
      }
    },
    {
      "cell_type": "code",
      "execution_count": null,
      "metadata": {
        "colab": {
          "base_uri": "https://localhost:8080/",
          "height": 70
        },
        "id": "uDWDVUWZ3SjR",
        "outputId": "e372af56-1905-420f-9b54-18cea5a74c40"
      },
      "outputs": [
        {
          "output_type": "stream",
          "name": "stdout",
          "text": [
            "Python is very easy Langauge.\n",
            "It is very easy to understand\n"
          ]
        },
        {
          "output_type": "execute_result",
          "data": {
            "text/plain": [
              "\"This is 'Data science' course\""
            ],
            "application/vnd.google.colaboratory.intrinsic+json": {
              "type": "string"
            }
          },
          "metadata": {},
          "execution_count": 54
        }
      ],
      "source": [
        "#String operator with using single, double & tripple colon:\n",
        "s=\"Python is very easy Langauge.\"\n",
        "s1=\"\"\"It is very easy to understand\"\"\"\n",
        "s2=\"\"\"This is 'Data science' course\"\"\"\n",
        "print(s)\n",
        "print(s1)\n",
        "s2"
      ]
    },
    {
      "cell_type": "markdown",
      "source": [
        "# How to access characters of a string?\n",
        "\n",
        "We can access characters of a string by using the following ways.\n",
        "\n",
        "By using index\n",
        "\n",
        "By using slice operator"
      ],
      "metadata": {
        "id": "D3t5AxjBMVkf"
      }
    },
    {
      "cell_type": "code",
      "source": [
        "# 1. Accessing characters by using index:\n",
        "s1[3]"
      ],
      "metadata": {
        "colab": {
          "base_uri": "https://localhost:8080/",
          "height": 35
        },
        "id": "XXnUnS-x711M",
        "outputId": "6ba7cb47-5b08-4382-93d1-aff22824114b"
      },
      "execution_count": null,
      "outputs": [
        {
          "output_type": "execute_result",
          "data": {
            "text/plain": [
              "'i'"
            ],
            "application/vnd.google.colaboratory.intrinsic+json": {
              "type": "string"
            }
          },
          "metadata": {},
          "execution_count": 55
        }
      ]
    },
    {
      "cell_type": "code",
      "source": [
        "# 2. accessing characters by using index:\n",
        "s=\"Python is very easy Langauge\"\n",
        "s[5]"
      ],
      "metadata": {
        "colab": {
          "base_uri": "https://localhost:8080/",
          "height": 35
        },
        "id": "19LmnsRRCanG",
        "outputId": "cf17d96d-c4a4-4284-f1d5-94efae8560c1"
      },
      "execution_count": null,
      "outputs": [
        {
          "output_type": "execute_result",
          "data": {
            "text/plain": [
              "'n'"
            ],
            "application/vnd.google.colaboratory.intrinsic+json": {
              "type": "string"
            }
          },
          "metadata": {},
          "execution_count": 56
        }
      ]
    },
    {
      "cell_type": "code",
      "source": [
        "s2[9]"
      ],
      "metadata": {
        "colab": {
          "base_uri": "https://localhost:8080/",
          "height": 35
        },
        "id": "HCvD1GAHC4aO",
        "outputId": "25e534ba-b5e5-40bf-9012-339dd8c15127"
      },
      "execution_count": null,
      "outputs": [
        {
          "output_type": "execute_result",
          "data": {
            "text/plain": [
              "'D'"
            ],
            "application/vnd.google.colaboratory.intrinsic+json": {
              "type": "string"
            }
          },
          "metadata": {},
          "execution_count": 57
        }
      ]
    },
    {
      "cell_type": "code",
      "source": [
        "s1[-3]"
      ],
      "metadata": {
        "colab": {
          "base_uri": "https://localhost:8080/",
          "height": 35
        },
        "id": "gMbx6VqGDG-o",
        "outputId": "7bed13cd-6367-4884-f650-8d47c5b045de"
      },
      "execution_count": null,
      "outputs": [
        {
          "output_type": "execute_result",
          "data": {
            "text/plain": [
              "'a'"
            ],
            "application/vnd.google.colaboratory.intrinsic+json": {
              "type": "string"
            }
          },
          "metadata": {},
          "execution_count": 58
        }
      ]
    },
    {
      "cell_type": "code",
      "source": [
        "# 2. Accessing characters by using slice operator\n",
        "# slice operator s[Begin:End:Step]\n",
        "s=\"This is 'Data science' course\"\n",
        "s[1:10:1]"
      ],
      "metadata": {
        "colab": {
          "base_uri": "https://localhost:8080/",
          "height": 35
        },
        "id": "TAFMq_GiDvqR",
        "outputId": "adff9ab7-97b5-4802-cdce-b6ac542d15ce"
      },
      "execution_count": null,
      "outputs": [
        {
          "output_type": "execute_result",
          "data": {
            "text/plain": [
              "\"his is 'D\""
            ],
            "application/vnd.google.colaboratory.intrinsic+json": {
              "type": "string"
            }
          },
          "metadata": {},
          "execution_count": 59
        }
      ]
    },
    {
      "cell_type": "code",
      "source": [
        "s1[2:12:1]"
      ],
      "metadata": {
        "colab": {
          "base_uri": "https://localhost:8080/",
          "height": 35
        },
        "id": "-AOdRBrhE0IX",
        "outputId": "c809d1b8-541d-4973-e347-c773c02ad861"
      },
      "execution_count": null,
      "outputs": [
        {
          "output_type": "execute_result",
          "data": {
            "text/plain": [
              "' is very e'"
            ],
            "application/vnd.google.colaboratory.intrinsic+json": {
              "type": "string"
            }
          },
          "metadata": {},
          "execution_count": 60
        }
      ]
    },
    {
      "cell_type": "code",
      "source": [
        "s[::]"
      ],
      "metadata": {
        "colab": {
          "base_uri": "https://localhost:8080/",
          "height": 35
        },
        "id": "50O2SRMZFNGm",
        "outputId": "784f40aa-6090-4527-e1a4-b499ae9d3fa1"
      },
      "execution_count": null,
      "outputs": [
        {
          "output_type": "execute_result",
          "data": {
            "text/plain": [
              "\"This is 'Data science' course\""
            ],
            "application/vnd.google.colaboratory.intrinsic+json": {
              "type": "string"
            }
          },
          "metadata": {},
          "execution_count": 61
        }
      ]
    },
    {
      "cell_type": "code",
      "source": [
        "s1[::-1]"
      ],
      "metadata": {
        "colab": {
          "base_uri": "https://localhost:8080/",
          "height": 35
        },
        "id": "uc40aLUwFmBj",
        "outputId": "8e746b45-91d2-4326-ecaa-a36d3112b093"
      },
      "execution_count": null,
      "outputs": [
        {
          "output_type": "execute_result",
          "data": {
            "text/plain": [
              "'dnatsrednu ot ysae yrev si tI'"
            ],
            "application/vnd.google.colaboratory.intrinsic+json": {
              "type": "string"
            }
          },
          "metadata": {},
          "execution_count": 63
        }
      ]
    },
    {
      "cell_type": "code",
      "source": [
        "s2[::-2]"
      ],
      "metadata": {
        "colab": {
          "base_uri": "https://localhost:8080/",
          "height": 35
        },
        "id": "ql8tCXDWGEv0",
        "outputId": "fbb2a9e5-fa17-44c1-a40e-7cb173b793c3"
      },
      "execution_count": null,
      "outputs": [
        {
          "output_type": "execute_result",
          "data": {
            "text/plain": [
              "\"ero enisaa's iT\""
            ],
            "application/vnd.google.colaboratory.intrinsic+json": {
              "type": "string"
            }
          },
          "metadata": {},
          "execution_count": 65
        }
      ]
    },
    {
      "cell_type": "code",
      "source": [
        "s2[::2]"
      ],
      "metadata": {
        "colab": {
          "base_uri": "https://localhost:8080/",
          "height": 35
        },
        "id": "J5gdtnAzGOAq",
        "outputId": "038cde7d-574c-4972-c3bd-68c0dee309d2"
      },
      "execution_count": null,
      "outputs": [
        {
          "output_type": "execute_result",
          "data": {
            "text/plain": [
              "\"Ti s'aasine ore\""
            ],
            "application/vnd.google.colaboratory.intrinsic+json": {
              "type": "string"
            }
          },
          "metadata": {},
          "execution_count": 67
        }
      ]
    },
    {
      "cell_type": "code",
      "source": [
        "# Note: Slice operator never raises IndexError\n",
        "s[1200:10:1]"
      ],
      "metadata": {
        "colab": {
          "base_uri": "https://localhost:8080/",
          "height": 35
        },
        "id": "hC13U-K-GSI0",
        "outputId": "a516f2a4-d933-4a29-ba34-8326adefdf3b"
      },
      "execution_count": null,
      "outputs": [
        {
          "output_type": "execute_result",
          "data": {
            "text/plain": [
              "''"
            ],
            "application/vnd.google.colaboratory.intrinsic+json": {
              "type": "string"
            }
          },
          "metadata": {},
          "execution_count": 71
        }
      ]
    },
    {
      "cell_type": "code",
      "source": [
        "s[1200:10:-1]"
      ],
      "metadata": {
        "colab": {
          "base_uri": "https://localhost:8080/",
          "height": 35
        },
        "id": "aQ00Xzo5Gpsv",
        "outputId": "9f66b206-849c-472f-afab-313f75840f06"
      },
      "execution_count": null,
      "outputs": [
        {
          "output_type": "execute_result",
          "data": {
            "text/plain": [
              "\"esruoc 'ecneics at\""
            ],
            "application/vnd.google.colaboratory.intrinsic+json": {
              "type": "string"
            }
          },
          "metadata": {},
          "execution_count": 74
        }
      ]
    },
    {
      "cell_type": "code",
      "source": [
        "#len() in-built function:\n",
        "len(s)"
      ],
      "metadata": {
        "colab": {
          "base_uri": "https://localhost:8080/"
        },
        "id": "ueQ02Dn9GwcL",
        "outputId": "95943f39-3f3c-4372-e144-58bab4f2baa1"
      },
      "execution_count": null,
      "outputs": [
        {
          "output_type": "execute_result",
          "data": {
            "text/plain": [
              "29"
            ]
          },
          "metadata": {},
          "execution_count": 76
        }
      ]
    },
    {
      "cell_type": "code",
      "source": [
        "len(s1)"
      ],
      "metadata": {
        "colab": {
          "base_uri": "https://localhost:8080/"
        },
        "id": "sJZeyNg6G6UC",
        "outputId": "09b2e179-78a6-4f66-d786-9aab01c6fc05"
      },
      "execution_count": null,
      "outputs": [
        {
          "output_type": "execute_result",
          "data": {
            "text/plain": [
              "29"
            ]
          },
          "metadata": {},
          "execution_count": 78
        }
      ]
    },
    {
      "cell_type": "code",
      "source": [
        "#Write a Program to access each Character of String in Forward and Backward Direction by using while Loop?\n",
        "s=\"This is 'Data science' course\"\n",
        "d=len(s)\n",
        "i=0\n",
        "print(\"Forword Direction\")\n",
        "while i<d:\n",
        "  print(s[i],end='')\n",
        "  i+=1\n",
        "\n",
        "i=-1\n",
        "print(\"Backword Direction\")\n",
        "while i>=-d:\n",
        "  print(s[i],end='')\n",
        "  i-=1"
      ],
      "metadata": {
        "colab": {
          "base_uri": "https://localhost:8080/"
        },
        "id": "CHK4r-DQHOFg",
        "outputId": "ca5cbb47-a3d9-4ec3-a607-970bcb1bfe13"
      },
      "execution_count": null,
      "outputs": [
        {
          "output_type": "stream",
          "name": "stdout",
          "text": [
            "Forword Direction\n",
            "This is 'Data science' courseBackword Direction\n",
            "esruoc 'ecneics ataD' si sihT"
          ]
        }
      ]
    },
    {
      "cell_type": "code",
      "source": [
        "#Write a Program to access each Character of String in Forward and Backward Direction by using while Loop?\n",
        "a = 'python is easy langauge'\n",
        "b = len(a)\n",
        "s = -1\n",
        "print('backword direction')\n",
        "while s>=-b:\n",
        "  print(a[s], end='')\n",
        "  s=s-1\n",
        "print(' backword direction ')\n",
        "\n",
        "s=0\n",
        "print('forword direction')\n",
        "while s<b:\n",
        "  print(a[s], end='')\n",
        "  s+=1\n",
        "print(' forword direction ')"
      ],
      "metadata": {
        "colab": {
          "base_uri": "https://localhost:8080/"
        },
        "id": "ds5az9DLaGY9",
        "outputId": "9c8d889f-b969-47c2-ec5c-31bc8607ad66"
      },
      "execution_count": null,
      "outputs": [
        {
          "output_type": "stream",
          "name": "stdout",
          "text": [
            "backword direction\n",
            "eguagnal ysae si nohtyp backword direction \n",
            "forword direction\n",
            "python is easy langauge forword direction \n"
          ]
        }
      ]
    },
    {
      "cell_type": "code",
      "source": [
        "#Checking Membership:\n",
        "#We can check whether the character or string is the member of another string or not by using in and not in operators:\n",
        "s=\"Data Science\"\n",
        "'a' in s"
      ],
      "metadata": {
        "colab": {
          "base_uri": "https://localhost:8080/"
        },
        "id": "U9bUDy8fM9Ym",
        "outputId": "e34d43c0-cec0-49bf-aed6-4fa1658d0121"
      },
      "execution_count": null,
      "outputs": [
        {
          "output_type": "execute_result",
          "data": {
            "text/plain": [
              "True"
            ]
          },
          "metadata": {},
          "execution_count": 22
        }
      ]
    },
    {
      "cell_type": "code",
      "source": [
        "#Checking Membership:\n",
        "#We can check whether the character or string is the member of another string or not by using in and not in operators:\n",
        "s = \"python langauge\"\n",
        "'v' not in s"
      ],
      "metadata": {
        "colab": {
          "base_uri": "https://localhost:8080/"
        },
        "id": "-lOi2T5lRe3A",
        "outputId": "90c3fbd9-6e9c-4db4-c3d9-8686998f9023"
      },
      "execution_count": null,
      "outputs": [
        {
          "output_type": "execute_result",
          "data": {
            "text/plain": [
              "True"
            ]
          },
          "metadata": {},
          "execution_count": 19
        }
      ]
    },
    {
      "cell_type": "code",
      "source": [
        "s=\"Python Langauge\"\n",
        "\"P\" not in s"
      ],
      "metadata": {
        "colab": {
          "base_uri": "https://localhost:8080/"
        },
        "id": "DcTX83sESVNR",
        "outputId": "d8c0826a-6abe-4d11-8be7-eaecc2faa228"
      },
      "execution_count": null,
      "outputs": [
        {
          "output_type": "execute_result",
          "data": {
            "text/plain": [
              "False"
            ]
          },
          "metadata": {},
          "execution_count": 26
        }
      ]
    },
    {
      "cell_type": "code",
      "source": [
        "#Comparison of Strings\n",
        "#We can use comparison operators (<, <=, >, >=) and equality operators (==, !=) for strings:\n",
        "s=input(\"Enter First String :\")\n",
        "d=input(\"Enter Second String :\")\n",
        "if s==d:\n",
        "  print(\"Both Strings are equal\")\n",
        "elif s>d:\n",
        "  print(\"First string is greater than second string\")\n",
        "else:\n",
        "  print(\"First string is less than second string\")"
      ],
      "metadata": {
        "colab": {
          "base_uri": "https://localhost:8080/"
        },
        "id": "J8M0TNLYSgzr",
        "outputId": "2013bd38-32d8-4a7c-b99b-4195aac70983"
      },
      "execution_count": null,
      "outputs": [
        {
          "output_type": "stream",
          "name": "stdout",
          "text": [
            "Enter First String :z\n",
            "Enter Second String :Z\n",
            "First string is greater than second string\n"
          ]
        }
      ]
    },
    {
      "cell_type": "code",
      "source": [
        "#Comparison of Strings\n",
        "#We can use comparison operators (<, <=, >, >=) and equality operators (==, !=) for strings:\n",
        "m=input(\"Enter First String :\")\n",
        "n=input(\"Enter Second String :\")\n",
        "if m==n:\n",
        "  print(\"Both strings are equal\")\n",
        "elif m>n:\n",
        "  print(\"First string is greater than second string\")\n",
        "else:\n",
        "  print(\"First string is less than second string\")"
      ],
      "metadata": {
        "colab": {
          "base_uri": "https://localhost:8080/"
        },
        "id": "IJ1Q3XnkVZJi",
        "outputId": "aa1ede1e-6007-4bc6-a3df-4b1c6e1a1f7a"
      },
      "execution_count": null,
      "outputs": [
        {
          "output_type": "stream",
          "name": "stdout",
          "text": [
            "Enter First String :lenovo\n",
            "Enter Second String :Dell\n",
            "First string is greater than second string\n"
          ]
        }
      ]
    },
    {
      "cell_type": "code",
      "source": [
        "#Comparison of Strings\n",
        "#We can use comparison operators (<, <=, >, >=) and equality operators (==, !=) for strings:\n",
        "m=input(\"Enter First String :\")\n",
        "n=input(\"Enter Second String :\")\n",
        "if m!=n:\n",
        "  print(\"Both strings are equal\")\n",
        "elif m>n:\n",
        "  print(\"First string is greater than second string\")\n",
        "else:\n",
        "  print(\"First string is less than second string\")"
      ],
      "metadata": {
        "colab": {
          "base_uri": "https://localhost:8080/"
        },
        "id": "clr-KvnGW9o1",
        "outputId": "b960aa4d-35ea-4633-d501-8a78944f7901"
      },
      "execution_count": null,
      "outputs": [
        {
          "output_type": "stream",
          "name": "stdout",
          "text": [
            "Enter First String :mobile\n",
            "Enter Second String :charge\n",
            "Both strings are equal\n"
          ]
        }
      ]
    },
    {
      "cell_type": "code",
      "source": [
        ""
      ],
      "metadata": {
        "id": "XkH8tdZojqPG"
      },
      "execution_count": null,
      "outputs": []
    },
    {
      "cell_type": "markdown",
      "source": [
        "# **Removing Spaces from the String:**\n",
        "\n",
        "1)rstrip()-->To remove spaces at right hand side.\n",
        "\n",
        "2) lstrip()--> To remove spaces at left hand side.\n",
        "\n",
        "3) strip()-->To remove spaces both sides."
      ],
      "metadata": {
        "id": "QMZgHo0sM1vc"
      }
    },
    {
      "cell_type": "code",
      "source": [
        ""
      ],
      "metadata": {
        "id": "gOMQdm4Jj0l4"
      },
      "execution_count": null,
      "outputs": []
    },
    {
      "cell_type": "code",
      "source": [
        "#Removing Spaces from the String:\n",
        "vehicle=input(\"Enter Vehicle Name :\")\n",
        "cvehicle=vehicle.strip()   \n",
        "if cvehicle== \"Ertiga\":\n",
        "  print(\"This company is Suzuki\")\n",
        "elif cvehicle== \"Endeavour\":\n",
        "  print(\"This company is Ford\")\n",
        "elif cvehicle== \"Harrier\":\n",
        "  print(\"This company is Tata\")\n",
        "else:\n",
        "  print(\"The Vehicle is not in list\")"
      ],
      "metadata": {
        "colab": {
          "base_uri": "https://localhost:8080/"
        },
        "id": "fBSJ052OX_5V",
        "outputId": "da129a32-11ce-45ea-c0c1-0996b85f2b97"
      },
      "execution_count": null,
      "outputs": [
        {
          "output_type": "stream",
          "name": "stdout",
          "text": [
            "Enter Vehicle Name :         Ertiga\n",
            "This company is Suzuki\n"
          ]
        }
      ]
    },
    {
      "cell_type": "code",
      "source": [
        "#Removing Spaces from the String:\n",
        "vehicle=input(\"Enter Vehicle Name :\")\n",
        "cvehicle=vehicle.strip()\n",
        "if cvehicle== \"Ertiga\":\n",
        "  print(\"This company is Suzuki\")\n",
        "elif cvehicle== \"Endeavour\":\n",
        "  print(\"This company is Ford\")\n",
        "elif cvehicle== \"Harrier\":\n",
        "  print(\"This company is Tata\")\n",
        "else:\n",
        "  print(\"The Vehicle is not in list\")"
      ],
      "metadata": {
        "colab": {
          "base_uri": "https://localhost:8080/"
        },
        "id": "xVU3Syc5cjPs",
        "outputId": "065acfa9-47cc-4f60-e908-f5a39134d7cd"
      },
      "execution_count": null,
      "outputs": [
        {
          "output_type": "stream",
          "name": "stdout",
          "text": [
            "Enter Vehicle Name :Swift\n",
            "The Vehicle is not in list\n"
          ]
        }
      ]
    },
    {
      "cell_type": "code",
      "source": [
        "s = ' Data Science                '\n",
        "s.strip()"
      ],
      "metadata": {
        "id": "so2wTBErcsCt",
        "outputId": "3d4496f9-f31c-4b38-c1e5-b2c908d29f24",
        "colab": {
          "base_uri": "https://localhost:8080/",
          "height": 35
        }
      },
      "execution_count": null,
      "outputs": [
        {
          "output_type": "execute_result",
          "data": {
            "text/plain": [
              "'Data Science'"
            ],
            "application/vnd.google.colaboratory.intrinsic+json": {
              "type": "string"
            }
          },
          "metadata": {},
          "execution_count": 45
        }
      ]
    },
    {
      "cell_type": "code",
      "source": [
        "m=\"     Scientist                \"\n",
        "m.rstrip()"
      ],
      "metadata": {
        "id": "B4Ag2m21loNX",
        "outputId": "9d7c08d6-649a-41a3-af3f-6a8fa81cbaec",
        "colab": {
          "base_uri": "https://localhost:8080/",
          "height": 35
        }
      },
      "execution_count": null,
      "outputs": [
        {
          "output_type": "execute_result",
          "data": {
            "text/plain": [
              "'     Scientist'"
            ],
            "application/vnd.google.colaboratory.intrinsic+json": {
              "type": "string"
            }
          },
          "metadata": {},
          "execution_count": 46
        }
      ]
    },
    {
      "cell_type": "code",
      "source": [
        "n=\" learner \"\n",
        "n.lstrip()"
      ],
      "metadata": {
        "id": "5g3a9UsGl6O0",
        "outputId": "7e9e2e1a-2088-4ad3-dd73-a9edb2a9b57d",
        "colab": {
          "base_uri": "https://localhost:8080/",
          "height": 35
        }
      },
      "execution_count": null,
      "outputs": [
        {
          "output_type": "execute_result",
          "data": {
            "text/plain": [
              "'learner '"
            ],
            "application/vnd.google.colaboratory.intrinsic+json": {
              "type": "string"
            }
          },
          "metadata": {},
          "execution_count": 37
        }
      ]
    },
    {
      "cell_type": "markdown",
      "source": [
        "# **Finding Substrings:**\n",
        "\n",
        "We can use the following 4 methods\n",
        "\n",
        "For forward direction:\n",
        "\n",
        "1) find()\n",
        "\n",
        "2) index()\n",
        "\n",
        "For backward direction:\n",
        "\n",
        "1) rfind()\n",
        "\n",
        "2) rindex()\n",
        "\n",
        "1) find()"
      ],
      "metadata": {
        "id": "xH4yOcr1NA7q"
      }
    },
    {
      "cell_type": "code",
      "source": [
        "#Finding Substrings:\n",
        "# find(): Returns index of first occurrence of the given substring. If it is not available then we will\n",
        "# get -1.\n",
        "s=\"Data structure\"\n",
        "s.find(\"structure\")"
      ],
      "metadata": {
        "id": "6krwAwX5mpIp",
        "outputId": "445a317d-5c05-470b-dc64-19bd42690ed1",
        "colab": {
          "base_uri": "https://localhost:8080/"
        }
      },
      "execution_count": null,
      "outputs": [
        {
          "output_type": "execute_result",
          "data": {
            "text/plain": [
              "5"
            ]
          },
          "metadata": {},
          "execution_count": 50
        }
      ]
    },
    {
      "cell_type": "code",
      "source": [
        "# syntax: s.find(substring,bEgin,end)\n",
        "s.find(\"t\", 3)"
      ],
      "metadata": {
        "id": "-j-31z-yq1ED",
        "outputId": "45180ab0-95a8-43d6-9f80-22fe8aaaf144",
        "colab": {
          "base_uri": "https://localhost:8080/"
        }
      },
      "execution_count": null,
      "outputs": [
        {
          "output_type": "execute_result",
          "data": {
            "text/plain": [
              "6"
            ]
          },
          "metadata": {},
          "execution_count": 54
        }
      ]
    },
    {
      "cell_type": "code",
      "source": [
        "s=\"data science is easy langauge to understand\"\n",
        "s.find(\"m\")"
      ],
      "metadata": {
        "id": "74B-1GzZrV8R",
        "outputId": "e36b6587-4f38-4d54-c891-d3d7fa812711",
        "colab": {
          "base_uri": "https://localhost:8080/"
        }
      },
      "execution_count": null,
      "outputs": [
        {
          "output_type": "execute_result",
          "data": {
            "text/plain": [
              "-1"
            ]
          },
          "metadata": {},
          "execution_count": 56
        }
      ]
    },
    {
      "cell_type": "code",
      "source": [
        "s.index('y')"
      ],
      "metadata": {
        "id": "tAHL-sQKsn0i",
        "outputId": "70fa5b46-2923-4759-c80a-34ebd1aaf8c2",
        "colab": {
          "base_uri": "https://localhost:8080/"
        }
      },
      "execution_count": null,
      "outputs": [
        {
          "output_type": "execute_result",
          "data": {
            "text/plain": [
              "19"
            ]
          },
          "metadata": {},
          "execution_count": 19
        }
      ]
    },
    {
      "cell_type": "code",
      "source": [
        "# we will get a error if the substring is not available:\n",
        "s.index('is')"
      ],
      "metadata": {
        "id": "7-ra6fW_syLk",
        "outputId": "d02561ac-9031-4107-e287-fba1befc7fad",
        "colab": {
          "base_uri": "https://localhost:8080/"
        }
      },
      "execution_count": null,
      "outputs": [
        {
          "output_type": "execute_result",
          "data": {
            "text/plain": [
              "13"
            ]
          },
          "metadata": {},
          "execution_count": 60
        }
      ]
    },
    {
      "cell_type": "code",
      "source": [
        "# to display all Positions of Substring in a given Main String:\n",
        "s=input(\"Enter main string:\")\n",
        "subs=input(\"Enter sub string:\")\n",
        "flag=False\n",
        "pos=-1\n",
        "n=len(s)\n",
        "while True:\n",
        "  pos=s.find(subs,pos+1,n)\n",
        "  if pos==-1:\n",
        "    break\n",
        "  print(\"Found at position\",pos)\n",
        "  flag=True\n",
        "if flag==False:\n",
        "  print(\"Not Found\")"
      ],
      "metadata": {
        "id": "OhEhAs0buC86",
        "outputId": "351638d4-f3f3-4b88-d020-a4406edd5d07",
        "colab": {
          "base_uri": "https://localhost:8080/"
        }
      },
      "execution_count": null,
      "outputs": [
        {
          "output_type": "stream",
          "name": "stdout",
          "text": [
            "Enter main string:aaaasaassdasddsadasdadddssdsasdasd\n",
            "Enter sub string:z\n",
            "Not Found\n"
          ]
        }
      ]
    },
    {
      "cell_type": "code",
      "source": [
        "#Count substring in the given String:\n",
        "m=\"asdasdasedasedddseasfdesaadd\"\n",
        "s.count('s')"
      ],
      "metadata": {
        "id": "pn3oG_-hvc22",
        "outputId": "a09851d9-2c34-492a-9a9a-3bc3dbcdb7ac",
        "colab": {
          "base_uri": "https://localhost:8080/"
        }
      },
      "execution_count": null,
      "outputs": [
        {
          "output_type": "execute_result",
          "data": {
            "text/plain": [
              "11"
            ]
          },
          "metadata": {},
          "execution_count": 64
        }
      ]
    },
    {
      "cell_type": "code",
      "source": [
        "#Replacing a String with another String:\n",
        "s=\"data science is difficult langauge to understand\"\n",
        "s1= s.replace(\"difficult\",\"easy\")\n",
        "s2= s.replace(\"data science is difficult langauge to\", \"sql\")\n",
        "print(s1)\n",
        "print(s2)"
      ],
      "metadata": {
        "id": "e1L0lrazwFvD",
        "outputId": "bfdb4c01-eaa2-4295-c00d-456d3e01c1ef",
        "colab": {
          "base_uri": "https://localhost:8080/"
        }
      },
      "execution_count": null,
      "outputs": [
        {
          "output_type": "stream",
          "name": "stdout",
          "text": [
            "data science is easy langauge to understand\n",
            "sql understand\n"
          ]
        }
      ]
    },
    {
      "cell_type": "code",
      "source": [
        "#Splitting of Strings:\n",
        "s=\"19-04-202212-12\"\n",
        "m=s.split('-')\n",
        "for x in m:\n",
        "  print(x,end=\" \")"
      ],
      "metadata": {
        "id": "gdGNJ9WSw-T-",
        "outputId": "c35e276e-0a1f-4245-dddf-4f808385cfba",
        "colab": {
          "base_uri": "https://localhost:8080/"
        }
      },
      "execution_count": null,
      "outputs": [
        {
          "output_type": "stream",
          "name": "stdout",
          "text": [
            "19 04 202212 12 "
          ]
        }
      ]
    },
    {
      "cell_type": "code",
      "source": [
        "m"
      ],
      "metadata": {
        "id": "Z7krmAxWx_ww",
        "outputId": "05c9c8c1-ffa1-4798-dce9-c5d275d9e143",
        "colab": {
          "base_uri": "https://localhost:8080/"
        }
      },
      "execution_count": null,
      "outputs": [
        {
          "output_type": "execute_result",
          "data": {
            "text/plain": [
              "['19', '04', '202212', '12']"
            ]
          },
          "metadata": {},
          "execution_count": 75
        }
      ]
    },
    {
      "cell_type": "code",
      "source": [
        "x"
      ],
      "metadata": {
        "id": "VJBG4FCRyVvH",
        "outputId": "7992a5f4-abb2-43c4-fa9b-eb5c8592af55",
        "colab": {
          "base_uri": "https://localhost:8080/",
          "height": 35
        }
      },
      "execution_count": null,
      "outputs": [
        {
          "output_type": "execute_result",
          "data": {
            "text/plain": [
              "'2022'"
            ],
            "application/vnd.google.colaboratory.intrinsic+json": {
              "type": "string"
            }
          },
          "metadata": {},
          "execution_count": 36
        }
      ]
    },
    {
      "cell_type": "code",
      "source": [
        "s"
      ],
      "metadata": {
        "id": "274c-l_-yW6j",
        "outputId": "38bbb722-72ff-4e39-a75e-0bfa3aa95cd8",
        "colab": {
          "base_uri": "https://localhost:8080/",
          "height": 35
        }
      },
      "execution_count": null,
      "outputs": [
        {
          "output_type": "execute_result",
          "data": {
            "text/plain": [
              "'19-04-202212-12'"
            ],
            "application/vnd.google.colaboratory.intrinsic+json": {
              "type": "string"
            }
          },
          "metadata": {},
          "execution_count": 76
        }
      ]
    },
    {
      "cell_type": "code",
      "source": [
        "#Joining Of Strings:\n",
        "list1= [\"data\",\"science\",\"learner\"]\n",
        "\"85\".join(list1) #use any function + * &"
      ],
      "metadata": {
        "id": "M2Nrej_wybuP",
        "outputId": "b690d553-5ddb-4a9d-e606-2d50a4931c8c",
        "colab": {
          "base_uri": "https://localhost:8080/",
          "height": 35
        }
      },
      "execution_count": null,
      "outputs": [
        {
          "output_type": "execute_result",
          "data": {
            "text/plain": [
              "'data85science85learner'"
            ],
            "application/vnd.google.colaboratory.intrinsic+json": {
              "type": "string"
            }
          },
          "metadata": {},
          "execution_count": 79
        }
      ]
    },
    {
      "cell_type": "markdown",
      "source": [
        "# **Changing the case of a string:**\n",
        "\n",
        "upper()-->To convert all characters to upper case.\n",
        "\n",
        "lower()-->To convert all characters to lower case.\n",
        "\n",
        "swapcase() --> Converts all lower case characters to upper case and all upper case characters to lower case\n",
        "\n",
        "title() --> To convert all character to title case. i.e first character in every word should be upper case and all remaining characters should be in lower case.\n",
        "\n",
        "capitalize() --> Only first character will be converted to upper case and all remaining characters can be converted to lower case."
      ],
      "metadata": {
        "id": "lSMHFF5ANg-e"
      }
    },
    {
      "cell_type": "code",
      "source": [
        "#Changing the case of a string:\n",
        "s=\"Data Science is difficult Langauge to Understand\"\n",
        "print(s.upper())\n",
        "print(s.lower())\n",
        "print(s.swapcase())\n",
        "print(s.title())\n",
        "print(s.capitalize())"
      ],
      "metadata": {
        "id": "WD7rNe4uy6vu",
        "outputId": "0ad4005b-4aaf-41b5-fcea-17c4e5aeac15",
        "colab": {
          "base_uri": "https://localhost:8080/"
        }
      },
      "execution_count": null,
      "outputs": [
        {
          "output_type": "stream",
          "name": "stdout",
          "text": [
            "DATA SCIENCE IS DIFFICULT LANGAUGE TO UNDERSTAND\n",
            "data science is difficult langauge to understand\n",
            "dATA sCIENCE IS DIFFICULT lANGAUGE TO uNDERSTAND\n",
            "Data Science Is Difficult Langauge To Understand\n",
            "Data science is difficult langauge to understand\n"
          ]
        }
      ]
    },
    {
      "cell_type": "markdown",
      "source": [
        "# Checking Starting and Ending Part of the String:\n",
        "\n",
        "Python contains the following methods for this purpose.\n",
        "\n",
        "s.startswith(substring)\n",
        "\n",
        "s.endswith(substring)"
      ],
      "metadata": {
        "id": "h4FfDmo1NsMu"
      }
    },
    {
      "cell_type": "code",
      "source": [
        "#Checking Starting and Ending Part of the String:\n",
        "m=\"Data Science is difficult Langauge to Understand\"\n",
        "print(m.startswith(\"Data\"))\n",
        "print(m.endswith('Langauge'))\n",
        "print(m.startswith(\"Science\"))\n",
        "print(m.endswith('Understand'))"
      ],
      "metadata": {
        "id": "onVJMiZkztnH",
        "outputId": "8c033b70-be7d-4c68-af63-eac896c35160",
        "colab": {
          "base_uri": "https://localhost:8080/"
        }
      },
      "execution_count": null,
      "outputs": [
        {
          "output_type": "stream",
          "name": "stdout",
          "text": [
            "True\n",
            "False\n",
            "False\n",
            "True\n"
          ]
        }
      ]
    },
    {
      "cell_type": "markdown",
      "source": [
        "# **To Check Type of Characters Present in a String:**\n",
        "\n",
        "Python contains the following methods for this purpose.\n",
        "\n",
        "isalnum(): Returns True if all characters are alphanumeric( a to z , A to Z ,0 to9 ).\n",
        "\n",
        "isalpha(): Returns True if all characters are only alphabet symbols(a to z,A to Z)\n",
        "\n",
        "isdigit(): Returns True if all characters are digits only( 0 to 9)\n",
        "\n",
        "islower(): Returns True if all characters are lower case alphabet symbols\n",
        "\n",
        "isupper(): Returns True if all characters are upper case aplhabet symbols\n",
        "\n",
        "istitle(): Returns True if string is in title case\n",
        "\n",
        "isspace(): Returns True if string contains only spaces"
      ],
      "metadata": {
        "id": "8yB_EAPmNxqn"
      }
    },
    {
      "cell_type": "code",
      "source": [
        "#To Check Type of Characters Present in a String:\n",
        "print(\"manojgharge07\" .isalnum())"
      ],
      "metadata": {
        "id": "ZjctdJ-I0k4z",
        "outputId": "93fef6ab-d94c-42e7-b53f-51a421cb26fe",
        "colab": {
          "base_uri": "https://localhost:8080/"
        }
      },
      "execution_count": null,
      "outputs": [
        {
          "output_type": "stream",
          "name": "stdout",
          "text": [
            "True\n"
          ]
        }
      ]
    },
    {
      "cell_type": "code",
      "source": [
        "print(\"Manojgharge07\" .isalpha())"
      ],
      "metadata": {
        "id": "YZl8IMik1i8G",
        "outputId": "b8f4e8cf-e587-4eb3-b22b-cf49fd2f4233",
        "colab": {
          "base_uri": "https://localhost:8080/"
        }
      },
      "execution_count": null,
      "outputs": [
        {
          "output_type": "stream",
          "name": "stdout",
          "text": [
            "False\n"
          ]
        }
      ]
    },
    {
      "cell_type": "code",
      "source": [
        "print(\"MANOJGHARGE07\" .isalnum())"
      ],
      "metadata": {
        "id": "QmOYK4a31_--",
        "outputId": "1515a069-084b-44f7-b0ae-1e4c76e87d56",
        "colab": {
          "base_uri": "https://localhost:8080/"
        }
      },
      "execution_count": null,
      "outputs": [
        {
          "output_type": "stream",
          "name": "stdout",
          "text": [
            "True\n"
          ]
        }
      ]
    },
    {
      "cell_type": "code",
      "source": [
        "print(\"manojgharge07\" .isdigit())"
      ],
      "metadata": {
        "id": "C_9LmFkl2FII",
        "outputId": "eef37759-b7b2-4ef2-a975-903bc13505fb",
        "colab": {
          "base_uri": "https://localhost:8080/"
        }
      },
      "execution_count": null,
      "outputs": [
        {
          "output_type": "stream",
          "name": "stdout",
          "text": [
            "False\n"
          ]
        }
      ]
    },
    {
      "cell_type": "code",
      "source": [
        "print(\"07\" .isdigit())"
      ],
      "metadata": {
        "id": "6LrXDXHA2NL5",
        "outputId": "57f0701c-c8ad-4614-da92-e4289fb8b9d7",
        "colab": {
          "base_uri": "https://localhost:8080/"
        }
      },
      "execution_count": null,
      "outputs": [
        {
          "output_type": "stream",
          "name": "stdout",
          "text": [
            "True\n"
          ]
        }
      ]
    },
    {
      "cell_type": "code",
      "source": [
        "print('Abc'.islower())"
      ],
      "metadata": {
        "id": "jPO0quXh2Ruu",
        "outputId": "e8f1fd0e-40ce-4888-bd0f-c045c562446d",
        "colab": {
          "base_uri": "https://localhost:8080/"
        }
      },
      "execution_count": null,
      "outputs": [
        {
          "output_type": "stream",
          "name": "stdout",
          "text": [
            "False\n"
          ]
        }
      ]
    },
    {
      "cell_type": "code",
      "source": [
        "print('abc'.islower())"
      ],
      "metadata": {
        "id": "j-3adkVL2ZAo",
        "outputId": "9ec7cce5-5b3b-46b0-dd15-72c72328d72d",
        "colab": {
          "base_uri": "https://localhost:8080/"
        }
      },
      "execution_count": null,
      "outputs": [
        {
          "output_type": "stream",
          "name": "stdout",
          "text": [
            "True\n"
          ]
        }
      ]
    },
    {
      "cell_type": "code",
      "source": [
        "print(\"MANOJGHaRGE07\" .isupper())"
      ],
      "metadata": {
        "id": "ee91BJpD2b9I",
        "outputId": "84d19a29-d1e6-4659-960a-27b474edbb05",
        "colab": {
          "base_uri": "https://localhost:8080/"
        }
      },
      "execution_count": null,
      "outputs": [
        {
          "output_type": "stream",
          "name": "stdout",
          "text": [
            "False\n"
          ]
        }
      ]
    },
    {
      "cell_type": "code",
      "source": [
        "print(\"MANOJGHARGE07\" .istitle())"
      ],
      "metadata": {
        "id": "GIlFcUaI2mG7",
        "outputId": "19aae8c7-c1e2-439d-fc69-f1d61bdf6d2c",
        "colab": {
          "base_uri": "https://localhost:8080/"
        }
      },
      "execution_count": null,
      "outputs": [
        {
          "output_type": "stream",
          "name": "stdout",
          "text": [
            "False\n"
          ]
        }
      ]
    },
    {
      "cell_type": "code",
      "source": [
        "print(\"Manoj Gharge07\" .istitle())"
      ],
      "metadata": {
        "id": "vyf04U4v2uJM",
        "outputId": "0625b6d6-d5f8-4aee-9b6a-79ece8393294",
        "colab": {
          "base_uri": "https://localhost:8080/"
        }
      },
      "execution_count": null,
      "outputs": [
        {
          "output_type": "stream",
          "name": "stdout",
          "text": [
            "True\n"
          ]
        }
      ]
    },
    {
      "cell_type": "code",
      "source": [
        "print(\"  \" .isspace())"
      ],
      "metadata": {
        "id": "osgilMpZ20Yc",
        "outputId": "31cfb2b4-65ba-48f6-d453-f4875b7ce025",
        "colab": {
          "base_uri": "https://localhost:8080/"
        }
      },
      "execution_count": null,
      "outputs": [
        {
          "output_type": "stream",
          "name": "stdout",
          "text": [
            "True\n"
          ]
        }
      ]
    },
    {
      "cell_type": "code",
      "source": [
        "print(\" MANOJGHARGE07 \" .isspace())"
      ],
      "metadata": {
        "id": "lkoQ_WbB28r4",
        "outputId": "85e21edc-2ef3-48bc-ede6-9f9bda52cea6",
        "colab": {
          "base_uri": "https://localhost:8080/"
        }
      },
      "execution_count": null,
      "outputs": [
        {
          "output_type": "stream",
          "name": "stdout",
          "text": [
            "False\n"
          ]
        }
      ]
    },
    {
      "cell_type": "code",
      "source": [
        "print(\" \" .isspace())"
      ],
      "metadata": {
        "id": "MGCh3YPV3AT4",
        "outputId": "622500d2-e2d9-411c-a446-5596bae708eb",
        "colab": {
          "base_uri": "https://localhost:8080/"
        }
      },
      "execution_count": null,
      "outputs": [
        {
          "output_type": "stream",
          "name": "stdout",
          "text": [
            "True\n"
          ]
        }
      ]
    },
    {
      "cell_type": "code",
      "source": [
        "#Formatting the Strings:\n",
        "#We can format the strings with variable values by using replacement operator {} and format() method:\n",
        "name='Manoj'\n",
        "salary=10000\n",
        "age=28\n",
        "\n",
        "print(\"{}'s salary is {} and his age is{}\".format(name,salary,age))\n",
        "print(\"{0}'s salary is {1} and his age is {2}\".format(name,salary,age))\n",
        "print(\"{a}'s salary is {b} and his age is {c}\".format(a=name,b=salary,c=age))"
      ],
      "metadata": {
        "id": "P9ejHdTj3bau",
        "outputId": "efe97059-6dca-4a0b-b287-749bad4f264f",
        "colab": {
          "base_uri": "https://localhost:8080/"
        }
      },
      "execution_count": null,
      "outputs": [
        {
          "output_type": "stream",
          "name": "stdout",
          "text": [
            "Manoj's salary is 10000 and his age is28\n",
            "Manoj's salary is 10000 and his age is 28\n",
            "Manoj's salary is 10000 and his age is 28\n"
          ]
        }
      ]
    },
    {
      "cell_type": "code",
      "source": [
        "#Formatting the Strings:\n",
        "#We can format the strings with variable values by using replacement operator {} and format() method:\n",
        "name='Manoj'\n",
        "salary=10000\n",
        "age=28\n",
        "print(\"{}'s salary is {} and his age is{}\".format(name,salary,age))\n",
        "print(\"{0}'s salary is {1} and his age is {2}\".format(name,salary,age))\n",
        "print(\"{a}'s salary is {b} and his age is {c}\".format(a=name,b=salary,c=age))"
      ],
      "metadata": {
        "id": "xx6x3pRd4bGy",
        "outputId": "9278ede6-bde5-4f0f-866c-c3b19c2de353",
        "colab": {
          "base_uri": "https://localhost:8080/"
        }
      },
      "execution_count": null,
      "outputs": [
        {
          "output_type": "stream",
          "name": "stdout",
          "text": [
            "Manoj's salary is 10000 and his age is28\n",
            "Manoj's salary is 10000 and his age is 28\n",
            "Manoj's salary is 10000 and his age is 28\n"
          ]
        }
      ]
    },
    {
      "cell_type": "code",
      "source": [
        "#a Program to Reverse the given String:\n",
        "a=input(\"Enter any String :\")\n",
        "print(a[::-1])"
      ],
      "metadata": {
        "id": "95KPlHII4qH-",
        "outputId": "29faa9eb-83ac-4cd0-e489-4c446058dd37",
        "colab": {
          "base_uri": "https://localhost:8080/"
        }
      },
      "execution_count": null,
      "outputs": [
        {
          "output_type": "stream",
          "name": "stdout",
          "text": [
            "Enter any String :Manoj Gharge\n",
            "egrahG jonaM\n"
          ]
        }
      ]
    },
    {
      "cell_type": "code",
      "source": [
        "s= 'science'\n",
        "''.join(reversed(s))"
      ],
      "metadata": {
        "id": "oE6Z0FAA5LGt",
        "outputId": "d3e6f44a-cc0b-46a5-db6c-91188978d33b",
        "colab": {
          "base_uri": "https://localhost:8080/",
          "height": 35
        }
      },
      "execution_count": null,
      "outputs": [
        {
          "output_type": "execute_result",
          "data": {
            "text/plain": [
              "'ecneics'"
            ],
            "application/vnd.google.colaboratory.intrinsic+json": {
              "type": "string"
            }
          },
          "metadata": {},
          "execution_count": 68
        }
      ]
    },
    {
      "cell_type": "code",
      "source": [
        "#Program to Reverse Order of Words\n",
        "#Input: Learning Python is very Easy\n",
        "#Output: Easy Very is Python Learning:\n",
        "m=\"Data Science is difficult Langauge to Understand\"\n",
        "l=m.split()\n",
        "l1=[]\n",
        "i=len(l)-1\n",
        "while i>=0:\n",
        "  l1.append(l[i])\n",
        "  i=i-1\n",
        "output=' '.join(l1)\n",
        "print(output)"
      ],
      "metadata": {
        "id": "mnbHETCH5cK9",
        "outputId": "14d5d53f-739d-4187-a3ea-389e40578c83",
        "colab": {
          "base_uri": "https://localhost:8080/"
        }
      },
      "execution_count": null,
      "outputs": [
        {
          "output_type": "stream",
          "name": "stdout",
          "text": [
            "Understand to Langauge difficult is Science Data\n"
          ]
        }
      ]
    },
    {
      "cell_type": "code",
      "source": [
        "#a Program to Remove Duplicate Characters from the given Input String:\n",
        "s=input(\"Enter any String :\")\n",
        "l=[]\n",
        "for x in s:\n",
        "  if x not in l:\n",
        "     l.append(x)\n",
        "t=' '.join(l)\n",
        "print(t)"
      ],
      "metadata": {
        "id": "mwfjIkJZ6FdG",
        "outputId": "e610cce7-d009-490c-9efe-7b06fb480d1f",
        "colab": {
          "base_uri": "https://localhost:8080/"
        }
      },
      "execution_count": null,
      "outputs": [
        {
          "output_type": "stream",
          "name": "stdout",
          "text": [
            "Enter any String :aasdffgddfhhvcvbjf\n",
            "a s d f g h v c b j\n"
          ]
        }
      ]
    },
    {
      "cell_type": "code",
      "source": [
        "#a Program to find the Number of Occurrences of each Character present in the given String:\n",
        "s=input(\"Enter Some String:\")\n",
        "d={}\n",
        "for x in s:\n",
        "  if x in d.keys():\n",
        "     d[x]=d[x]+1\n",
        "  else:\n",
        "     d[x]=1\n",
        "for k,v in d.items():\n",
        "   print(\"{} = {} Times\".format(k,v))"
      ],
      "metadata": {
        "id": "6VZAVXx96btM",
        "outputId": "ab1115f8-7d1d-41b5-da78-788b606038b8",
        "colab": {
          "base_uri": "https://localhost:8080/"
        }
      },
      "execution_count": null,
      "outputs": [
        {
          "output_type": "stream",
          "name": "stdout",
          "text": [
            "Enter Some String:mmmnnnoooopppppo\n",
            "m = 3 Times\n",
            "n = 3 Times\n",
            "o = 5 Times\n",
            "p = 5 Times\n"
          ]
        }
      ]
    },
    {
      "cell_type": "code",
      "source": [
        "s=\"aaasssdddddffffggggzzzzhhhh\"\n",
        "f={}\n",
        "for x in s:\n",
        "  if x in f.keys():\n",
        "     f[x]=f[x]+1\n",
        "  else:\n",
        "     f[x]=1"
      ],
      "metadata": {
        "id": "93fbFOWy64KE"
      },
      "execution_count": null,
      "outputs": []
    },
    {
      "cell_type": "code",
      "source": [
        "f"
      ],
      "metadata": {
        "id": "9VvjB5aO7QzP",
        "outputId": "aba236db-dac3-4db8-a2dc-0b6983946205",
        "colab": {
          "base_uri": "https://localhost:8080/"
        }
      },
      "execution_count": null,
      "outputs": [
        {
          "output_type": "execute_result",
          "data": {
            "text/plain": [
              "{'a': 3, 'd': 5, 'f': 4, 'g': 4, 'h': 4, 's': 3, 'z': 4}"
            ]
          },
          "metadata": {},
          "execution_count": 124
        }
      ]
    },
    {
      "cell_type": "code",
      "source": [
        ""
      ],
      "metadata": {
        "id": "NHW8muJ07dn1"
      },
      "execution_count": null,
      "outputs": []
    }
  ]
}