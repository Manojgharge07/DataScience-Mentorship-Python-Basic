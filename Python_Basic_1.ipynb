{
  "nbformat": 4,
  "nbformat_minor": 0,
  "metadata": {
    "colab": {
      "name": "Python Basic_1.ipynb",
      "provenance": [],
      "authorship_tag": "ABX9TyOCdv1C6RK7h4ffGammFJ4i",
      "include_colab_link": true
    },
    "kernelspec": {
      "name": "python3",
      "display_name": "Python 3"
    },
    "language_info": {
      "name": "python"
    }
  },
  "cells": [
    {
      "cell_type": "markdown",
      "metadata": {
        "id": "view-in-github",
        "colab_type": "text"
      },
      "source": [
        "<a href=\"https://colab.research.google.com/github/Manojgharge07/DataScience-Mentorship-Python-Basic/blob/main/Python_Basic_1.ipynb\" target=\"_parent\"><img src=\"https://colab.research.google.com/assets/colab-badge.svg\" alt=\"Open In Colab\"/></a>"
      ]
    },
    {
      "cell_type": "code",
      "execution_count": null,
      "metadata": {
        "colab": {
          "base_uri": "https://localhost:8080/"
        },
        "id": "Hi83uM1Sh9pn",
        "outputId": "b885064e-d3f0-4243-f028-1e0deda25fb5"
      },
      "outputs": [
        {
          "output_type": "stream",
          "name": "stdout",
          "text": [
            "Hello, World\n"
          ]
        }
      ],
      "source": [
        "# Print as it is:\n",
        "print(\"Hello, World\")"
      ]
    },
    {
      "cell_type": "code",
      "source": [
        "# Str data types:\n",
        "print(\"I am 'Manoj Gharge'. I am a 'Mechanical Engineer.\")"
      ],
      "metadata": {
        "colab": {
          "base_uri": "https://localhost:8080/"
        },
        "id": "XZ2aHm3Ojq1j",
        "outputId": "d92a7b11-52c1-4e10-c84e-bed9898dfbab"
      },
      "execution_count": null,
      "outputs": [
        {
          "output_type": "stream",
          "name": "stdout",
          "text": [
            "I am 'Manoj Gharge'. I am a 'Mechanical Engineer.\n"
          ]
        }
      ]
    },
    {
      "cell_type": "code",
      "source": [
        "# Str double quotes data types:\n",
        "print(\"\"\"Python is \"simple language\", and it is easy to understand.\"\"\")"
      ],
      "metadata": {
        "colab": {
          "base_uri": "https://localhost:8080/"
        },
        "id": "v47-dZZakg04",
        "outputId": "46a237cf-e1ff-41a9-95f9-2ab83d148411"
      },
      "execution_count": null,
      "outputs": [
        {
          "output_type": "stream",
          "name": "stdout",
          "text": [
            "Python is \"simple language\", and it is easy to understand.\n"
          ]
        }
      ]
    },
    {
      "cell_type": "code",
      "source": [
        "print(\"In Python there are many Data Types:\")"
      ],
      "metadata": {
        "colab": {
          "base_uri": "https://localhost:8080/"
        },
        "id": "fPh0OyJ0nPQ3",
        "outputId": "ba4d8047-09bd-4d7f-d1fa-6bd62668e8ab"
      },
      "execution_count": null,
      "outputs": [
        {
          "output_type": "stream",
          "name": "stdout",
          "text": [
            "In Python there are many Data Types:\n"
          ]
        }
      ]
    },
    {
      "cell_type": "code",
      "source": [
        "print(\"int, float, complex, boolean, str, slice, len, dict etc.\")"
      ],
      "metadata": {
        "colab": {
          "base_uri": "https://localhost:8080/"
        },
        "id": "B6Rtbt3cq9oa",
        "outputId": "2fd34a09-285d-4c4e-a8c4-f70022116a9a"
      },
      "execution_count": null,
      "outputs": [
        {
          "output_type": "stream",
          "name": "stdout",
          "text": [
            "int, float, complex, boolean, str, slice, len, dict etc.\n"
          ]
        }
      ]
    },
    {
      "cell_type": "code",
      "source": [
        "# To check the type of variable:\n",
        "x = 20\n",
        "print(type(x))"
      ],
      "metadata": {
        "colab": {
          "base_uri": "https://localhost:8080/"
        },
        "id": "hmLs-9_grdTJ",
        "outputId": "474305e1-f2e9-467b-db24-0842d2b355c4"
      },
      "execution_count": null,
      "outputs": [
        {
          "output_type": "stream",
          "name": "stdout",
          "text": [
            "<class 'int'>\n"
          ]
        }
      ]
    },
    {
      "cell_type": "code",
      "source": [
        "# Display the last no of variables:\n",
        "x = 35\n",
        "y = 20\n",
        "x\n",
        "y"
      ],
      "metadata": {
        "colab": {
          "base_uri": "https://localhost:8080/"
        },
        "id": "uJfnPYSA0246",
        "outputId": "9d496404-7ccb-48de-878a-0fa8026b39c0"
      },
      "execution_count": null,
      "outputs": [
        {
          "output_type": "execute_result",
          "data": {
            "text/plain": [
              "20"
            ]
          },
          "metadata": {},
          "execution_count": 24
        }
      ]
    },
    {
      "cell_type": "code",
      "source": [
        "# Without print getting same value:\n",
        "m = 50\n",
        "m"
      ],
      "metadata": {
        "colab": {
          "base_uri": "https://localhost:8080/"
        },
        "id": "vSjvIWYT1og7",
        "outputId": "ba4be06b-e373-42a8-8ab7-245c9d5c48c2"
      },
      "execution_count": null,
      "outputs": [
        {
          "output_type": "execute_result",
          "data": {
            "text/plain": [
              "50"
            ]
          },
          "metadata": {},
          "execution_count": 37
        }
      ]
    },
    {
      "cell_type": "code",
      "source": [
        "# To check the types of variables:\n",
        "a = 30\n",
        "b = 45.00\n",
        "c = \"Thirty\"\n",
        "d = 2.7e3\n",
        "e = \"10\"\n",
        "print(type(a))\n",
        "print(type(b))\n",
        "print(type(c))\n",
        "print(type(d))\n",
        "print(type(e))"
      ],
      "metadata": {
        "colab": {
          "base_uri": "https://localhost:8080/"
        },
        "id": "snwwLtS72Jsd",
        "outputId": "08710721-3ec5-40fc-fb5c-ea77137d05b8"
      },
      "execution_count": null,
      "outputs": [
        {
          "output_type": "stream",
          "name": "stdout",
          "text": [
            "<class 'int'>\n",
            "<class 'float'>\n",
            "<class 'str'>\n",
            "<class 'float'>\n",
            "<class 'str'>\n"
          ]
        }
      ]
    },
    {
      "cell_type": "code",
      "source": [
        "# To check the location and ID of the veriables:\n",
        "x = 65\n",
        "y = 45\n",
        "print(id(x))\n",
        "print(id(y))"
      ],
      "metadata": {
        "colab": {
          "base_uri": "https://localhost:8080/"
        },
        "id": "FSN4RAXs3bDU",
        "outputId": "d1c78c44-2961-4d5e-e5f8-d9e56c7bdc43"
      },
      "execution_count": null,
      "outputs": [
        {
          "output_type": "stream",
          "name": "stdout",
          "text": [
            "94394231816704\n",
            "94394231816064\n"
          ]
        }
      ]
    },
    {
      "cell_type": "code",
      "source": [
        "# Same ID no. of different variables:\n",
        "a = 50\n",
        "b = 50\n",
        "print(id(a))\n",
        "print(id(b))"
      ],
      "metadata": {
        "colab": {
          "base_uri": "https://localhost:8080/"
        },
        "id": "QAYzuB0m69Y2",
        "outputId": "5864704a-3f55-442a-b237-87c9b6935906"
      },
      "execution_count": null,
      "outputs": [
        {
          "output_type": "stream",
          "name": "stdout",
          "text": [
            "94394231816224\n",
            "94394231816224\n"
          ]
        }
      ]
    },
    {
      "cell_type": "code",
      "source": [
        "#1a Integer Variables:\n",
        "x = 25\n",
        "x\n"
      ],
      "metadata": {
        "colab": {
          "base_uri": "https://localhost:8080/"
        },
        "id": "Hi3BONxq8_s3",
        "outputId": "86e8308f-4e64-4fc7-ed4e-1dc93d352f55"
      },
      "execution_count": null,
      "outputs": [
        {
          "output_type": "execute_result",
          "data": {
            "text/plain": [
              "25"
            ]
          },
          "metadata": {},
          "execution_count": 43
        }
      ]
    },
    {
      "cell_type": "code",
      "source": [
        "#1b Int veriables with print:\n",
        "x = 25\n",
        "print(x)"
      ],
      "metadata": {
        "colab": {
          "base_uri": "https://localhost:8080/"
        },
        "id": "5IByCW-E-PXY",
        "outputId": "c5155245-af55-4284-bfb1-232e2b8af6e4"
      },
      "execution_count": null,
      "outputs": [
        {
          "output_type": "stream",
          "name": "stdout",
          "text": [
            "25\n"
          ]
        }
      ]
    },
    {
      "cell_type": "code",
      "source": [
        "#1 Float veriables without print:\n",
        "a = 25.78\n",
        "a"
      ],
      "metadata": {
        "colab": {
          "base_uri": "https://localhost:8080/"
        },
        "id": "0duWhcp_-fTj",
        "outputId": "fcd2bf49-6f3c-41b2-fa50-7095bc01ce2c"
      },
      "execution_count": null,
      "outputs": [
        {
          "output_type": "execute_result",
          "data": {
            "text/plain": [
              "25.78"
            ]
          },
          "metadata": {},
          "execution_count": 49
        }
      ]
    },
    {
      "cell_type": "code",
      "source": [
        "#1a Complax veriables:\n",
        "a = 15+20j\n",
        "b = 25+10j\n",
        "c = a+b\n",
        "print(c)"
      ],
      "metadata": {
        "colab": {
          "base_uri": "https://localhost:8080/"
        },
        "id": "hcMkeEty_Ci9",
        "outputId": "5bd5ea72-d447-409c-bb40-1a1698066717"
      },
      "execution_count": null,
      "outputs": [
        {
          "output_type": "stream",
          "name": "stdout",
          "text": [
            "(40+30j)\n"
          ]
        }
      ]
    },
    {
      "cell_type": "code",
      "source": [
        "#1b Complax veriables:\n",
        "a = 5+10j\n",
        "b = 15+7j\n",
        "c = a*b\n",
        "print(c)"
      ],
      "metadata": {
        "colab": {
          "base_uri": "https://localhost:8080/"
        },
        "id": "dflQCBs9AOIt",
        "outputId": "8e9f5d01-6b5e-4659-b9d8-99f95599275a"
      },
      "execution_count": null,
      "outputs": [
        {
          "output_type": "stream",
          "name": "stdout",
          "text": [
            "(5+185j)\n"
          ]
        }
      ]
    },
    {
      "cell_type": "code",
      "source": [
        "#1 Bollean data types:\n",
        "a = 25\n",
        "b = 30\n",
        "c = a < b\n",
        "print(c)"
      ],
      "metadata": {
        "colab": {
          "base_uri": "https://localhost:8080/"
        },
        "id": "DRxnES30Bkfb",
        "outputId": "799eadf8-2e1f-4991-f22f-74d25ca39679"
      },
      "execution_count": null,
      "outputs": [
        {
          "output_type": "stream",
          "name": "stdout",
          "text": [
            "True\n"
          ]
        }
      ]
    },
    {
      "cell_type": "code",
      "source": [
        "#2 bollean\n",
        "a = 45\n",
        "b = 20\n",
        "c = a < b\n",
        "print(c)"
      ],
      "metadata": {
        "colab": {
          "base_uri": "https://localhost:8080/"
        },
        "id": "iOYhl7KdCj6m",
        "outputId": "5161ceae-25c2-4a76-83fb-3a8e84436f0f"
      },
      "execution_count": null,
      "outputs": [
        {
          "output_type": "stream",
          "name": "stdout",
          "text": [
            "False\n"
          ]
        }
      ]
    },
    {
      "cell_type": "code",
      "source": [
        "# Str data types:\n",
        "a = \"Manoj Gharge\"\n",
        "b = \"7841943107\"\n",
        "c = 'Mechanical Engineer'\n",
        "d = '06041994'\n",
        "print(type(a))\n",
        "print(type(b))\n",
        "print(type(c))\n",
        "print(type(d))"
      ],
      "metadata": {
        "colab": {
          "base_uri": "https://localhost:8080/"
        },
        "id": "2SpD1HMuDDCx",
        "outputId": "6ffad7b1-5e74-461f-fe1e-6ee3d3540fe3"
      },
      "execution_count": null,
      "outputs": [
        {
          "output_type": "stream",
          "name": "stdout",
          "text": [
            "<class 'str'>\n",
            "<class 'str'>\n",
            "<class 'str'>\n",
            "<class 'str'>\n"
          ]
        }
      ]
    },
    {
      "cell_type": "code",
      "source": [
        "# Slice []:\n",
        "x = \"Prescriptive Analytics\"\n",
        "print(x[10])\n",
        "print(x[7])\n",
        "print(x[12])\n",
        "print(x[20])\n",
        "print(x[-16])\n",
        "print(x[-1])\n",
        "print(x[0])\n",
        "print(x[2])"
      ],
      "metadata": {
        "colab": {
          "base_uri": "https://localhost:8080/"
        },
        "id": "ztGweIxwGX44",
        "outputId": "f6b91dc4-2ac6-49ca-fc91-36338366f589"
      },
      "execution_count": null,
      "outputs": [
        {
          "output_type": "stream",
          "name": "stdout",
          "text": [
            "v\n",
            "p\n",
            " \n",
            "c\n",
            "i\n",
            "s\n",
            "P\n",
            "e\n"
          ]
        }
      ]
    },
    {
      "cell_type": "code",
      "source": [
        "# Slice perticular in Range:\n",
        "a = \"Prescriptive Analytics\"\n",
        "a [2:18]\n"
      ],
      "metadata": {
        "colab": {
          "base_uri": "https://localhost:8080/",
          "height": 35
        },
        "id": "iS5VfhsRMyly",
        "outputId": "2dce3f96-66f8-497e-82d6-7d74a4061b63"
      },
      "execution_count": null,
      "outputs": [
        {
          "output_type": "execute_result",
          "data": {
            "text/plain": [
              "'escriptive Analy'"
            ],
            "application/vnd.google.colaboratory.intrinsic+json": {
              "type": "string"
            }
          },
          "metadata": {},
          "execution_count": 82
        }
      ]
    },
    {
      "cell_type": "code",
      "source": [
        "# Slice up to the digit forword:\n",
        "m = \" Prescriptive Analytics \"\n",
        "m [0:5]"
      ],
      "metadata": {
        "colab": {
          "base_uri": "https://localhost:8080/",
          "height": 35
        },
        "id": "QNDlBWcFN5Ee",
        "outputId": "360d6e3e-26d8-4253-af09-717fdbbc5331"
      },
      "execution_count": null,
      "outputs": [
        {
          "output_type": "execute_result",
          "data": {
            "text/plain": [
              "' Pres'"
            ],
            "application/vnd.google.colaboratory.intrinsic+json": {
              "type": "string"
            }
          },
          "metadata": {},
          "execution_count": 91
        }
      ]
    },
    {
      "cell_type": "code",
      "source": [
        "# Slice up to the digit backword:\n",
        "n = \"Prescriptive Analytics\"\n",
        "n [0:-7]"
      ],
      "metadata": {
        "colab": {
          "base_uri": "https://localhost:8080/",
          "height": 35
        },
        "id": "f24VrMdXP86Q",
        "outputId": "d2b0bd9e-5cc7-4e5d-b000-3916abac59c7"
      },
      "execution_count": null,
      "outputs": [
        {
          "output_type": "execute_result",
          "data": {
            "text/plain": [
              "'Prescriptive An'"
            ],
            "application/vnd.google.colaboratory.intrinsic+json": {
              "type": "string"
            }
          },
          "metadata": {},
          "execution_count": 92
        }
      ]
    },
    {
      "cell_type": "code",
      "source": [
        "# slice: \n",
        "s = \"Prescriptive Analytics\"\n",
        "s [4: ]"
      ],
      "metadata": {
        "colab": {
          "base_uri": "https://localhost:8080/",
          "height": 35
        },
        "id": "lATHw_xDQTK8",
        "outputId": "520162da-25ab-402d-aaaa-a7900361cab9"
      },
      "execution_count": null,
      "outputs": [
        {
          "output_type": "execute_result",
          "data": {
            "text/plain": [
              "'criptive Analytics'"
            ],
            "application/vnd.google.colaboratory.intrinsic+json": {
              "type": "string"
            }
          },
          "metadata": {},
          "execution_count": 96
        }
      ]
    },
    {
      "cell_type": "code",
      "source": [
        "#Slice []:\n",
        "p = \"Prescriptive Analytics\"\n",
        "p [:]"
      ],
      "metadata": {
        "colab": {
          "base_uri": "https://localhost:8080/",
          "height": 35
        },
        "id": "jCXeoBUYRalx",
        "outputId": "45b92529-bf08-498c-dfce-b1f7a80cbd90"
      },
      "execution_count": null,
      "outputs": [
        {
          "output_type": "execute_result",
          "data": {
            "text/plain": [
              "'Prescriptive Analytics'"
            ],
            "application/vnd.google.colaboratory.intrinsic+json": {
              "type": "string"
            }
          },
          "metadata": {},
          "execution_count": 98
        }
      ]
    },
    {
      "cell_type": "code",
      "source": [
        "# Len:\n",
        "m = \"Prescriptive Analytics\"\n",
        "len(m)"
      ],
      "metadata": {
        "colab": {
          "base_uri": "https://localhost:8080/"
        },
        "id": "y38k1knqRqNN",
        "outputId": "3e59f761-b24c-4e54-d35a-00439bb65926"
      },
      "execution_count": null,
      "outputs": [
        {
          "output_type": "execute_result",
          "data": {
            "text/plain": [
              "22"
            ]
          },
          "metadata": {},
          "execution_count": 102
        }
      ]
    },
    {
      "cell_type": "code",
      "source": [
        "# int addition:\n",
        "m = 15\n",
        "n = 20\n",
        "print(int(m+n))"
      ],
      "metadata": {
        "colab": {
          "base_uri": "https://localhost:8080/"
        },
        "id": "joa9SMQ4SOMi",
        "outputId": "9e253ed0-2478-4fab-f85d-bd3101a9cf56"
      },
      "execution_count": null,
      "outputs": [
        {
          "output_type": "stream",
          "name": "stdout",
          "text": [
            "35\n"
          ]
        }
      ]
    },
    {
      "cell_type": "code",
      "source": [
        "# Float substraction:\n",
        "a = 50\n",
        "b = 20\n",
        "print(float(a-b))"
      ],
      "metadata": {
        "colab": {
          "base_uri": "https://localhost:8080/"
        },
        "id": "0oXmqmowTmLd",
        "outputId": "5c4a6f49-4dca-4d0a-da36-7aaf454b9f4b"
      },
      "execution_count": null,
      "outputs": [
        {
          "output_type": "stream",
          "name": "stdout",
          "text": [
            "30.0\n"
          ]
        }
      ]
    },
    {
      "cell_type": "code",
      "source": [
        "# int multiplication:\n",
        "m = 5\n",
        "p = 9\n",
        "print(int(m*p))"
      ],
      "metadata": {
        "colab": {
          "base_uri": "https://localhost:8080/"
        },
        "id": "Zbs_UsgTUEU6",
        "outputId": "ffc9383d-98fc-47f5-debf-2e658fb955c9"
      },
      "execution_count": null,
      "outputs": [
        {
          "output_type": "stream",
          "name": "stdout",
          "text": [
            "45\n"
          ]
        }
      ]
    },
    {
      "cell_type": "code",
      "source": [
        "# float multiplication:\n",
        "x = 10.70\n",
        "y = 4.50\n",
        "print(float(x*y))"
      ],
      "metadata": {
        "colab": {
          "base_uri": "https://localhost:8080/"
        },
        "id": "79iq9ZN_UaSC",
        "outputId": "50387353-0a73-42a4-a735-23b0f57d9166"
      },
      "execution_count": null,
      "outputs": [
        {
          "output_type": "stream",
          "name": "stdout",
          "text": [
            "48.15\n"
          ]
        }
      ]
    },
    {
      "cell_type": "code",
      "source": [
        "# int Divided:\n",
        "r = 50.00\n",
        "t = 10\n",
        "print(int(r/t))"
      ],
      "metadata": {
        "colab": {
          "base_uri": "https://localhost:8080/"
        },
        "id": "qN70KwBnUybO",
        "outputId": "2a4191a8-1644-4903-893c-1c747936baa5"
      },
      "execution_count": null,
      "outputs": [
        {
          "output_type": "stream",
          "name": "stdout",
          "text": [
            "5\n"
          ]
        }
      ]
    }
  ]
}