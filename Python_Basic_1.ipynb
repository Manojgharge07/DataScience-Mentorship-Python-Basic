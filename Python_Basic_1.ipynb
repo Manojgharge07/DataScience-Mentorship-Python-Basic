{
  "nbformat": 4,
  "nbformat_minor": 0,
  "metadata": {
    "colab": {
      "name": "Python Basic_1.ipynb",
      "provenance": [],
      "authorship_tag": "ABX9TyNSOcZARsommhu0hF/vTiBr",
      "include_colab_link": true
    },
    "kernelspec": {
      "name": "python3",
      "display_name": "Python 3"
    },
    "language_info": {
      "name": "python"
    }
  },
  "cells": [
    {
      "cell_type": "markdown",
      "metadata": {
        "id": "view-in-github",
        "colab_type": "text"
      },
      "source": [
        "<a href=\"https://colab.research.google.com/github/Manojgharge07/DataScience-Mentorship-Python-Basic/blob/main/Python_Basic_1.ipynb\" target=\"_parent\"><img src=\"https://colab.research.google.com/assets/colab-badge.svg\" alt=\"Open In Colab\"/></a>"
      ]
    },
    {
      "cell_type": "markdown",
      "source": [
        "# **Python**\n",
        "\n",
        "Python is a general purpose high level programming language.\n",
        "\n",
        " Python was developed by Guido Van Rossam in 1989 while working at National Research Institute at Netherlands.\n",
        "\n",
        " But officially Python was made available to public in 1991. The official Date of Birth for\n",
        "\n",
        "Python is : Feb 20th 1991.\n",
        "\n",
        " Python is recommended as first programming language for beginners.\n",
        "\n",
        "Eg1: To print Helloworld"
      ],
      "metadata": {
        "id": "c1NGS0YGjObz"
      }
    },
    {
      "cell_type": "code",
      "execution_count": null,
      "metadata": {
        "colab": {
          "base_uri": "https://localhost:8080/"
        },
        "id": "Hi83uM1Sh9pn",
        "outputId": "b885064e-d3f0-4243-f028-1e0deda25fb5"
      },
      "outputs": [
        {
          "output_type": "stream",
          "name": "stdout",
          "text": [
            "Hello, World\n"
          ]
        }
      ],
      "source": [
        "# Print as it is:\n",
        "print(\"Hello, World\")"
      ]
    },
    {
      "cell_type": "code",
      "source": [
        "# Str data types:\n",
        "print(\"I am 'Manoj Gharge'. I am a 'Mechanical Engineer.\")"
      ],
      "metadata": {
        "colab": {
          "base_uri": "https://localhost:8080/"
        },
        "id": "XZ2aHm3Ojq1j",
        "outputId": "d92a7b11-52c1-4e10-c84e-bed9898dfbab"
      },
      "execution_count": null,
      "outputs": [
        {
          "output_type": "stream",
          "name": "stdout",
          "text": [
            "I am 'Manoj Gharge'. I am a 'Mechanical Engineer.\n"
          ]
        }
      ]
    },
    {
      "cell_type": "code",
      "source": [
        "# Str double quotes data types:\n",
        "print(\"\"\"Python is \"simple language\", and it is easy to understand.\"\"\")"
      ],
      "metadata": {
        "colab": {
          "base_uri": "https://localhost:8080/"
        },
        "id": "v47-dZZakg04",
        "outputId": "46a237cf-e1ff-41a9-95f9-2ab83d148411"
      },
      "execution_count": null,
      "outputs": [
        {
          "output_type": "stream",
          "name": "stdout",
          "text": [
            "Python is \"simple language\", and it is easy to understand.\n"
          ]
        }
      ]
    },
    {
      "cell_type": "code",
      "source": [
        "print(\"In Python there are many Data Types:\")"
      ],
      "metadata": {
        "colab": {
          "base_uri": "https://localhost:8080/"
        },
        "id": "fPh0OyJ0nPQ3",
        "outputId": "ba4d8047-09bd-4d7f-d1fa-6bd62668e8ab"
      },
      "execution_count": null,
      "outputs": [
        {
          "output_type": "stream",
          "name": "stdout",
          "text": [
            "In Python there are many Data Types:\n"
          ]
        }
      ]
    },
    {
      "cell_type": "code",
      "source": [
        "print(\"int, float, complex, boolean, str, slice, len, dict etc.\")"
      ],
      "metadata": {
        "colab": {
          "base_uri": "https://localhost:8080/"
        },
        "id": "B6Rtbt3cq9oa",
        "outputId": "2fd34a09-285d-4c4e-a8c4-f70022116a9a"
      },
      "execution_count": null,
      "outputs": [
        {
          "output_type": "stream",
          "name": "stdout",
          "text": [
            "int, float, complex, boolean, str, slice, len, dict etc.\n"
          ]
        }
      ]
    },
    {
      "cell_type": "markdown",
      "source": [
        "Where we can use Python: We can use everywhere. The most common important application areas are\n",
        "\n",
        "1) For developing Desktop Applications\n",
        "\n",
        "2) For developing web Applications\n",
        "\n",
        "3) For developing database Applications\n",
        "\n",
        "4) For Network Programming\n",
        "\n",
        "5) For developing games\n",
        "\n",
        "6) For Data Analysis Applications\n",
        "\n",
        "7) For Machine Learning\n",
        "\n",
        "8) For developing Artificial Intelligence Applications\n",
        "\n",
        "9) For IoT\n",
        "\n",
        "# **Variables**\n",
        "## VARIABLES are entities which help us store information and retrieve it later. \n",
        "A variable with a fixed name can store information of nature like numeric, textual, boolean etc.\n",
        "A Python variable is a reserved memory location to store values. In other words, a variable in a python program gives data to the computer for processing.\n",
        "The type of data contained in a variable can be changed at user's will."
      ],
      "metadata": {
        "id": "yTDx2VA4jl8C"
      }
    },
    {
      "cell_type": "code",
      "source": [
        "# To check the type of variable:\n",
        "x = 20\n",
        "print(type(x))"
      ],
      "metadata": {
        "colab": {
          "base_uri": "https://localhost:8080/"
        },
        "id": "hmLs-9_grdTJ",
        "outputId": "474305e1-f2e9-467b-db24-0842d2b355c4"
      },
      "execution_count": null,
      "outputs": [
        {
          "output_type": "stream",
          "name": "stdout",
          "text": [
            "<class 'int'>\n"
          ]
        }
      ]
    },
    {
      "cell_type": "markdown",
      "source": [
        "# **Rules to define Identifiers/variables in Python:**\n",
        "\n",
        "The only allowed characters in Python are\n",
        " alphabet symbols(either lower case or upper case)\n",
        "\n",
        " digits(0 to 9)\n",
        "\n",
        " underscore symbol(_)\n",
        "\n",
        "By mistake if we are using any other symbol like $ then we will get syntax error.\n",
        "\n",
        " cash = 10 √\n",
        "\n",
        " ca$h =20 #wrong syntax\n",
        "\n",
        "Identifier should not starts with digit\n",
        " 123total #wrong syntax\n",
        "\n",
        " total123 √\n",
        "\n",
        "Identifiers are case sensitive. Of course Python language is case sensitive language.\n",
        " total=10\n",
        "\n",
        " TOTAL=999\n",
        "\n",
        " print(total) #10\n",
        "\n",
        " print(TOTAL) #999\n",
        "\n",
        "Identifier/Variable:\n",
        "\n",
        "1) Alphabet Symbols (Either Upper case OR Lower case)\n",
        "\n",
        "2) If Identifier is start with Underscore (_) then it indicates it is private.\n",
        "\n",
        "3) Identifier should not start with Digits.\n",
        "\n",
        "4) Identifiers are case sensitive.\n",
        "\n",
        "5) We cannot use reserved words as identifiers Eg: def = 10 #wrong\n",
        "\n",
        "6) There is no length limit for Python identifiers. But not recommended to use too lengthy identifiers.\n",
        "\n",
        "7) Dollor ($) Symbol is not allowed in Python.\n",
        "\n",
        "8) We can not use reserved words as variable names or identifiers."
      ],
      "metadata": {
        "id": "uIeNcYK5lQgq"
      }
    },
    {
      "cell_type": "code",
      "source": [
        "# We can not use reserved words as variable names or identifiers.\n",
        "import keyword\n",
        "keyword.kwlist"
      ],
      "metadata": {
        "id": "QZQ-jMWXmEiq",
        "outputId": "3ba59c31-85d3-4d0a-ab78-4e09439ecd7e",
        "colab": {
          "base_uri": "https://localhost:8080/"
        }
      },
      "execution_count": 1,
      "outputs": [
        {
          "output_type": "execute_result",
          "data": {
            "text/plain": [
              "['False',\n",
              " 'None',\n",
              " 'True',\n",
              " 'and',\n",
              " 'as',\n",
              " 'assert',\n",
              " 'async',\n",
              " 'await',\n",
              " 'break',\n",
              " 'class',\n",
              " 'continue',\n",
              " 'def',\n",
              " 'del',\n",
              " 'elif',\n",
              " 'else',\n",
              " 'except',\n",
              " 'finally',\n",
              " 'for',\n",
              " 'from',\n",
              " 'global',\n",
              " 'if',\n",
              " 'import',\n",
              " 'in',\n",
              " 'is',\n",
              " 'lambda',\n",
              " 'nonlocal',\n",
              " 'not',\n",
              " 'or',\n",
              " 'pass',\n",
              " 'raise',\n",
              " 'return',\n",
              " 'try',\n",
              " 'while',\n",
              " 'with',\n",
              " 'yield']"
            ]
          },
          "metadata": {},
          "execution_count": 1
        }
      ]
    },
    {
      "cell_type": "code",
      "source": [
        "# Display the last no of variables:\n",
        "x = 35\n",
        "y = 20\n",
        "x\n",
        "y"
      ],
      "metadata": {
        "colab": {
          "base_uri": "https://localhost:8080/"
        },
        "id": "uJfnPYSA0246",
        "outputId": "9d496404-7ccb-48de-878a-0fa8026b39c0"
      },
      "execution_count": null,
      "outputs": [
        {
          "output_type": "execute_result",
          "data": {
            "text/plain": [
              "20"
            ]
          },
          "metadata": {},
          "execution_count": 24
        }
      ]
    },
    {
      "cell_type": "code",
      "source": [
        "# Without print getting same value:\n",
        "m = 50\n",
        "m"
      ],
      "metadata": {
        "colab": {
          "base_uri": "https://localhost:8080/"
        },
        "id": "vSjvIWYT1og7",
        "outputId": "ba4be06b-e373-42a8-8ab7-245c9d5c48c2"
      },
      "execution_count": null,
      "outputs": [
        {
          "output_type": "execute_result",
          "data": {
            "text/plain": [
              "50"
            ]
          },
          "metadata": {},
          "execution_count": 37
        }
      ]
    },
    {
      "cell_type": "markdown",
      "source": [
        "# **Data Types**\n",
        "Data Type represents the type of data present inside a variable.\n",
        "\n",
        "Python contains the following inbuilt data types:\n",
        "\n",
        "1) Int 2) Float 3) Complex 4) Bool 5) Str 6) Bytes 7) Bytearray 8) Range 9) List 10) Tuple 11) Set 12) Frozenset 13) Dict 14) None"
      ],
      "metadata": {
        "id": "Tq21JuOxmZhV"
      }
    },
    {
      "cell_type": "code",
      "source": [
        "# To check the types of variables:\n",
        "a = 30\n",
        "b = 45.00\n",
        "c = \"Thirty\"\n",
        "d = 2.7e3\n",
        "e = \"10\"\n",
        "print(type(a))\n",
        "print(type(b))\n",
        "print(type(c))\n",
        "print(type(d))\n",
        "print(type(e))"
      ],
      "metadata": {
        "colab": {
          "base_uri": "https://localhost:8080/"
        },
        "id": "snwwLtS72Jsd",
        "outputId": "08710721-3ec5-40fc-fb5c-ea77137d05b8"
      },
      "execution_count": null,
      "outputs": [
        {
          "output_type": "stream",
          "name": "stdout",
          "text": [
            "<class 'int'>\n",
            "<class 'float'>\n",
            "<class 'str'>\n",
            "<class 'float'>\n",
            "<class 'str'>\n"
          ]
        }
      ]
    },
    {
      "cell_type": "code",
      "source": [
        "# To check the location and ID of the veriables:\n",
        "x = 65\n",
        "y = 45\n",
        "print(id(x))\n",
        "print(id(y))"
      ],
      "metadata": {
        "colab": {
          "base_uri": "https://localhost:8080/"
        },
        "id": "FSN4RAXs3bDU",
        "outputId": "d1c78c44-2961-4d5e-e5f8-d9e56c7bdc43"
      },
      "execution_count": null,
      "outputs": [
        {
          "output_type": "stream",
          "name": "stdout",
          "text": [
            "94394231816704\n",
            "94394231816064\n"
          ]
        }
      ]
    },
    {
      "cell_type": "code",
      "source": [
        "# Same ID no. of different variables:\n",
        "a = 50\n",
        "b = 50\n",
        "print(id(a))\n",
        "print(id(b))"
      ],
      "metadata": {
        "colab": {
          "base_uri": "https://localhost:8080/"
        },
        "id": "QAYzuB0m69Y2",
        "outputId": "5864704a-3f55-442a-b237-87c9b6935906"
      },
      "execution_count": null,
      "outputs": [
        {
          "output_type": "stream",
          "name": "stdout",
          "text": [
            "94394231816224\n",
            "94394231816224\n"
          ]
        }
      ]
    },
    {
      "cell_type": "markdown",
      "source": [
        "# **1) Int(Integer) Data Type:**"
      ],
      "metadata": {
        "id": "2Bqg7JFHmshn"
      }
    },
    {
      "cell_type": "code",
      "source": [
        "#1a Integer Variables:\n",
        "x = 25\n",
        "x\n"
      ],
      "metadata": {
        "colab": {
          "base_uri": "https://localhost:8080/"
        },
        "id": "Hi3BONxq8_s3",
        "outputId": "86e8308f-4e64-4fc7-ed4e-1dc93d352f55"
      },
      "execution_count": null,
      "outputs": [
        {
          "output_type": "execute_result",
          "data": {
            "text/plain": [
              "25"
            ]
          },
          "metadata": {},
          "execution_count": 43
        }
      ]
    },
    {
      "cell_type": "code",
      "source": [
        "#1b Int veriables with print:\n",
        "x = 25\n",
        "print(x)"
      ],
      "metadata": {
        "colab": {
          "base_uri": "https://localhost:8080/"
        },
        "id": "5IByCW-E-PXY",
        "outputId": "c5155245-af55-4284-bfb1-232e2b8af6e4"
      },
      "execution_count": null,
      "outputs": [
        {
          "output_type": "stream",
          "name": "stdout",
          "text": [
            "25\n"
          ]
        }
      ]
    },
    {
      "cell_type": "markdown",
      "source": [
        "# **2) Float Data Type:**"
      ],
      "metadata": {
        "id": "RFTr8a0Vm2jT"
      }
    },
    {
      "cell_type": "code",
      "source": [
        "#1 Float veriables without print:\n",
        "a = 25.78\n",
        "a"
      ],
      "metadata": {
        "colab": {
          "base_uri": "https://localhost:8080/"
        },
        "id": "0duWhcp_-fTj",
        "outputId": "fcd2bf49-6f3c-41b2-fa50-7095bc01ce2c"
      },
      "execution_count": null,
      "outputs": [
        {
          "output_type": "execute_result",
          "data": {
            "text/plain": [
              "25.78"
            ]
          },
          "metadata": {},
          "execution_count": 49
        }
      ]
    },
    {
      "cell_type": "markdown",
      "source": [
        ""
      ],
      "metadata": {
        "id": "O1U7Ha_NnJKt"
      }
    },
    {
      "cell_type": "markdown",
      "source": [
        "# **2) Float Data Type:**\n",
        "\n",
        "![image.png](data:image/png;base64,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)\n",
        "\n",
        "In the real part if we use int value then we can specify that either by decimal, octal, binary or hexa decimal form.\n",
        "\n",
        "But imaginary part should be specified only by using decimal form"
      ],
      "metadata": {
        "id": "HeFT-es9m_G-"
      }
    },
    {
      "cell_type": "code",
      "source": [
        "#1a Complax veriables:\n",
        "a = 15+20j\n",
        "b = 25+10j\n",
        "c = a+b\n",
        "print(c)"
      ],
      "metadata": {
        "colab": {
          "base_uri": "https://localhost:8080/"
        },
        "id": "hcMkeEty_Ci9",
        "outputId": "5bd5ea72-d447-409c-bb40-1a1698066717"
      },
      "execution_count": null,
      "outputs": [
        {
          "output_type": "stream",
          "name": "stdout",
          "text": [
            "(40+30j)\n"
          ]
        }
      ]
    },
    {
      "cell_type": "code",
      "source": [
        "#1b Complax veriables:\n",
        "a = 5+10j\n",
        "b = 15+7j\n",
        "c = a*b\n",
        "print(c)"
      ],
      "metadata": {
        "colab": {
          "base_uri": "https://localhost:8080/"
        },
        "id": "dflQCBs9AOIt",
        "outputId": "8e9f5d01-6b5e-4659-b9d8-99f95599275a"
      },
      "execution_count": null,
      "outputs": [
        {
          "output_type": "stream",
          "name": "stdout",
          "text": [
            "(5+185j)\n"
          ]
        }
      ]
    },
    {
      "cell_type": "markdown",
      "source": [
        "# **4)bool Data Type:**\n",
        "We can use this data type to represent boolean values.\n",
        "\n",
        " The only allowed values for this data type are:\n",
        "\n",
        " True and False\n",
        "\n",
        " Internally Python represents True as 1 and False as 0\n",
        "\n",
        "b = True type(b) # bool"
      ],
      "metadata": {
        "id": "M7n3PuhbnWpm"
      }
    },
    {
      "cell_type": "code",
      "source": [
        "#1 Bollean data types:\n",
        "a = 25\n",
        "b = 30\n",
        "c = a < b\n",
        "print(c)"
      ],
      "metadata": {
        "colab": {
          "base_uri": "https://localhost:8080/"
        },
        "id": "DRxnES30Bkfb",
        "outputId": "799eadf8-2e1f-4991-f22f-74d25ca39679"
      },
      "execution_count": null,
      "outputs": [
        {
          "output_type": "stream",
          "name": "stdout",
          "text": [
            "True\n"
          ]
        }
      ]
    },
    {
      "cell_type": "code",
      "source": [
        "#2 bollean\n",
        "a = 45\n",
        "b = 20\n",
        "c = a < b\n",
        "print(c)"
      ],
      "metadata": {
        "colab": {
          "base_uri": "https://localhost:8080/"
        },
        "id": "iOYhl7KdCj6m",
        "outputId": "5161ceae-25c2-4a76-83fb-3a8e84436f0f"
      },
      "execution_count": null,
      "outputs": [
        {
          "output_type": "stream",
          "name": "stdout",
          "text": [
            "False\n"
          ]
        }
      ]
    },
    {
      "cell_type": "markdown",
      "source": [
        "# **5) string(str) Data Type**\n",
        "A String is a sequence of characters enclosed within single quotes or double quotes."
      ],
      "metadata": {
        "id": "wlGpMAh7nd82"
      }
    },
    {
      "cell_type": "code",
      "source": [
        "# Str data types:\n",
        "a = \"Manoj Gharge\"\n",
        "b = \"7841943107\"\n",
        "c = 'Mechanical Engineer'\n",
        "d = '06041994'\n",
        "print(type(a))\n",
        "print(type(b))\n",
        "print(type(c))\n",
        "print(type(d))"
      ],
      "metadata": {
        "colab": {
          "base_uri": "https://localhost:8080/"
        },
        "id": "2SpD1HMuDDCx",
        "outputId": "6ffad7b1-5e74-461f-fe1e-6ee3d3540fe3"
      },
      "execution_count": null,
      "outputs": [
        {
          "output_type": "stream",
          "name": "stdout",
          "text": [
            "<class 'str'>\n",
            "<class 'str'>\n",
            "<class 'str'>\n",
            "<class 'str'>\n"
          ]
        }
      ]
    },
    {
      "cell_type": "markdown",
      "source": [
        "# **Slicing of string**\n",
        "slice means a piece\n",
        "\n",
        "2) [ ] operator is called slice operator, which can be used to retrieve parts of String.\n",
        "\n",
        "3) In Python Strings follows zero based index.\n",
        "\n",
        "4) The index can be either +ve or -ve.\n",
        "\n",
        "5) +ve index means forward direction from Left to Right\n",
        "\n",
        "6) -ve index means backward direction from Right to Left"
      ],
      "metadata": {
        "id": "O8_MdZwBn0Ye"
      }
    },
    {
      "cell_type": "code",
      "source": [
        "# Slice []:\n",
        "x = \"Prescriptive Analytics\"\n",
        "print(x[10])\n",
        "print(x[7])\n",
        "print(x[12])\n",
        "print(x[20])\n",
        "print(x[-16])\n",
        "print(x[-1])\n",
        "print(x[0])\n",
        "print(x[2])"
      ],
      "metadata": {
        "colab": {
          "base_uri": "https://localhost:8080/"
        },
        "id": "ztGweIxwGX44",
        "outputId": "f6b91dc4-2ac6-49ca-fc91-36338366f589"
      },
      "execution_count": null,
      "outputs": [
        {
          "output_type": "stream",
          "name": "stdout",
          "text": [
            "v\n",
            "p\n",
            " \n",
            "c\n",
            "i\n",
            "s\n",
            "P\n",
            "e\n"
          ]
        }
      ]
    },
    {
      "cell_type": "code",
      "source": [
        "# Slice perticular in Range:\n",
        "a = \"Prescriptive Analytics\"\n",
        "a [2:18]\n"
      ],
      "metadata": {
        "colab": {
          "base_uri": "https://localhost:8080/",
          "height": 35
        },
        "id": "iS5VfhsRMyly",
        "outputId": "2dce3f96-66f8-497e-82d6-7d74a4061b63"
      },
      "execution_count": null,
      "outputs": [
        {
          "output_type": "execute_result",
          "data": {
            "text/plain": [
              "'escriptive Analy'"
            ],
            "application/vnd.google.colaboratory.intrinsic+json": {
              "type": "string"
            }
          },
          "metadata": {},
          "execution_count": 82
        }
      ]
    },
    {
      "cell_type": "code",
      "source": [
        "# Slice up to the digit forword:\n",
        "m = \" Prescriptive Analytics \"\n",
        "m [0:5]"
      ],
      "metadata": {
        "colab": {
          "base_uri": "https://localhost:8080/",
          "height": 35
        },
        "id": "QNDlBWcFN5Ee",
        "outputId": "360d6e3e-26d8-4253-af09-717fdbbc5331"
      },
      "execution_count": null,
      "outputs": [
        {
          "output_type": "execute_result",
          "data": {
            "text/plain": [
              "' Pres'"
            ],
            "application/vnd.google.colaboratory.intrinsic+json": {
              "type": "string"
            }
          },
          "metadata": {},
          "execution_count": 91
        }
      ]
    },
    {
      "cell_type": "code",
      "source": [
        "# Slice up to the digit backword:\n",
        "n = \"Prescriptive Analytics\"\n",
        "n [0:-7]"
      ],
      "metadata": {
        "colab": {
          "base_uri": "https://localhost:8080/",
          "height": 35
        },
        "id": "f24VrMdXP86Q",
        "outputId": "d2b0bd9e-5cc7-4e5d-b000-3916abac59c7"
      },
      "execution_count": null,
      "outputs": [
        {
          "output_type": "execute_result",
          "data": {
            "text/plain": [
              "'Prescriptive An'"
            ],
            "application/vnd.google.colaboratory.intrinsic+json": {
              "type": "string"
            }
          },
          "metadata": {},
          "execution_count": 92
        }
      ]
    },
    {
      "cell_type": "code",
      "source": [
        "# slice: \n",
        "s = \"Prescriptive Analytics\"\n",
        "s [4: ]"
      ],
      "metadata": {
        "colab": {
          "base_uri": "https://localhost:8080/",
          "height": 35
        },
        "id": "lATHw_xDQTK8",
        "outputId": "520162da-25ab-402d-aaaa-a7900361cab9"
      },
      "execution_count": null,
      "outputs": [
        {
          "output_type": "execute_result",
          "data": {
            "text/plain": [
              "'criptive Analytics'"
            ],
            "application/vnd.google.colaboratory.intrinsic+json": {
              "type": "string"
            }
          },
          "metadata": {},
          "execution_count": 96
        }
      ]
    },
    {
      "cell_type": "code",
      "source": [
        "#Slice []:\n",
        "p = \"Prescriptive Analytics\"\n",
        "p [:]"
      ],
      "metadata": {
        "colab": {
          "base_uri": "https://localhost:8080/",
          "height": 35
        },
        "id": "jCXeoBUYRalx",
        "outputId": "45b92529-bf08-498c-dfce-b1f7a80cbd90"
      },
      "execution_count": null,
      "outputs": [
        {
          "output_type": "execute_result",
          "data": {
            "text/plain": [
              "'Prescriptive Analytics'"
            ],
            "application/vnd.google.colaboratory.intrinsic+json": {
              "type": "string"
            }
          },
          "metadata": {},
          "execution_count": 98
        }
      ]
    },
    {
      "cell_type": "code",
      "source": [
        "# Len:\n",
        "m = \"Prescriptive Analytics\"\n",
        "len(m)"
      ],
      "metadata": {
        "colab": {
          "base_uri": "https://localhost:8080/"
        },
        "id": "y38k1knqRqNN",
        "outputId": "3e59f761-b24c-4e54-d35a-00439bb65926"
      },
      "execution_count": null,
      "outputs": [
        {
          "output_type": "execute_result",
          "data": {
            "text/plain": [
              "22"
            ]
          },
          "metadata": {},
          "execution_count": 102
        }
      ]
    },
    {
      "cell_type": "code",
      "source": [
        "# int addition:\n",
        "m = 15\n",
        "n = 20\n",
        "print(int(m+n))"
      ],
      "metadata": {
        "colab": {
          "base_uri": "https://localhost:8080/"
        },
        "id": "joa9SMQ4SOMi",
        "outputId": "9e253ed0-2478-4fab-f85d-bd3101a9cf56"
      },
      "execution_count": null,
      "outputs": [
        {
          "output_type": "stream",
          "name": "stdout",
          "text": [
            "35\n"
          ]
        }
      ]
    },
    {
      "cell_type": "code",
      "source": [
        "# Float substraction:\n",
        "a = 50\n",
        "b = 20\n",
        "print(float(a-b))"
      ],
      "metadata": {
        "colab": {
          "base_uri": "https://localhost:8080/"
        },
        "id": "0oXmqmowTmLd",
        "outputId": "5c4a6f49-4dca-4d0a-da36-7aaf454b9f4b"
      },
      "execution_count": null,
      "outputs": [
        {
          "output_type": "stream",
          "name": "stdout",
          "text": [
            "30.0\n"
          ]
        }
      ]
    },
    {
      "cell_type": "code",
      "source": [
        "# int multiplication:\n",
        "m = 5\n",
        "p = 9\n",
        "print(int(m*p))"
      ],
      "metadata": {
        "colab": {
          "base_uri": "https://localhost:8080/"
        },
        "id": "Zbs_UsgTUEU6",
        "outputId": "ffc9383d-98fc-47f5-debf-2e658fb955c9"
      },
      "execution_count": null,
      "outputs": [
        {
          "output_type": "stream",
          "name": "stdout",
          "text": [
            "45\n"
          ]
        }
      ]
    },
    {
      "cell_type": "code",
      "source": [
        "# float multiplication:\n",
        "x = 10.70\n",
        "y = 4.50\n",
        "print(float(x*y))"
      ],
      "metadata": {
        "colab": {
          "base_uri": "https://localhost:8080/"
        },
        "id": "79iq9ZN_UaSC",
        "outputId": "50387353-0a73-42a4-a735-23b0f57d9166"
      },
      "execution_count": null,
      "outputs": [
        {
          "output_type": "stream",
          "name": "stdout",
          "text": [
            "48.15\n"
          ]
        }
      ]
    },
    {
      "cell_type": "code",
      "source": [
        "# int Divided:\n",
        "r = 50.00\n",
        "t = 10\n",
        "print(int(r/t))"
      ],
      "metadata": {
        "colab": {
          "base_uri": "https://localhost:8080/"
        },
        "id": "qN70KwBnUybO",
        "outputId": "2a4191a8-1644-4903-893c-1c747936baa5"
      },
      "execution_count": null,
      "outputs": [
        {
          "output_type": "stream",
          "name": "stdout",
          "text": [
            "5\n"
          ]
        }
      ]
    }
  ]
}